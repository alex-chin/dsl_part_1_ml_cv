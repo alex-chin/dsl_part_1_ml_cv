{
 "cells": [
  {
   "metadata": {
    "ExecuteTime": {
     "end_time": "2025-03-03T20:06:49.783947Z",
     "start_time": "2025-03-03T20:06:49.778239Z"
    }
   },
   "cell_type": "code",
   "source": [
    "import pandas as pd\n",
    "import matplotlib.pyplot as plt\n",
    "import seaborn as sns\n",
    "import numpy as np"
   ],
   "id": "50be332d15b851ae",
   "outputs": [],
   "execution_count": 195
  },
  {
   "cell_type": "code",
   "id": "initial_id",
   "metadata": {
    "collapsed": true,
    "ExecuteTime": {
     "end_time": "2025-03-03T20:06:49.811299Z",
     "start_time": "2025-03-03T20:06:49.801639Z"
    }
   },
   "source": "df = pd.read_csv(\"game_of_thrones_train.csv\", index_col=\"S.No\")\n",
   "outputs": [],
   "execution_count": 196
  },
  {
   "metadata": {
    "ExecuteTime": {
     "end_time": "2025-03-03T20:06:49.821324Z",
     "start_time": "2025-03-03T20:06:49.811299Z"
    }
   },
   "cell_type": "code",
   "source": "df.columns",
   "id": "2fa9418a4cead911",
   "outputs": [
    {
     "data": {
      "text/plain": [
       "Index(['name', 'title', 'male', 'culture', 'dateOfBirth', 'mother', 'father',\n",
       "       'heir', 'house', 'spouse', 'book1', 'book2', 'book3', 'book4', 'book5',\n",
       "       'isAliveMother', 'isAliveFather', 'isAliveHeir', 'isAliveSpouse',\n",
       "       'isMarried', 'isNoble', 'age', 'numDeadRelations', 'popularity',\n",
       "       'isAlive'],\n",
       "      dtype='object')"
      ]
     },
     "execution_count": 197,
     "metadata": {},
     "output_type": "execute_result"
    }
   ],
   "execution_count": 197
  },
  {
   "metadata": {
    "ExecuteTime": {
     "end_time": "2025-03-03T20:06:49.840817Z",
     "start_time": "2025-03-03T20:06:49.837091Z"
    }
   },
   "cell_type": "code",
   "source": "FEATURES = df.columns.tolist()",
   "id": "94751cceddaf48dd",
   "outputs": [],
   "execution_count": 198
  },
  {
   "metadata": {
    "ExecuteTime": {
     "end_time": "2025-03-03T20:06:49.862101Z",
     "start_time": "2025-03-03T20:06:49.856364Z"
    }
   },
   "cell_type": "code",
   "source": [
    "\n",
    "CULT = {\n",
    "    'Summer Islands': ['summer islands', 'summer islander', 'summer isles'],\n",
    "    'Ghiscari': ['ghiscari', 'ghiscaricari', 'ghis'],\n",
    "    'Asshai': [\"asshai'i\", 'asshai'],\n",
    "    'Lysene': ['lysene', 'lyseni'],\n",
    "    'Andal': ['andal', 'andals'],\n",
    "    'Braavosi': ['braavosi', 'braavos'],\n",
    "    'Dornish': ['dornishmen', 'dorne', 'dornish'],\n",
    "    'Myrish': ['myr', 'myrish', 'myrmen'],\n",
    "    'Westermen': ['westermen', 'westerman', 'westerlands'],\n",
    "    'Westerosi': ['westeros', 'westerosi'],\n",
    "    'Stormlander': ['stormlands', 'stormlander'],\n",
    "    'Norvoshi': ['norvos', 'norvoshi'],\n",
    "    'Northmen': ['the north', 'northmen'],\n",
    "    'Free Folk': ['wildling', 'first men', 'free folk'],\n",
    "    'Qartheen': ['qartheen', 'qarth'],\n",
    "    'Reach': ['the reach', 'reach', 'reachmen'],\n",
    "}"
   ],
   "id": "dfe71f4cb72319ea",
   "outputs": [],
   "execution_count": 199
  },
  {
   "metadata": {
    "ExecuteTime": {
     "end_time": "2025-03-03T20:06:49.889454Z",
     "start_time": "2025-03-03T20:06:49.885590Z"
    }
   },
   "cell_type": "code",
   "source": [
    "DROP_COL = ['name', 'mother', 'father', 'culture',\n",
    "            'heir', 'house', 'spouse',\n",
    "            'numDeadRelations', 'popularity',\n",
    "            'isAliveMother', 'isAliveFather', 'isAliveHeir', 'isAliveSpouse', 'isMarried', 'isNoble',\n",
    "            'culture_short',\n",
    "            ]"
   ],
   "id": "d92c412fd89b4623",
   "outputs": [],
   "execution_count": 200
  },
  {
   "metadata": {
    "ExecuteTime": {
     "end_time": "2025-03-03T20:06:49.910718Z",
     "start_time": "2025-03-03T20:06:49.906623Z"
    }
   },
   "cell_type": "code",
   "source": [
    "def prepare(df1: pd.DataFrame) -> pd.DataFrame:\n",
    "    df = df1.copy()\n",
    "\n",
    "    df.title = df.title.fillna('People')\n",
    "    df['boolDeadRelations'] = False\n",
    "    df['boolDeadRelations'] = df['numDeadRelations'] > 0\n",
    "    df['isPopular'] = False\n",
    "    df['isPopular'] = df['popularity'] >= 0.1\n",
    "    cult_dic = {}\n",
    "    for (k, v) in CULT.items():\n",
    "        for k1 in v:\n",
    "            cult_dic[k1] = k\n",
    "    df['culture_short'] = df['culture'].apply(lambda x: np.nan if pd.isna(x) else cult_dic.get(x.lower(), 'no'))\n",
    "    df['isAliveMother'] = df['isAliveMother'].astype(pd.Int64Dtype())\n",
    "\n",
    "    df.drop(columns=DROP_COL, inplace=True)\n",
    "\n",
    "    return df"
   ],
   "id": "81a4b3816c3fa414",
   "outputs": [],
   "execution_count": 201
  },
  {
   "metadata": {
    "ExecuteTime": {
     "end_time": "2025-03-03T20:06:49.931485Z",
     "start_time": "2025-03-03T20:06:49.928371Z"
    }
   },
   "cell_type": "code",
   "source": "CAT_FEATURES = ['title', 'male', 'book1', 'book2', 'book3', 'book4', 'book5',       ]",
   "id": "d01d6429e4d4354d",
   "outputs": [],
   "execution_count": 202
  },
  {
   "metadata": {
    "ExecuteTime": {
     "end_time": "2025-03-03T20:06:49.955784Z",
     "start_time": "2025-03-03T20:06:49.948941Z"
    }
   },
   "cell_type": "code",
   "source": "df = prepare(df)",
   "id": "2be1473e5b537610",
   "outputs": [],
   "execution_count": 203
  },
  {
   "metadata": {
    "ExecuteTime": {
     "end_time": "2025-03-03T20:06:49.975937Z",
     "start_time": "2025-03-03T20:06:49.970725Z"
    }
   },
   "cell_type": "code",
   "source": [
    "from sklearn.model_selection import train_test_split\n",
    "\n",
    "X_train, X_test, y_train, y_test = train_test_split(df.drop('isAlive', axis=1), df['isAlive'], test_size=0.2,\n",
    "                                                    random_state=42)"
   ],
   "id": "c0c252d37df88d02",
   "outputs": [],
   "execution_count": 204
  },
  {
   "metadata": {
    "ExecuteTime": {
     "end_time": "2025-03-03T20:06:49.993546Z",
     "start_time": "2025-03-03T20:06:49.990574Z"
    }
   },
   "cell_type": "code",
   "source": [
    "import pandas as pd\n",
    "from catboost import CatBoostClassifier, Pool\n",
    "from sklearn.metrics import accuracy_score"
   ],
   "id": "94534e60f2e00e61",
   "outputs": [],
   "execution_count": 205
  },
  {
   "metadata": {
    "ExecuteTime": {
     "end_time": "2025-03-03T20:06:50.011608Z",
     "start_time": "2025-03-03T20:06:50.008678Z"
    }
   },
   "cell_type": "code",
   "source": [
    "# Создание модели CatBoost\n",
    "model = CatBoostClassifier(iterations=100,  # Количество итераций (деревьев)\n",
    "                           learning_rate=0.1,  # Скорость обучения\n",
    "                           depth=6,  # Глубина деревьев\n",
    "                           loss_function='Logloss',  # Функция потерь\n",
    "                           verbose=10)  # Вывод информации о процессе обучения\n",
    "\n",
    "# Обучение модели"
   ],
   "id": "22dd19e65527aaae",
   "outputs": [],
   "execution_count": 206
  },
  {
   "metadata": {
    "ExecuteTime": {
     "end_time": "2025-03-03T20:06:50.028967Z",
     "start_time": "2025-03-03T20:06:50.026154Z"
    }
   },
   "cell_type": "code",
   "source": [
    "FEATURES = X_train.columns.tolist()\n",
    "CAT_FEATURES_INDICES = [FEATURES.index(cat_feature) for cat_feature in CAT_FEATURES]"
   ],
   "id": "d4c691584ca3c867",
   "outputs": [],
   "execution_count": 207
  },
  {
   "metadata": {
    "ExecuteTime": {
     "end_time": "2025-03-03T20:06:52.768310Z",
     "start_time": "2025-03-03T20:06:50.043790Z"
    }
   },
   "cell_type": "code",
   "source": "model.fit(X_train, y_train, plot=True, cat_features=CAT_FEATURES_INDICES)\n",
   "id": "6adb65bfabaa6c63",
   "outputs": [
    {
     "data": {
      "text/plain": [
       "MetricVisualizer(layout=Layout(align_self='stretch', height='500px'))"
      ],
      "application/vnd.jupyter.widget-view+json": {
       "version_major": 2,
       "version_minor": 0,
       "model_id": "728be260078043af9e2db0d7d0b10a75"
      }
     },
     "metadata": {},
     "output_type": "display_data"
    },
    {
     "name": "stdout",
     "output_type": "stream",
     "text": [
      "0:\tlearn: 0.6587779\ttotal: 54.2ms\tremaining: 5.37s\n",
      "10:\tlearn: 0.4840062\ttotal: 319ms\tremaining: 2.58s\n",
      "20:\tlearn: 0.4336779\ttotal: 573ms\tremaining: 2.16s\n",
      "30:\tlearn: 0.4095095\ttotal: 850ms\tremaining: 1.89s\n",
      "40:\tlearn: 0.3988885\ttotal: 1.1s\tremaining: 1.59s\n",
      "50:\tlearn: 0.3918145\ttotal: 1.37s\tremaining: 1.31s\n",
      "60:\tlearn: 0.3857648\ttotal: 1.6s\tremaining: 1.02s\n",
      "70:\tlearn: 0.3795815\ttotal: 1.88s\tremaining: 767ms\n",
      "80:\tlearn: 0.3731303\ttotal: 2.12s\tremaining: 498ms\n",
      "90:\tlearn: 0.3683385\ttotal: 2.37s\tremaining: 235ms\n",
      "99:\tlearn: 0.3619093\ttotal: 2.6s\tremaining: 0us\n"
     ]
    },
    {
     "data": {
      "text/plain": [
       "<catboost.core.CatBoostClassifier at 0x19c171c8a10>"
      ]
     },
     "execution_count": 208,
     "metadata": {},
     "output_type": "execute_result"
    }
   ],
   "execution_count": 208
  },
  {
   "metadata": {
    "ExecuteTime": {
     "end_time": "2025-03-03T20:06:52.792375Z",
     "start_time": "2025-03-03T20:06:52.785571Z"
    }
   },
   "cell_type": "code",
   "source": [
    "# Шаг 3. Предсказание на тестовых данных\n",
    "y_pred = model.predict(X_test)\n",
    "\n",
    "# Шаг 4. Оценка предсказания по метрике accuracy\n",
    "accuracy = accuracy_score(y_test, y_pred)\n",
    "print(\"Accuracy : %.4f\" % accuracy)"
   ],
   "id": "e2a19d545cc6212a",
   "outputs": [
    {
     "name": "stdout",
     "output_type": "stream",
     "text": [
      "Accuracy : 0.8109\n"
     ]
    }
   ],
   "execution_count": 209
  },
  {
   "metadata": {
    "ExecuteTime": {
     "end_time": "2025-03-03T20:06:52.875359Z",
     "start_time": "2025-03-03T20:06:52.869348Z"
    }
   },
   "cell_type": "code",
   "source": "df_test = pd.read_csv(\"game_of_thrones_test.csv\", index_col=\"S.No\")",
   "id": "3ba8f9a26c9ca45d",
   "outputs": [],
   "execution_count": 210
  },
  {
   "metadata": {
    "ExecuteTime": {
     "end_time": "2025-03-03T20:06:52.916451Z",
     "start_time": "2025-03-03T20:06:52.910825Z"
    }
   },
   "cell_type": "code",
   "source": "df_test = prepare(df_test)",
   "id": "51ec574c62c4e15e",
   "outputs": [],
   "execution_count": 211
  },
  {
   "metadata": {
    "ExecuteTime": {
     "end_time": "2025-03-03T20:06:52.930362Z",
     "start_time": "2025-03-03T20:06:52.924721Z"
    }
   },
   "cell_type": "code",
   "source": "df_test['isAlive'] = model.predict(df_test)",
   "id": "55d572a7a656bf66",
   "outputs": [],
   "execution_count": 212
  },
  {
   "metadata": {
    "ExecuteTime": {
     "end_time": "2025-03-03T20:02:39.837259Z",
     "start_time": "2025-03-03T20:02:39.820696Z"
    }
   },
   "cell_type": "code",
   "source": "df_test[['isAlive']].to_csv('submission1.csv')",
   "id": "abaa5f364ecb7b6a",
   "outputs": [],
   "execution_count": 193
  }
 ],
 "metadata": {
  "kernelspec": {
   "display_name": "Python 3",
   "language": "python",
   "name": "python3"
  },
  "language_info": {
   "codemirror_mode": {
    "name": "ipython",
    "version": 2
   },
   "file_extension": ".py",
   "mimetype": "text/x-python",
   "name": "python",
   "nbconvert_exporter": "python",
   "pygments_lexer": "ipython2",
   "version": "2.7.6"
  }
 },
 "nbformat": 4,
 "nbformat_minor": 5
}
