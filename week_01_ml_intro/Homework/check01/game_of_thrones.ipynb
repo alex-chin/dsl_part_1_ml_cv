{
  "nbformat": 4,
  "nbformat_minor": 0,
  "metadata": {
    "colab": {
      "provenance": [],
      "collapsed_sections": [
        "AYAy9M1vME07",
        "dtK3Sa-VTcyj",
        "ut9rRfo-VCuA",
        "8zuX3N_rVWea",
        "VBfqtfKFIU63",
        "hQ9aJ29EQd04",
        "MJ85vBsVRbnl",
        "OTnHTQsqSJ6F",
        "4vnDMAGfTVGR",
        "XMAhmTxUYR-L",
        "c8kfsfo_XQUR"
      ]
    },
    "kernelspec": {
      "name": "python3",
      "display_name": "Python 3"
    },
    "language_info": {
      "name": "python"
    }
  },
  "cells": [
    {
      "cell_type": "markdown",
      "source": [
        "# Загрузка данных и библиотек"
      ],
      "metadata": {
        "id": "ZnZkwAT1zekA"
      }
    },
    {
      "cell_type": "markdown",
      "source": [
        "Загрузка датасетов:"
      ],
      "metadata": {
        "id": "fdqXJO3fzkwg"
      }
    },
    {
      "cell_type": "code",
      "execution_count": 500,
      "metadata": {
        "colab": {
          "base_uri": "https://localhost:8080/"
        },
        "id": "lxVtBT4NzWL7",
        "outputId": "0615c03e-29fa-4b6e-a695-65dc38a3ca7a"
      },
      "outputs": [
        {
          "output_type": "stream",
          "name": "stdout",
          "text": [
            "Downloading...\n",
            "From: https://drive.google.com/uc?id=1h99toeF7lZ2I3iJwehgKO-QQmDaOe_O3\n",
            "To: /content/game_of_thrones_test.csv\n",
            "100% 37.3k/37.3k [00:00<00:00, 46.5MB/s]\n",
            "Downloading...\n",
            "From: https://drive.google.com/uc?id=1XL0VTygpZj-ZAuTNRBgApZTPQyNDnT-v\n",
            "To: /content/game_of_thrones_train.csv\n",
            "100% 138k/138k [00:00<00:00, 89.7MB/s]\n"
          ]
        }
      ],
      "source": [
        "!gdown 1h99toeF7lZ2I3iJwehgKO-QQmDaOe_O3 # test dataset\n",
        "!gdown 1XL0VTygpZj-ZAuTNRBgApZTPQyNDnT-v # train dataset"
      ]
    },
    {
      "cell_type": "markdown",
      "source": [
        "Загрузка библиотек:"
      ],
      "metadata": {
        "id": "ywAKygnSznd2"
      }
    },
    {
      "cell_type": "code",
      "source": [
        "!pip install catboost"
      ],
      "metadata": {
        "colab": {
          "base_uri": "https://localhost:8080/"
        },
        "id": "0WnecHsitM3R",
        "outputId": "e34cabb7-e323-4741-b30a-f59091965e8b"
      },
      "execution_count": 501,
      "outputs": [
        {
          "output_type": "stream",
          "name": "stdout",
          "text": [
            "Requirement already satisfied: catboost in /usr/local/lib/python3.11/dist-packages (1.2.7)\n",
            "Requirement already satisfied: graphviz in /usr/local/lib/python3.11/dist-packages (from catboost) (0.20.3)\n",
            "Requirement already satisfied: matplotlib in /usr/local/lib/python3.11/dist-packages (from catboost) (3.10.0)\n",
            "Requirement already satisfied: numpy<2.0,>=1.16.0 in /usr/local/lib/python3.11/dist-packages (from catboost) (1.26.4)\n",
            "Requirement already satisfied: pandas>=0.24 in /usr/local/lib/python3.11/dist-packages (from catboost) (2.2.2)\n",
            "Requirement already satisfied: scipy in /usr/local/lib/python3.11/dist-packages (from catboost) (1.13.1)\n",
            "Requirement already satisfied: plotly in /usr/local/lib/python3.11/dist-packages (from catboost) (5.24.1)\n",
            "Requirement already satisfied: six in /usr/local/lib/python3.11/dist-packages (from catboost) (1.17.0)\n",
            "Requirement already satisfied: python-dateutil>=2.8.2 in /usr/local/lib/python3.11/dist-packages (from pandas>=0.24->catboost) (2.8.2)\n",
            "Requirement already satisfied: pytz>=2020.1 in /usr/local/lib/python3.11/dist-packages (from pandas>=0.24->catboost) (2025.1)\n",
            "Requirement already satisfied: tzdata>=2022.7 in /usr/local/lib/python3.11/dist-packages (from pandas>=0.24->catboost) (2025.1)\n",
            "Requirement already satisfied: contourpy>=1.0.1 in /usr/local/lib/python3.11/dist-packages (from matplotlib->catboost) (1.3.1)\n",
            "Requirement already satisfied: cycler>=0.10 in /usr/local/lib/python3.11/dist-packages (from matplotlib->catboost) (0.12.1)\n",
            "Requirement already satisfied: fonttools>=4.22.0 in /usr/local/lib/python3.11/dist-packages (from matplotlib->catboost) (4.56.0)\n",
            "Requirement already satisfied: kiwisolver>=1.3.1 in /usr/local/lib/python3.11/dist-packages (from matplotlib->catboost) (1.4.8)\n",
            "Requirement already satisfied: packaging>=20.0 in /usr/local/lib/python3.11/dist-packages (from matplotlib->catboost) (24.2)\n",
            "Requirement already satisfied: pillow>=8 in /usr/local/lib/python3.11/dist-packages (from matplotlib->catboost) (11.1.0)\n",
            "Requirement already satisfied: pyparsing>=2.3.1 in /usr/local/lib/python3.11/dist-packages (from matplotlib->catboost) (3.2.1)\n",
            "Requirement already satisfied: tenacity>=6.2.0 in /usr/local/lib/python3.11/dist-packages (from plotly->catboost) (9.0.0)\n"
          ]
        }
      ]
    },
    {
      "cell_type": "code",
      "source": [
        "import pandas as pd\n",
        "import matplotlib.pyplot as plt\n",
        "import seaborn as sn\n",
        "from sklearn.model_selection import train_test_split\n",
        "from sklearn.preprocessing import MinMaxScaler\n",
        "from sklearn.metrics import accuracy_score\n",
        "from sklearn.linear_model import LogisticRegression\n",
        "from sklearn.model_selection import GridSearchCV\n",
        "from sklearn.tree import DecisionTreeClassifier\n",
        "from sklearn.ensemble import RandomForestClassifier\n",
        "from catboost import CatBoostClassifier"
      ],
      "metadata": {
        "id": "wn7jf6A2zwr_"
      },
      "execution_count": 502,
      "outputs": []
    },
    {
      "cell_type": "markdown",
      "source": [
        "Загрузка тренировочной части датасета в DataFrame"
      ],
      "metadata": {
        "id": "dTBlWpjmz7k9"
      }
    },
    {
      "cell_type": "code",
      "source": [
        "data = pd.read_csv(\"./game_of_thrones_train.csv\", index_col=\"S.No\")"
      ],
      "metadata": {
        "id": "H4g54RFQ0CdP"
      },
      "execution_count": 562,
      "outputs": []
    },
    {
      "cell_type": "markdown",
      "source": [
        "# Предобработка столбцов"
      ],
      "metadata": {
        "id": "7mXgjODH0Vmt"
      }
    },
    {
      "cell_type": "markdown",
      "source": [
        "## Просмотр столбцов на наличие пропусков и удаление бесполезных (по своему смыслу или количеству пропусков) столбцов"
      ],
      "metadata": {
        "id": "JCXxFKwM0Z4K"
      }
    },
    {
      "cell_type": "markdown",
      "source": [
        "Просмотр столбцов на наличие пропусков"
      ],
      "metadata": {
        "id": "hlcaeTh50tVi"
      }
    },
    {
      "cell_type": "code",
      "source": [
        "data.info()"
      ],
      "metadata": {
        "colab": {
          "base_uri": "https://localhost:8080/"
        },
        "id": "ZADCiie10x1X",
        "outputId": "d7233973-738b-46e2-9442-451800e04252"
      },
      "execution_count": 504,
      "outputs": [
        {
          "output_type": "stream",
          "name": "stdout",
          "text": [
            "<class 'pandas.core.frame.DataFrame'>\n",
            "Index: 1557 entries, 1 to 1557\n",
            "Data columns (total 25 columns):\n",
            " #   Column            Non-Null Count  Dtype  \n",
            "---  ------            --------------  -----  \n",
            " 0   name              1557 non-null   object \n",
            " 1   title             717 non-null    object \n",
            " 2   male              1557 non-null   int64  \n",
            " 3   culture           488 non-null    object \n",
            " 4   dateOfBirth       279 non-null    float64\n",
            " 5   mother            18 non-null     object \n",
            " 6   father            22 non-null     object \n",
            " 7   heir              21 non-null     object \n",
            " 8   house             1176 non-null   object \n",
            " 9   spouse            200 non-null    object \n",
            " 10  book1             1557 non-null   int64  \n",
            " 11  book2             1557 non-null   int64  \n",
            " 12  book3             1557 non-null   int64  \n",
            " 13  book4             1557 non-null   int64  \n",
            " 14  book5             1557 non-null   int64  \n",
            " 15  isAliveMother     18 non-null     float64\n",
            " 16  isAliveFather     22 non-null     float64\n",
            " 17  isAliveHeir       21 non-null     float64\n",
            " 18  isAliveSpouse     200 non-null    float64\n",
            " 19  isMarried         1557 non-null   int64  \n",
            " 20  isNoble           1557 non-null   int64  \n",
            " 21  age               279 non-null    float64\n",
            " 22  numDeadRelations  1557 non-null   int64  \n",
            " 23  popularity        1557 non-null   float64\n",
            " 24  isAlive           1557 non-null   int64  \n",
            "dtypes: float64(7), int64(10), object(8)\n",
            "memory usage: 316.3+ KB\n"
          ]
        }
      ]
    },
    {
      "cell_type": "markdown",
      "source": [
        "Предварительные выводы по столбцам:"
      ],
      "metadata": {
        "id": "NUGao1anMl2r"
      }
    },
    {
      "cell_type": "markdown",
      "source": [
        "**name**: данный столбец, по моему мнению, не представляет ценности, так как имя персонажа вряд ли играет роль в том, выживет он или нет, кроме того количество уникальных значений в данном столбце тоже не помогает.\n",
        "\n",
        "**title**: данный столбец может представлять интерес, однако с ним есть одна проблема - количество уникальных значений (очень большое), чтобы данный столбец использовать нужно как-то упразднить, сократить количество уникальных значений. Если это не делать, то, кажется, его лучше удалить.\n",
        "\n",
        "**house**: ситуация с этим столбцом аналогична ситуации с столбцом title, нужно попытать сократить количество уникальных значений, в противном случае удалить этот столбец.\n",
        "\n",
        "**culture**: у данного столбца будет сокращено количество уникальных значений, как рекомендуется в подсказке.\n",
        "\n",
        "**book1/2/3/4/5**: очевидно, эти столбцы играют большую роль, стоит в будущем выбрать наиболее влиятельные из них (то есть, которые хорошо коррелируют с целевой переменной и оставить их, оставшиеся удалить).\n",
        "\n",
        "**isNoble**: судя по всему это обработанный столбец title, скорее всего, стоит удалить столбец title и использовать данный столбец вместо него.\n",
        "\n",
        "**Age**: прежде чем выносить решение по данному столбцу необходимо сначала посмотреть на его корреляцию с целевым признаком. Возможно потребуется сократить количество уникальных значений путём группировки.\n",
        "\n",
        "**male**: прежде чем выносить решение по данному столбцу необходимо сначала посмотреть на его корреляцию с целевым признаком.\n",
        "\n",
        "**dateOfBirth**: можно конечно посмотреть на корреляцию этого признака с целевым признаком, но, как мне кажется, данный признак ценности не представляет, кроме того, в нём огромное количество пропусков, так что стоит удалить этот столбец.\n",
        "\n",
        "**spouse**: нужно переделать этот столбец, ставить 1, если у персонажа есть супруг/супруга, в противном случае 0.\n",
        "\n",
        "**father**: стоит посмотреть на корреляцию данного столбца с целевым признаком, но перед этим его нужно преобразовать также как и столбец spouse.\n",
        "\n",
        "**mother**: стоит посмотреть на корреляцию данного столбца с целевым признаком, но перед этим его нужно преобразовать также как и столбец spouse.\n",
        "\n",
        "**heir**: стоит посмотреть на корреляцию данного столбца с целевым признаком, но перед этим его нужно преобразовать также как и столбец spouse.\n",
        "\n",
        "**isMarried**: стоит сначала посмотреть на корреляцию данного признака с целевым.\n",
        "\n",
        "**isAliveSpouse**: в данном столбце слишком много пропусков и он слишком специфичен, чтобы его оставлять.\n",
        "\n",
        "**isAliveFather**: в данном столбце слишком много пропусков и он слишком специфичен, чтобы его оставлять.\n",
        "\n",
        "**isAliveMother**: в данном столбце слишком много пропусков и он слишком специфичен, чтобы его оставлять.\n",
        "\n",
        "**isAliveHeir**: в данном столбце слишком много пропусков и он слишком специфичен, чтобы его оставлять.\n",
        "\n",
        "**isAliveFather**: в данном столбце слишком много пропусков и он слишком специфичен, чтобы его оставлять.\n",
        "\n",
        "**numDeadRelations**: прежде, чем что-то говорить об этом столбце стоит посмотреть на его корреляцию с целевым признаком + преобразуем столбец так, как описанов задании.\n",
        "\n",
        "**popularity**: прежде, чем что-то говорить об этом столбце стоит посмотреть на его корреляцию с целевым признаком + преобразуем столбец так, как описанов задание."
      ],
      "metadata": {
        "id": "IvdJu1DeMxMY"
      }
    },
    {
      "cell_type": "markdown",
      "source": [
        "Удаление предварительно \"забракованных\" столбцов:"
      ],
      "metadata": {
        "id": "KCY2Je4qJars"
      }
    },
    {
      "cell_type": "code",
      "source": [
        "data.drop(columns=[\"name\", \"dateOfBirth\", \"isAliveSpouse\", \"isAliveFather\", \"isAliveMother\", \"isAliveHeir\", \"isAliveFather\", \"title\"], inplace=True)"
      ],
      "metadata": {
        "id": "FDcuArFTOiJG"
      },
      "execution_count": 505,
      "outputs": []
    },
    {
      "cell_type": "markdown",
      "source": [
        "Первоначальны беглый осмотр произведён, теперь нужно провести кодировку столбцов, а после этого смотреть корреляцию характеристик с целевым признаком, после чего можно будет провести удаление ненужных столбцов и начинать обучение моделей."
      ],
      "metadata": {
        "id": "zytq6FKvKpJm"
      }
    },
    {
      "cell_type": "markdown",
      "source": [
        "## Преобразование столбцов"
      ],
      "metadata": {
        "id": "xXSaMtAeL-OF"
      }
    },
    {
      "cell_type": "markdown",
      "source": [
        "### Обработка столбца culture"
      ],
      "metadata": {
        "id": "AYAy9M1vME07"
      }
    },
    {
      "cell_type": "markdown",
      "source": [
        "Проведём сокращение уникальных значений в данном столбце, как описано в подсказке:"
      ],
      "metadata": {
        "id": "vwTr3qImMUSF"
      }
    },
    {
      "cell_type": "code",
      "source": [
        "# Подсказка\n",
        "cult = {\n",
        "    'Summer Islands': ['summer islands', 'summer islander', 'summer isles'],\n",
        "    'Ghiscari': ['ghiscari', 'ghiscaricari',  'ghis'],\n",
        "    'Asshai': [\"asshai'i\", 'asshai'],\n",
        "    'Lysene': ['lysene', 'lyseni'],\n",
        "    'Andal': ['andal', 'andals'],\n",
        "    'Braavosi': ['braavosi', 'braavos'],\n",
        "    'Dornish': ['dornishmen', 'dorne', 'dornish'],\n",
        "    'Myrish': ['myr', 'myrish', 'myrmen'],\n",
        "    'Westermen': ['westermen', 'westerman', 'westerlands'],\n",
        "    'Westerosi': ['westeros', 'westerosi'],\n",
        "    'Stormlander': ['stormlands', 'stormlander'],\n",
        "    'Norvoshi': ['norvos', 'norvoshi'],\n",
        "    'Northmen': ['the north', 'northmen'],\n",
        "    'Free Folk': ['wildling', 'first men', 'free folk'],\n",
        "    'Qartheen': ['qartheen', 'qarth'],\n",
        "    'Reach': ['the reach', 'reach', 'reachmen'],\n",
        "}"
      ],
      "metadata": {
        "id": "JFvCRA2RNGcf"
      },
      "execution_count": 506,
      "outputs": []
    },
    {
      "cell_type": "code",
      "source": [
        "def simplification_of_culture(cell: str, cult: dict) -> str:\n",
        "    if not(pd.isna(cell)) and type(cell) == str:\n",
        "        cell = cell.lower()\n",
        "\n",
        "        for key in cult:\n",
        "            for value in cult[key]:\n",
        "                if cell == value:\n",
        "                    return key\n",
        "\n",
        "        return cell\n",
        "    else:\n",
        "        return \"unknown\""
      ],
      "metadata": {
        "id": "P2FFuyr5NKPQ"
      },
      "execution_count": 507,
      "outputs": []
    },
    {
      "cell_type": "code",
      "source": [
        "data[\"culture\"] = data[\"culture\"].apply(lambda x: simplification_of_culture(x, cult))"
      ],
      "metadata": {
        "id": "arFqmvfGOZax"
      },
      "execution_count": 508,
      "outputs": []
    },
    {
      "cell_type": "markdown",
      "source": [
        "Теперь, когда количество уникальных значений сокращено, то нужно декодировать строковые значения (преобразовать строки к числам). Воспользуемся labelEncoderом:"
      ],
      "metadata": {
        "id": "Cd4UwY6bRmJ0"
      }
    },
    {
      "cell_type": "code",
      "source": [
        "from sklearn.preprocessing import LabelEncoder\n",
        "\n",
        "label_encoding = LabelEncoder()"
      ],
      "metadata": {
        "id": "-3D38uG7S1qO"
      },
      "execution_count": 509,
      "outputs": []
    },
    {
      "cell_type": "code",
      "source": [
        "data[\"culture\"] = label_encoding.fit_transform(data[\"culture\"])"
      ],
      "metadata": {
        "id": "PMGNTxStS7b0"
      },
      "execution_count": 510,
      "outputs": []
    },
    {
      "cell_type": "markdown",
      "source": [
        "Обработка столбца завершена."
      ],
      "metadata": {
        "id": "UPwBk-cUTW6j"
      }
    },
    {
      "cell_type": "markdown",
      "source": [
        "### Обработка столбца mother"
      ],
      "metadata": {
        "id": "dtK3Sa-VTcyj"
      }
    },
    {
      "cell_type": "markdown",
      "source": [
        "Данный столбец декодируем следующим путём, если у ячейки есть значение, то поставим 1, в противном случае поставим 0. Таким образом, данный столбец будет отображить известно ли у персоонажа имя матери или нет."
      ],
      "metadata": {
        "id": "RMHsLjQjTmOo"
      }
    },
    {
      "cell_type": "code",
      "source": [
        "data[\"mother\"] = data[\"mother\"].apply(lambda x: 1 if type(x) == str else 0)"
      ],
      "metadata": {
        "id": "yCJFtQMpUIZg"
      },
      "execution_count": 511,
      "outputs": []
    },
    {
      "cell_type": "markdown",
      "source": [
        "Обработка столбца завершена."
      ],
      "metadata": {
        "id": "nBSH8gd-U-J6"
      }
    },
    {
      "cell_type": "markdown",
      "source": [
        "### Обработка столбца father"
      ],
      "metadata": {
        "id": "ut9rRfo-VCuA"
      }
    },
    {
      "cell_type": "markdown",
      "source": [
        "Данный столбец декодируем следующим путём, если у ячейки есть значение, то поставим 1, в противном случае поставим 0. Таким образом, данный столбец будет отображить известно ли у персоонажа имя отца или нет."
      ],
      "metadata": {
        "id": "N7GustyeVK9H"
      }
    },
    {
      "cell_type": "code",
      "source": [
        "data[\"father\"] = data[\"father\"].apply(lambda x: 1 if type(x) == str else 0)"
      ],
      "metadata": {
        "id": "F7BlBjkHVK9I"
      },
      "execution_count": 512,
      "outputs": []
    },
    {
      "cell_type": "markdown",
      "source": [
        "Обработка столбца завершена."
      ],
      "metadata": {
        "id": "W97a-XklVK9I"
      }
    },
    {
      "cell_type": "markdown",
      "source": [
        "### Обработка столбца heir"
      ],
      "metadata": {
        "id": "8zuX3N_rVWea"
      }
    },
    {
      "cell_type": "markdown",
      "source": [
        "Данный столбец декодируем следующим путём, если у ячейки есть значение, то поставим 1, в противном случае поставим 0. Таким образом, данный столбец будет отображить есть ли у персоонажа наследник или нет."
      ],
      "metadata": {
        "id": "4CDjJ-u-ViwW"
      }
    },
    {
      "cell_type": "code",
      "source": [
        "data[\"heir\"] = data[\"heir\"].apply(lambda x: 1 if type(x) == str else 0)"
      ],
      "metadata": {
        "id": "RBQDIb-ZViwW"
      },
      "execution_count": 513,
      "outputs": []
    },
    {
      "cell_type": "markdown",
      "source": [
        "Обработка столбца завершена."
      ],
      "metadata": {
        "id": "5X746uRAViwX"
      }
    },
    {
      "cell_type": "markdown",
      "source": [
        "### Обработка столбца house"
      ],
      "metadata": {
        "id": "5SJ9w3JlV8p8"
      }
    },
    {
      "cell_type": "markdown",
      "source": [
        "Чтобы сделать выводы по этому столбцу посмотрим на распределение выживших и умерших по домам и по не принадлежащим к какому либо из домов."
      ],
      "metadata": {
        "id": "E-Poc23N6orK"
      }
    },
    {
      "cell_type": "code",
      "source": [
        "data[\"house\"].fillna(\"does not belong\", inplace=True)"
      ],
      "metadata": {
        "id": "fhYmzipG7OMA"
      },
      "execution_count": 563,
      "outputs": []
    },
    {
      "cell_type": "code",
      "source": [
        "data[\"house\"].value_counts()"
      ],
      "metadata": {
        "colab": {
          "base_uri": "https://localhost:8080/",
          "height": 489
        },
        "id": "TQZ9aigZG3We",
        "outputId": "4c3dcfca-fe13-4900-c09c-3a6285e37ee7"
      },
      "execution_count": 564,
      "outputs": [
        {
          "output_type": "execute_result",
          "data": {
            "text/plain": [
              "house\n",
              "does not belong     381\n",
              "House Frey           89\n",
              "Night's Watch        88\n",
              "House Stark          56\n",
              "House Targaryen      40\n",
              "                   ... \n",
              "House Celtigar        1\n",
              "House of Ghazeen      1\n",
              "House Byrch           1\n",
              "House Hawick          1\n",
              "House Moore           1\n",
              "Name: count, Length: 316, dtype: int64"
            ],
            "text/html": [
              "<div>\n",
              "<style scoped>\n",
              "    .dataframe tbody tr th:only-of-type {\n",
              "        vertical-align: middle;\n",
              "    }\n",
              "\n",
              "    .dataframe tbody tr th {\n",
              "        vertical-align: top;\n",
              "    }\n",
              "\n",
              "    .dataframe thead th {\n",
              "        text-align: right;\n",
              "    }\n",
              "</style>\n",
              "<table border=\"1\" class=\"dataframe\">\n",
              "  <thead>\n",
              "    <tr style=\"text-align: right;\">\n",
              "      <th></th>\n",
              "      <th>count</th>\n",
              "    </tr>\n",
              "    <tr>\n",
              "      <th>house</th>\n",
              "      <th></th>\n",
              "    </tr>\n",
              "  </thead>\n",
              "  <tbody>\n",
              "    <tr>\n",
              "      <th>does not belong</th>\n",
              "      <td>381</td>\n",
              "    </tr>\n",
              "    <tr>\n",
              "      <th>House Frey</th>\n",
              "      <td>89</td>\n",
              "    </tr>\n",
              "    <tr>\n",
              "      <th>Night's Watch</th>\n",
              "      <td>88</td>\n",
              "    </tr>\n",
              "    <tr>\n",
              "      <th>House Stark</th>\n",
              "      <td>56</td>\n",
              "    </tr>\n",
              "    <tr>\n",
              "      <th>House Targaryen</th>\n",
              "      <td>40</td>\n",
              "    </tr>\n",
              "    <tr>\n",
              "      <th>...</th>\n",
              "      <td>...</td>\n",
              "    </tr>\n",
              "    <tr>\n",
              "      <th>House Celtigar</th>\n",
              "      <td>1</td>\n",
              "    </tr>\n",
              "    <tr>\n",
              "      <th>House of Ghazeen</th>\n",
              "      <td>1</td>\n",
              "    </tr>\n",
              "    <tr>\n",
              "      <th>House Byrch</th>\n",
              "      <td>1</td>\n",
              "    </tr>\n",
              "    <tr>\n",
              "      <th>House Hawick</th>\n",
              "      <td>1</td>\n",
              "    </tr>\n",
              "    <tr>\n",
              "      <th>House Moore</th>\n",
              "      <td>1</td>\n",
              "    </tr>\n",
              "  </tbody>\n",
              "</table>\n",
              "<p>316 rows × 1 columns</p>\n",
              "</div><br><label><b>dtype:</b> int64</label>"
            ]
          },
          "metadata": {},
          "execution_count": 564
        }
      ]
    },
    {
      "cell_type": "markdown",
      "source": [
        "Ниже можно увидеть принадлежность к дому : количество выживших : сколько членов дома всего (и живых и мёртвых)."
      ],
      "metadata": {
        "id": "UBZjYbTYD4IC"
      }
    },
    {
      "cell_type": "code",
      "source": [
        "is_alive = data.groupby(\"house\")[\"isAlive\"].sum().sort_values(ascending=False)\n",
        "total = data[\"house\"].value_counts(dropna=False)\n",
        "\n",
        "for house in is_alive.index:\n",
        "    print(f\"{house} : {is_alive[house]} : {total[house]}\")"
      ],
      "metadata": {
        "colab": {
          "base_uri": "https://localhost:8080/"
        },
        "collapsed": true,
        "id": "XFBveqic9LD-",
        "outputId": "1b409af2-63ba-4c96-8c79-386dd8604ba7"
      },
      "execution_count": 565,
      "outputs": [
        {
          "output_type": "stream",
          "name": "stdout",
          "text": [
            "does not belong : 306 : 381\n",
            "House Frey : 80 : 89\n",
            "Night's Watch : 50 : 88\n",
            "House Stark : 43 : 56\n",
            "House Tyrell : 31 : 33\n",
            "House Lannister : 25 : 36\n",
            "House Greyjoy : 18 : 30\n",
            "House Osgrey : 15 : 20\n",
            "Faith of the Seven : 13 : 15\n",
            "House Targaryen : 12 : 40\n",
            "House Florent : 10 : 10\n",
            "House Botley : 10 : 12\n",
            "House Martell : 10 : 11\n",
            "House Hightower : 9 : 12\n",
            "House Waynwood : 8 : 9\n",
            "House Arryn : 7 : 11\n",
            "House Swyft : 7 : 7\n",
            "Stone Crows : 7 : 8\n",
            "House Crakehall : 7 : 10\n",
            "House Paege : 7 : 7\n",
            "House Baratheon : 6 : 6\n",
            "House Baelish : 6 : 6\n",
            "House Baratheon of Dragonstone : 6 : 6\n",
            "House Haigh : 6 : 6\n",
            "House Bracken : 6 : 9\n",
            "House Drumm : 6 : 6\n",
            "House Vance of Atranta : 5 : 5\n",
            "House of Loraq : 5 : 6\n",
            "House Brax : 5 : 8\n",
            "House Estermont : 5 : 6\n",
            "Kingsguard : 5 : 5\n",
            "House Wylde : 5 : 8\n",
            "House Webber : 5 : 5\n",
            "House Bolton : 5 : 6\n",
            "Alchemists' Guild : 5 : 5\n",
            "House Westerling : 5 : 8\n",
            "House Redwyne : 5 : 6\n",
            "House Plumm : 5 : 7\n",
            "House Norcross : 5 : 5\n",
            "House Ashford : 5 : 5\n",
            "House Redfort : 5 : 5\n",
            "House Karstark : 5 : 5\n",
            "House Mallister : 5 : 5\n",
            "House Corbray : 4 : 4\n",
            "House Crabb : 4 : 4\n",
            "House Mormont : 4 : 4\n",
            "House Crane : 4 : 4\n",
            "House Dayne : 4 : 4\n",
            "House Velaryon : 4 : 8\n",
            "House Goodbrook : 4 : 4\n",
            "House Manwoody : 4 : 4\n",
            "House Swann : 4 : 6\n",
            "House Royce of the Gates of the Moon : 4 : 4\n",
            "House Vance of Wayfarer's Rest : 4 : 4\n",
            "House Ryswell : 4 : 4\n",
            "House Ironmaker : 4 : 4\n",
            "House Vance : 4 : 4\n",
            "House Hollard : 4 : 5\n",
            "House Whent : 4 : 7\n",
            "House Royce : 4 : 5\n",
            "House Umber : 4 : 5\n",
            "Second Sons : 4 : 5\n",
            "House Beesbury : 4 : 6\n",
            "Happy Port : 4 : 4\n",
            "House Ambrose : 4 : 4\n",
            "Brotherhood Without Banners : 4 : 4\n",
            "House Harlaw : 3 : 4\n",
            "House Vypren : 3 : 3\n",
            "House Goodbrother : 3 : 3\n",
            "House Darklyn : 3 : 4\n",
            "Drowned men : 3 : 3\n",
            "House Lothston : 3 : 4\n",
            "House Glover : 3 : 4\n",
            "House Tarth : 3 : 4\n",
            "House Smallwood : 3 : 3\n",
            "House Hunter : 3 : 4\n",
            "House Frey of Riverrun : 3 : 3\n",
            "House Bulwer : 3 : 3\n",
            "House Farwynd of the Lonely Light : 3 : 3\n",
            "House Seaworth : 3 : 7\n",
            "Chataya's brothel : 3 : 3\n",
            "House Costayne : 3 : 3\n",
            "House Stackspear : 3 : 3\n",
            "House Connington : 3 : 3\n",
            "House Tully : 3 : 8\n",
            "Brotherhood without banners : 3 : 4\n",
            "House Qorgyle : 3 : 4\n",
            "House Tallhart : 3 : 6\n",
            "House Uller : 3 : 3\n",
            "House Stout : 3 : 3\n",
            "House Caswell : 3 : 5\n",
            "House Blackmont : 3 : 3\n",
            "House Slynt : 2 : 2\n",
            "House Hornwood : 2 : 4\n",
            "House Humble : 2 : 2\n",
            "House Allyrion : 2 : 2\n",
            "House Spicer : 2 : 2\n",
            "House Baratheon of King's Landing : 2 : 2\n",
            "House Staunton : 2 : 3\n",
            "House Stokeworth : 2 : 3\n",
            "House Jordayne : 2 : 2\n",
            "House Willum : 2 : 2\n",
            "House Shepherd : 2 : 2\n",
            "House Kenning of Kayce : 2 : 2\n",
            "House Oakheart : 2 : 3\n",
            "House Penrose : 2 : 3\n",
            "House Piper : 2 : 2\n",
            "House Nayland : 2 : 2\n",
            "House Prester : 2 : 2\n",
            "House Morrigen : 2 : 2\n",
            "Burned Men : 2 : 2\n",
            "House Mooton : 2 : 3\n",
            "House Reed : 2 : 2\n",
            "House Meadows : 2 : 2\n",
            "House Marbrand : 2 : 3\n",
            "House Lynderly : 2 : 2\n",
            "House Lydden : 2 : 2\n",
            "House Ryger : 2 : 2\n",
            "House Santagar : 2 : 2\n",
            "House Locke : 2 : 3\n",
            "House Hardyng : 2 : 3\n",
            "House Serry : 2 : 2\n",
            "House Sharp : 2 : 3\n",
            "House Lefford : 2 : 4\n",
            "House Penny : 2 : 2\n",
            "House of Galare : 2 : 3\n",
            "House Tarly : 2 : 2\n",
            "House Yronwood : 2 : 2\n",
            "House Darry : 2 : 5\n",
            "House Dalt : 2 : 2\n",
            "House Farring : 2 : 3\n",
            "House Butterwell : 2 : 3\n",
            "House Tollett : 2 : 2\n",
            "Kingswood Brotherhood : 2 : 2\n",
            "House Codd : 2 : 2\n",
            "House Clifton : 2 : 2\n",
            "House Fossoway of Cider Hall : 2 : 4\n",
            "House Clegane : 2 : 4\n",
            "House Blackberry : 2 : 2\n",
            "House Belmore : 2 : 2\n",
            "Moon Brothers : 2 : 2\n",
            "House Grafton : 2 : 3\n",
            "The Citadel : 1 : 1\n",
            "House Rowan : 1 : 1\n",
            "Wise Masters : 1 : 1\n",
            "House Vikary : 1 : 1\n",
            "Sea watch : 1 : 1\n",
            "House Wythers : 1 : 2\n",
            "Windblown : 1 : 1\n",
            "Stormcrows : 1 : 2\n",
            "Summer Islands : 1 : 1\n",
            "House Wells : 1 : 2\n",
            "House Volmark : 1 : 1\n",
            "House Reyne : 1 : 1\n",
            "House Risley : 1 : 1\n",
            "House Wynch : 1 : 2\n",
            "House Vyrwel : 1 : 1\n",
            "House Wull : 1 : 1\n",
            "House Wagstaff : 1 : 1\n",
            "House Ruttiger : 1 : 1\n",
            "House Woods : 1 : 1\n",
            "House Wayn : 1 : 1\n",
            "House Woolfield : 1 : 1\n",
            "House Weaver : 1 : 1\n",
            "House Yew : 1 : 1\n",
            "House Sunderland : 1 : 1\n",
            "House Varner : 1 : 1\n",
            "House Turnberry : 1 : 1\n",
            "House Suggs : 1 : 1\n",
            "House Wode : 1 : 1\n",
            "House Stonetree : 1 : 1\n",
            "Maesters : 1 : 1\n",
            "House Staedmon : 1 : 1\n",
            "Peach : 1 : 1\n",
            "House Sparr : 1 : 1\n",
            "Pureborn : 1 : 1\n",
            "House Tawney : 1 : 1\n",
            "House Templeton : 1 : 1\n",
            "House Toland : 1 : 1\n",
            "House Shett of Gull Tower : 1 : 1\n",
            "Kingdom of the Three Daughters : 1 : 2\n",
            "House Rykker : 1 : 1\n",
            "Iron Bank of Braavos : 1 : 1\n",
            "House Uffering : 1 : 2\n",
            "House Peake : 1 : 2\n",
            "House Vaith : 1 : 1\n",
            "House of Pahl : 1 : 1\n",
            "House Selmy : 1 : 1\n",
            "House of Merreq : 1 : 1\n",
            "House Sawyer : 1 : 1\n",
            "House Sarsfield : 1 : 1\n",
            "House of Ghazeen : 1 : 1\n",
            "House Sunglass : 1 : 2\n",
            "R'hllor : 1 : 1\n",
            "House Strong : 1 : 3\n",
            "House Liddle : 1 : 1\n",
            "House Fossoway : 1 : 1\n",
            "House Flint : 1 : 1\n",
            "House Cupps : 1 : 1\n",
            "House Cuy : 1 : 1\n",
            "House Deddings : 1 : 1\n",
            "House Dondarrion : 1 : 1\n",
            "House Drinkwater : 1 : 1\n",
            "House Estren : 1 : 1\n",
            "House Farman : 1 : 1\n",
            "House Farwynd : 1 : 1\n",
            "House Fell : 1 : 2\n",
            "House Flint of Widow's Watch : 1 : 2\n",
            "House Conklyn : 1 : 1\n",
            "House Foote : 1 : 1\n",
            "House Fossoway of New Barrel : 1 : 1\n",
            "House Fowler : 1 : 1\n",
            "House Gargalen : 1 : 1\n",
            "Golden Company : 1 : 1\n",
            "House Gaunt : 1 : 1\n",
            "House Goodbrother of Shatterstone : 1 : 1\n",
            "House Gower : 1 : 1\n",
            "House Graceford : 1 : 1\n",
            "House Cox : 1 : 1\n",
            "House Condon : 1 : 1\n",
            "House Greenhill : 1 : 1\n",
            "House Blackfyre : 1 : 1\n",
            "House Blount : 1 : 1\n",
            "House Boggs : 1 : 1\n",
            "House Bolling : 1 : 1\n",
            "House Borrell : 1 : 1\n",
            "House Broom : 1 : 1\n",
            "House Brune of Brownhollow : 1 : 1\n",
            "House Brune of the Dyre Den : 1 : 1\n",
            "House Buckler : 1 : 1\n",
            "House Blacktyde : 1 : 1\n",
            "House Blackbar : 1 : 1\n",
            "House Coldwater : 1 : 1\n",
            "House Caron : 1 : 3\n",
            "House Cassel : 1 : 2\n",
            "House Celtigar : 1 : 1\n",
            "House Bettley : 1 : 1\n",
            "House Charlton : 1 : 2\n",
            "House Bar Emmon : 1 : 1\n",
            "House Chester : 1 : 1\n",
            "House Chyttering : 1 : 1\n",
            "House Banefort : 1 : 1\n",
            "Faceless Men : 1 : 1\n",
            "House Greenfield : 1 : 1\n",
            "House Grimm : 1 : 1\n",
            "Citadel : 1 : 1\n",
            "Antler Men : 1 : 1\n",
            "House Longthorpe : 1 : 1\n",
            "House Longwaters : 1 : 1\n",
            "House Lonmouth : 1 : 2\n",
            "House Lorch : 1 : 1\n",
            "House Lychester : 1 : 1\n",
            "Company of the Cat : 1 : 1\n",
            "House Manderly : 1 : 2\n",
            "House Merlyn : 1 : 1\n",
            "House Mertyns : 1 : 1\n",
            "House Lannister of Lannisport : 1 : 1\n",
            "House Mollen : 1 : 1\n",
            "Brave Companions : 1 : 3\n",
            "House Moreland : 1 : 1\n",
            "House Mudd : 1 : 1\n",
            "House Mullendore : 1 : 1\n",
            "House Myre : 1 : 1\n",
            "Black Ears : 1 : 1\n",
            "House Norridge : 1 : 1\n",
            "House Nymeros Martell : 1 : 1\n",
            "House Leygood : 1 : 1\n",
            "House Leek : 1 : 1\n",
            "House Lannister of Casterly Rock : 1 : 1\n",
            "House Hetherspoon : 1 : 2\n",
            "House Harclay : 1 : 1\n",
            "House Hardy : 1 : 1\n",
            "House Harlaw of Grey Garden : 1 : 1\n",
            "House Harlaw of Harlaw Hall : 1 : 1\n",
            "House Harlaw of Harridan Hill : 1 : 1\n",
            "House Harlaw of the Tower of Glimmering : 1 : 1\n",
            "House Hawick : 1 : 1\n",
            "House Hayford : 1 : 1\n",
            "House Heddle : 1 : 2\n",
            "House Blanetree : 1 : 1\n",
            "House Hewett : 1 : 1\n",
            "House Hoare : 1 : 1\n",
            "House Hogg : 1 : 1\n",
            "House Hunt : 1 : 1\n",
            "House Inchfield : 1 : 2\n",
            "House Jast : 1 : 1\n",
            "House Kenning of Harlaw : 1 : 2\n",
            "House Kettleblack : 1 : 1\n",
            "City Watch of King's Landing : 0 : 1\n",
            "House Blackwood : 0 : 3\n",
            "Good Masters : 0 : 1\n",
            "Blacks : 0 : 1\n",
            "House Ball : 0 : 1\n",
            "Band of Nine : 0 : 1\n",
            "Queensguard : 0 : 1\n",
            "House Pemford : 0 : 1\n",
            "Khal : 0 : 1\n",
            "House Bushy : 0 : 1\n",
            "House Norrey : 0 : 1\n",
            "House Poole : 0 : 1\n",
            "House Rambton : 0 : 1\n",
            "House Moore : 0 : 1\n",
            "House Roote : 0 : 1\n",
            "House Rosby : 0 : 2\n",
            "House Mallery : 0 : 1\n",
            "House Grandison : 0 : 1\n",
            "House Thorne : 0 : 1\n",
            "House Toyne : 0 : 1\n",
            "House Payne : 0 : 1\n",
            "House Farrow : 0 : 1\n",
            "House Cockshaw : 0 : 1\n",
            "House Chelsted : 0 : 1\n",
            "House Cerwyn : 0 : 2\n",
            "House Cafferen : 0 : 1\n",
            "House Byrch : 0 : 1\n",
            "wildling : 0 : 1\n"
          ]
        }
      ]
    },
    {
      "cell_type": "markdown",
      "source": [
        "Видно, что пострадали в основном только некоторые дома и не принадлежащие ни одному дому. Тогда, как мне кажется, для сокращения числа уникальных значений домов стоит оставить названия только тех домов, которые понесли потери больше 20%, остальные дома переименовать в others houses, а значение does not belong оставить как есть."
      ],
      "metadata": {
        "id": "iVxq-kRVESD2"
      }
    },
    {
      "cell_type": "code",
      "source": [
        "data[\"house\"] = data[\"house\"].apply(lambda x: x if (float(is_alive[x]) / float(total[x]) < 0.5 and total[x] - is_alive[x] > 10) or x == \"does not belong\" or total[x] - is_alive[x] > 10 else \"others houses\")"
      ],
      "metadata": {
        "id": "nTUoLsn4FMSq"
      },
      "execution_count": 566,
      "outputs": []
    },
    {
      "cell_type": "code",
      "source": [
        "data[\"house\"].value_counts()"
      ],
      "metadata": {
        "colab": {
          "base_uri": "https://localhost:8080/",
          "height": 335
        },
        "id": "CDXFv0XVF03u",
        "outputId": "0fdc5091-580f-4e69-ec28-2f55308a4672"
      },
      "execution_count": 569,
      "outputs": [
        {
          "output_type": "execute_result",
          "data": {
            "text/plain": [
              "house\n",
              "others houses      926\n",
              "does not belong    381\n",
              "Night's Watch       88\n",
              "House Stark         56\n",
              "House Targaryen     40\n",
              "House Lannister     36\n",
              "House Greyjoy       30\n",
              "Name: count, dtype: int64"
            ],
            "text/html": [
              "<div>\n",
              "<style scoped>\n",
              "    .dataframe tbody tr th:only-of-type {\n",
              "        vertical-align: middle;\n",
              "    }\n",
              "\n",
              "    .dataframe tbody tr th {\n",
              "        vertical-align: top;\n",
              "    }\n",
              "\n",
              "    .dataframe thead th {\n",
              "        text-align: right;\n",
              "    }\n",
              "</style>\n",
              "<table border=\"1\" class=\"dataframe\">\n",
              "  <thead>\n",
              "    <tr style=\"text-align: right;\">\n",
              "      <th></th>\n",
              "      <th>count</th>\n",
              "    </tr>\n",
              "    <tr>\n",
              "      <th>house</th>\n",
              "      <th></th>\n",
              "    </tr>\n",
              "  </thead>\n",
              "  <tbody>\n",
              "    <tr>\n",
              "      <th>others houses</th>\n",
              "      <td>926</td>\n",
              "    </tr>\n",
              "    <tr>\n",
              "      <th>does not belong</th>\n",
              "      <td>381</td>\n",
              "    </tr>\n",
              "    <tr>\n",
              "      <th>Night's Watch</th>\n",
              "      <td>88</td>\n",
              "    </tr>\n",
              "    <tr>\n",
              "      <th>House Stark</th>\n",
              "      <td>56</td>\n",
              "    </tr>\n",
              "    <tr>\n",
              "      <th>House Targaryen</th>\n",
              "      <td>40</td>\n",
              "    </tr>\n",
              "    <tr>\n",
              "      <th>House Lannister</th>\n",
              "      <td>36</td>\n",
              "    </tr>\n",
              "    <tr>\n",
              "      <th>House Greyjoy</th>\n",
              "      <td>30</td>\n",
              "    </tr>\n",
              "  </tbody>\n",
              "</table>\n",
              "</div><br><label><b>dtype:</b> int64</label>"
            ]
          },
          "metadata": {},
          "execution_count": 569
        }
      ]
    },
    {
      "cell_type": "markdown",
      "source": [
        "Таким образом, число уникальных значений в столбце house было сокращено + максимально сохранён смысл значений. Осталось провести только label-энкодинг."
      ],
      "metadata": {
        "id": "_CzmkZRXH47K"
      }
    },
    {
      "cell_type": "code",
      "source": [
        "data[\"house\"] = label_encoding.fit_transform(data[\"house\"])"
      ],
      "metadata": {
        "id": "rNOM9-8uIMyw"
      },
      "execution_count": 560,
      "outputs": []
    },
    {
      "cell_type": "markdown",
      "source": [
        "Обработка столбца завершена."
      ],
      "metadata": {
        "id": "mGKhi4fRSuRz"
      }
    },
    {
      "cell_type": "markdown",
      "source": [
        "### Обработка столбца spouse"
      ],
      "metadata": {
        "id": "VBfqtfKFIU63"
      }
    },
    {
      "cell_type": "markdown",
      "source": [
        "Данный столбец декодируем следующим путём, если у ячейки есть значение, то поставим 1, в противном случае поставим 0. Таким образом, данный столбец будет отображить есть ли у персоонажа супруг/супруга или нет."
      ],
      "metadata": {
        "id": "JrVS12LbIfhF"
      }
    },
    {
      "cell_type": "code",
      "source": [
        "data[\"spouse\"] = data[\"spouse\"].apply(lambda x: 1 if type(x) == str else 0)"
      ],
      "metadata": {
        "id": "AGLE9iKgIju3"
      },
      "execution_count": 520,
      "outputs": []
    },
    {
      "cell_type": "markdown",
      "source": [
        "Обработка столбца завершена."
      ],
      "metadata": {
        "id": "xnMoNZ9uSv-U"
      }
    },
    {
      "cell_type": "markdown",
      "source": [
        "### Столбцы book1/2/3/4/5 в обработке не нуждаются"
      ],
      "metadata": {
        "id": "DJY3ylWzI7KG"
      }
    },
    {
      "cell_type": "markdown",
      "source": [
        "### Столбец isMarried в обаботке не нуждается"
      ],
      "metadata": {
        "id": "IYOashc8QTyw"
      }
    },
    {
      "cell_type": "markdown",
      "source": [
        "### Столбец isNoble в обаботке не нуждается"
      ],
      "metadata": {
        "id": "EIpEUO95QaWE"
      }
    },
    {
      "cell_type": "markdown",
      "source": [
        "### Обработка столбца age"
      ],
      "metadata": {
        "id": "hQ9aJ29EQd04"
      }
    },
    {
      "cell_type": "markdown",
      "source": [
        "В данном столбце тоже больно много уникальных значений, можно их сократить введя отрезки: если персонажу > 10 лет, то пишем 10, если > 20, то пишем 20 и так далее. Если будем встречать None, то будем писать -1."
      ],
      "metadata": {
        "id": "MTVxUHjVQmQ2"
      }
    },
    {
      "cell_type": "code",
      "source": [
        "data[\"age\"] = data[\"age\"].apply(lambda x: x // 10 * 10 if not(pd.isna(x)) else -1)"
      ],
      "metadata": {
        "id": "IRSEWhixQ5Hs"
      },
      "execution_count": 521,
      "outputs": []
    },
    {
      "cell_type": "markdown",
      "source": [
        "Обработка столбца завершена."
      ],
      "metadata": {
        "id": "AIj2VXfhRJcV"
      }
    },
    {
      "cell_type": "markdown",
      "source": [
        "### Обработка столбца numDeadRelations"
      ],
      "metadata": {
        "id": "MJ85vBsVRbnl"
      }
    },
    {
      "cell_type": "markdown",
      "source": [
        "Обрабатываем столбец также как и в подсказке:\n",
        "\n",
        "---\n",
        "\n",
        "Создайте признак boolDeadRelations. Давайте упростим признак numDeadRelations, и просто поделим людей на тех, у кого были хоть какие то отношения с мертвыми персонажами, т.е. numDeadRelations > 0, и те, у которых не было, т.е. numDeadRelations = 0."
      ],
      "metadata": {
        "id": "Hk1Ol_XlRONB"
      }
    },
    {
      "cell_type": "code",
      "source": [
        "data[\"numDeadRelations\"] = data[\"numDeadRelations\"].apply(lambda x: 1 if x > 0 else 0)"
      ],
      "metadata": {
        "id": "ogNL_j5xRgNy"
      },
      "execution_count": 523,
      "outputs": []
    },
    {
      "cell_type": "code",
      "source": [
        "data.rename(columns={\"numDeadRelations\": \"boolDeadRelations\"}, inplace=True)"
      ],
      "metadata": {
        "id": "Edam-iZAS9lk"
      },
      "execution_count": 524,
      "outputs": []
    },
    {
      "cell_type": "markdown",
      "source": [
        "Обработка столбца завершена."
      ],
      "metadata": {
        "id": "RTqw2NvXRv_X"
      }
    },
    {
      "cell_type": "markdown",
      "source": [
        "### Обработка столбца popularity"
      ],
      "metadata": {
        "id": "OTnHTQsqSJ6F"
      }
    },
    {
      "cell_type": "markdown",
      "source": [
        "Обрабатываем столбец также как и в подсказке:\n",
        "\n",
        "---\n",
        "\n",
        "Создайте признак isPopular. У вас есть в таблице признак popularity score, поставьте какой то порог, например, 0.5, и пусть те персонажи, у которых popularity score меньше 0.5, непопулярны, т.е. isPopular = 0. Если же выше 0.5, тогда пусть isPopular=1."
      ],
      "metadata": {
        "id": "usnKzERDSQBd"
      }
    },
    {
      "cell_type": "code",
      "source": [
        "data[\"popularity\"] = data[\"popularity\"].apply(lambda x: 1 if x > 0.5 else 0)"
      ],
      "metadata": {
        "id": "tZLX6LXcRzAQ"
      },
      "execution_count": 525,
      "outputs": []
    },
    {
      "cell_type": "code",
      "source": [
        "data.rename(columns={\"popularity\": \"isPopular\"}, inplace=True)"
      ],
      "metadata": {
        "id": "MJTxm0OlTB35"
      },
      "execution_count": 526,
      "outputs": []
    },
    {
      "cell_type": "markdown",
      "source": [
        "Обработка столбца завершена."
      ],
      "metadata": {
        "id": "if29UrjgSY_n"
      }
    },
    {
      "cell_type": "markdown",
      "source": [
        "## Итоговый отбор столбцов"
      ],
      "metadata": {
        "id": "4vnDMAGfTVGR"
      }
    },
    {
      "cell_type": "markdown",
      "source": [
        "Теперь, когда все столбцы преобразованы можно посмотреть на их корреляцию с целевой переменной."
      ],
      "metadata": {
        "id": "7MXJz7JuTa-b"
      }
    },
    {
      "cell_type": "code",
      "source": [
        "plt.figure(figsize=(20, 10))\n",
        "\n",
        "plt.subplot(1, 2, 1)\n",
        "sn.heatmap(data[[\"male\", \"culture\", \"mother\", \"father\", \"heir\", \"house\", \"spouse\", \"book1\", \"isAlive\"]].corr(), annot = True)\n",
        "\n",
        "plt.subplot(1, 2, 2)\n",
        "sn.heatmap(data[[\"book2\", \"book3\", \"book4\", \"book5\", \"isMarried\", \"isNoble\", \"age\", \"boolDeadRelations\", \"isPopular\", \"isAlive\"]].corr(), annot = True)\n",
        "\n",
        "plt.show()"
      ],
      "metadata": {
        "colab": {
          "base_uri": "https://localhost:8080/",
          "height": 952
        },
        "id": "df_1G5VJT31E",
        "outputId": "a29cb093-1a4f-412f-c22a-f88debf9e121"
      },
      "execution_count": 527,
      "outputs": [
        {
          "output_type": "display_data",
          "data": {
            "text/plain": [
              "<Figure size 2000x1000 with 4 Axes>"
            ],
            "image/png": "[encoded data removed]"
          },
          "metadata": {}
        }
      ]
    },
    {
      "cell_type": "markdown",
      "source": [
        "Удалим все призаки, модуль корреляции с целевым признаком которых меньше 0.1:"
      ],
      "metadata": {
        "id": "cKEeCxohWAVp"
      }
    },
    {
      "cell_type": "code",
      "source": [
        "data.drop(columns=[\"culture\", \"spouse\", \"book2\", \"book3\", \"book5\", \"isMarried\", \"isNoble\"], inplace=True)"
      ],
      "metadata": {
        "id": "9brrUEHvWTj_"
      },
      "execution_count": 528,
      "outputs": []
    },
    {
      "cell_type": "markdown",
      "source": [
        "Таким образом, обработка и признаков завершены, можно приступать к обучению моделей."
      ],
      "metadata": {
        "id": "v6vSj4KhW2Nr"
      }
    },
    {
      "cell_type": "markdown",
      "source": [
        "# Обучение и оценка моделей"
      ],
      "metadata": {
        "id": "YL2TJ2aIXDsi"
      }
    },
    {
      "cell_type": "markdown",
      "source": [
        "## Нормализация данных"
      ],
      "metadata": {
        "id": "XMAhmTxUYR-L"
      }
    },
    {
      "cell_type": "code",
      "source": [
        "y = data[\"isAlive\"].copy()\n",
        "data.drop(columns=[\"isAlive\"], inplace=True)\n",
        "\n",
        "X = data.copy()"
      ],
      "metadata": {
        "id": "2Ob7YCLXYXh6"
      },
      "execution_count": 529,
      "outputs": []
    },
    {
      "cell_type": "code",
      "source": [
        "min_max_scl = MinMaxScaler()\n",
        "\n",
        "X = min_max_scl.fit_transform(X)"
      ],
      "metadata": {
        "id": "ySHXT0zSYf7m"
      },
      "execution_count": 530,
      "outputs": []
    },
    {
      "cell_type": "markdown",
      "source": [
        "## Разделение данных на train и test"
      ],
      "metadata": {
        "id": "c8kfsfo_XQUR"
      }
    },
    {
      "cell_type": "code",
      "source": [
        "X_train, X_test, y_train, y_test = train_test_split(X, y, test_size=0.2, shuffle=True, random_state=42)"
      ],
      "metadata": {
        "id": "cZwm2NrrX8-U"
      },
      "execution_count": 531,
      "outputs": []
    },
    {
      "cell_type": "markdown",
      "source": [
        "## Логистическая регрессия"
      ],
      "metadata": {
        "id": "Udi5SdxgZY4K"
      }
    },
    {
      "cell_type": "markdown",
      "source": [
        "Обучение:"
      ],
      "metadata": {
        "id": "TCHeR4P-ZmZp"
      }
    },
    {
      "cell_type": "code",
      "source": [
        "logistic_regression = LogisticRegression()\n",
        "logistic_regression.fit(X_train, y_train)"
      ],
      "metadata": {
        "colab": {
          "base_uri": "https://localhost:8080/",
          "height": 80
        },
        "id": "tkoHBtVxZoGj",
        "outputId": "4ec6f908-ab41-4d5b-d6c3-331af58e3d11"
      },
      "execution_count": 532,
      "outputs": [
        {
          "output_type": "execute_result",
          "data": {
            "text/plain": [
              "LogisticRegression()"
            ],
            "text/html": [
              "<style>#sk-container-id-6 {\n",
              "  /* Definition of color scheme common for light and dark mode */\n",
              "  --sklearn-color-text: #000;\n",
              "  --sklearn-color-text-muted: #666;\n",
              "  --sklearn-color-line: gray;\n",
              "  /* Definition of color scheme for unfitted estimators */\n",
              "  --sklearn-color-unfitted-level-0: #fff5e6;\n",
              "  --sklearn-color-unfitted-level-1: #f6e4d2;\n",
              "  --sklearn-color-unfitted-level-2: #ffe0b3;\n",
              "  --sklearn-color-unfitted-level-3: chocolate;\n",
              "  /* Definition of color scheme for fitted estimators */\n",
              "  --sklearn-color-fitted-level-0: #f0f8ff;\n",
              "  --sklearn-color-fitted-level-1: #d4ebff;\n",
              "  --sklearn-color-fitted-level-2: #b3dbfd;\n",
              "  --sklearn-color-fitted-level-3: cornflowerblue;\n",
              "\n",
              "  /* Specific color for light theme */\n",
              "  --sklearn-color-text-on-default-background: var(--sg-text-color, var(--theme-code-foreground, var(--jp-content-font-color1, black)));\n",
              "  --sklearn-color-background: var(--sg-background-color, var(--theme-background, var(--jp-layout-color0, white)));\n",
              "  --sklearn-color-border-box: var(--sg-text-color, var(--theme-code-foreground, var(--jp-content-font-color1, black)));\n",
              "  --sklearn-color-icon: #696969;\n",
              "\n",
              "  @media (prefers-color-scheme: dark) {\n",
              "    /* Redefinition of color scheme for dark theme */\n",
              "    --sklearn-color-text-on-default-background: var(--sg-text-color, var(--theme-code-foreground, var(--jp-content-font-color1, white)));\n",
              "    --sklearn-color-background: var(--sg-background-color, var(--theme-background, var(--jp-layout-color0, #111)));\n",
              "    --sklearn-color-border-box: var(--sg-text-color, var(--theme-code-foreground, var(--jp-content-font-color1, white)));\n",
              "    --sklearn-color-icon: #878787;\n",
              "  }\n",
              "}\n",
              "\n",
              "#sk-container-id-6 {\n",
              "  color: var(--sklearn-color-text);\n",
              "}\n",
              "\n",
              "#sk-container-id-6 pre {\n",
              "  padding: 0;\n",
              "}\n",
              "\n",
              "#sk-container-id-6 input.sk-hidden--visually {\n",
              "  border: 0;\n",
              "  clip: rect(1px 1px 1px 1px);\n",
              "  clip: rect(1px, 1px, 1px, 1px);\n",
              "  height: 1px;\n",
              "  margin: -1px;\n",
              "  overflow: hidden;\n",
              "  padding: 0;\n",
              "  position: absolute;\n",
              "  width: 1px;\n",
              "}\n",
              "\n",
              "#sk-container-id-6 div.sk-dashed-wrapped {\n",
              "  border: 1px dashed var(--sklearn-color-line);\n",
              "  margin: 0 0.4em 0.5em 0.4em;\n",
              "  box-sizing: border-box;\n",
              "  padding-bottom: 0.4em;\n",
              "  background-color: var(--sklearn-color-background);\n",
              "}\n",
              "\n",
              "#sk-container-id-6 div.sk-container {\n",
              "  /* jupyter's `normalize.less` sets `[hidden] { display: none; }`\n",
              "     but bootstrap.min.css set `[hidden] { display: none !important; }`\n",
              "     so we also need the `!important` here to be able to override the\n",
              "     default hidden behavior on the sphinx rendered scikit-learn.org.\n",
              "     See: https://github.com/scikit-learn/scikit-learn/issues/21755 */\n",
              "  display: inline-block !important;\n",
              "  position: relative;\n",
              "}\n",
              "\n",
              "#sk-container-id-6 div.sk-text-repr-fallback {\n",
              "  display: none;\n",
              "}\n",
              "\n",
              "div.sk-parallel-item,\n",
              "div.sk-serial,\n",
              "div.sk-item {\n",
              "  /* draw centered vertical line to link estimators */\n",
              "  background-image: linear-gradient(var(--sklearn-color-text-on-default-background), var(--sklearn-color-text-on-default-background));\n",
              "  background-size: 2px 100%;\n",
              "  background-repeat: no-repeat;\n",
              "  background-position: center center;\n",
              "}\n",
              "\n",
              "/* Parallel-specific style estimator block */\n",
              "\n",
              "#sk-container-id-6 div.sk-parallel-item::after {\n",
              "  content: \"\";\n",
              "  width: 100%;\n",
              "  border-bottom: 2px solid var(--sklearn-color-text-on-default-background);\n",
              "  flex-grow: 1;\n",
              "}\n",
              "\n",
              "#sk-container-id-6 div.sk-parallel {\n",
              "  display: flex;\n",
              "  align-items: stretch;\n",
              "  justify-content: center;\n",
              "  background-color: var(--sklearn-color-background);\n",
              "  position: relative;\n",
              "}\n",
              "\n",
              "#sk-container-id-6 div.sk-parallel-item {\n",
              "  display: flex;\n",
              "  flex-direction: column;\n",
              "}\n",
              "\n",
              "#sk-container-id-6 div.sk-parallel-item:first-child::after {\n",
              "  align-self: flex-end;\n",
              "  width: 50%;\n",
              "}\n",
              "\n",
              "#sk-container-id-6 div.sk-parallel-item:last-child::after {\n",
              "  align-self: flex-start;\n",
              "  width: 50%;\n",
              "}\n",
              "\n",
              "#sk-container-id-6 div.sk-parallel-item:only-child::after {\n",
              "  width: 0;\n",
              "}\n",
              "\n",
              "/* Serial-specific style estimator block */\n",
              "\n",
              "#sk-container-id-6 div.sk-serial {\n",
              "  display: flex;\n",
              "  flex-direction: column;\n",
              "  align-items: center;\n",
              "  background-color: var(--sklearn-color-background);\n",
              "  padding-right: 1em;\n",
              "  padding-left: 1em;\n",
              "}\n",
              "\n",
              "\n",
              "/* Toggleable style: style used for estimator/Pipeline/ColumnTransformer box that is\n",
              "clickable and can be expanded/collapsed.\n",
              "- Pipeline and ColumnTransformer use this feature and define the default style\n",
              "- Estimators will overwrite some part of the style using the `sk-estimator` class\n",
              "*/\n",
              "\n",
              "/* Pipeline and ColumnTransformer style (default) */\n",
              "\n",
              "#sk-container-id-6 div.sk-toggleable {\n",
              "  /* Default theme specific background. It is overwritten whether we have a\n",
              "  specific estimator or a Pipeline/ColumnTransformer */\n",
              "  background-color: var(--sklearn-color-background);\n",
              "}\n",
              "\n",
              "/* Toggleable label */\n",
              "#sk-container-id-6 label.sk-toggleable__label {\n",
              "  cursor: pointer;\n",
              "  display: flex;\n",
              "  width: 100%;\n",
              "  margin-bottom: 0;\n",
              "  padding: 0.5em;\n",
              "  box-sizing: border-box;\n",
              "  text-align: center;\n",
              "  align-items: start;\n",
              "  justify-content: space-between;\n",
              "  gap: 0.5em;\n",
              "}\n",
              "\n",
              "#sk-container-id-6 label.sk-toggleable__label .caption {\n",
              "  font-size: 0.6rem;\n",
              "  font-weight: lighter;\n",
              "  color: var(--sklearn-color-text-muted);\n",
              "}\n",
              "\n",
              "#sk-container-id-6 label.sk-toggleable__label-arrow:before {\n",
              "  /* Arrow on the left of the label */\n",
              "  content: \"▸\";\n",
              "  float: left;\n",
              "  margin-right: 0.25em;\n",
              "  color: var(--sklearn-color-icon);\n",
              "}\n",
              "\n",
              "#sk-container-id-6 label.sk-toggleable__label-arrow:hover:before {\n",
              "  color: var(--sklearn-color-text);\n",
              "}\n",
              "\n",
              "/* Toggleable content - dropdown */\n",
              "\n",
              "#sk-container-id-6 div.sk-toggleable__content {\n",
              "  max-height: 0;\n",
              "  max-width: 0;\n",
              "  overflow: hidden;\n",
              "  text-align: left;\n",
              "  /* unfitted */\n",
              "  background-color: var(--sklearn-color-unfitted-level-0);\n",
              "}\n",
              "\n",
              "#sk-container-id-6 div.sk-toggleable__content.fitted {\n",
              "  /* fitted */\n",
              "  background-color: var(--sklearn-color-fitted-level-0);\n",
              "}\n",
              "\n",
              "#sk-container-id-6 div.sk-toggleable__content pre {\n",
              "  margin: 0.2em;\n",
              "  border-radius: 0.25em;\n",
              "  color: var(--sklearn-color-text);\n",
              "  /* unfitted */\n",
              "  background-color: var(--sklearn-color-unfitted-level-0);\n",
              "}\n",
              "\n",
              "#sk-container-id-6 div.sk-toggleable__content.fitted pre {\n",
              "  /* unfitted */\n",
              "  background-color: var(--sklearn-color-fitted-level-0);\n",
              "}\n",
              "\n",
              "#sk-container-id-6 input.sk-toggleable__control:checked~div.sk-toggleable__content {\n",
              "  /* Expand drop-down */\n",
              "  max-height: 200px;\n",
              "  max-width: 100%;\n",
              "  overflow: auto;\n",
              "}\n",
              "\n",
              "#sk-container-id-6 input.sk-toggleable__control:checked~label.sk-toggleable__label-arrow:before {\n",
              "  content: \"▾\";\n",
              "}\n",
              "\n",
              "/* Pipeline/ColumnTransformer-specific style */\n",
              "\n",
              "#sk-container-id-6 div.sk-label input.sk-toggleable__control:checked~label.sk-toggleable__label {\n",
              "  color: var(--sklearn-color-text);\n",
              "  background-color: var(--sklearn-color-unfitted-level-2);\n",
              "}\n",
              "\n",
              "#sk-container-id-6 div.sk-label.fitted input.sk-toggleable__control:checked~label.sk-toggleable__label {\n",
              "  background-color: var(--sklearn-color-fitted-level-2);\n",
              "}\n",
              "\n",
              "/* Estimator-specific style */\n",
              "\n",
              "/* Colorize estimator box */\n",
              "#sk-container-id-6 div.sk-estimator input.sk-toggleable__control:checked~label.sk-toggleable__label {\n",
              "  /* unfitted */\n",
              "  background-color: var(--sklearn-color-unfitted-level-2);\n",
              "}\n",
              "\n",
              "#sk-container-id-6 div.sk-estimator.fitted input.sk-toggleable__control:checked~label.sk-toggleable__label {\n",
              "  /* fitted */\n",
              "  background-color: var(--sklearn-color-fitted-level-2);\n",
              "}\n",
              "\n",
              "#sk-container-id-6 div.sk-label label.sk-toggleable__label,\n",
              "#sk-container-id-6 div.sk-label label {\n",
              "  /* The background is the default theme color */\n",
              "  color: var(--sklearn-color-text-on-default-background);\n",
              "}\n",
              "\n",
              "/* On hover, darken the color of the background */\n",
              "#sk-container-id-6 div.sk-label:hover label.sk-toggleable__label {\n",
              "  color: var(--sklearn-color-text);\n",
              "  background-color: var(--sklearn-color-unfitted-level-2);\n",
              "}\n",
              "\n",
              "/* Label box, darken color on hover, fitted */\n",
              "#sk-container-id-6 div.sk-label.fitted:hover label.sk-toggleable__label.fitted {\n",
              "  color: var(--sklearn-color-text);\n",
              "  background-color: var(--sklearn-color-fitted-level-2);\n",
              "}\n",
              "\n",
              "/* Estimator label */\n",
              "\n",
              "#sk-container-id-6 div.sk-label label {\n",
              "  font-family: monospace;\n",
              "  font-weight: bold;\n",
              "  display: inline-block;\n",
              "  line-height: 1.2em;\n",
              "}\n",
              "\n",
              "#sk-container-id-6 div.sk-label-container {\n",
              "  text-align: center;\n",
              "}\n",
              "\n",
              "/* Estimator-specific */\n",
              "#sk-container-id-6 div.sk-estimator {\n",
              "  font-family: monospace;\n",
              "  border: 1px dotted var(--sklearn-color-border-box);\n",
              "  border-radius: 0.25em;\n",
              "  box-sizing: border-box;\n",
              "  margin-bottom: 0.5em;\n",
              "  /* unfitted */\n",
              "  background-color: var(--sklearn-color-unfitted-level-0);\n",
              "}\n",
              "\n",
              "#sk-container-id-6 div.sk-estimator.fitted {\n",
              "  /* fitted */\n",
              "  background-color: var(--sklearn-color-fitted-level-0);\n",
              "}\n",
              "\n",
              "/* on hover */\n",
              "#sk-container-id-6 div.sk-estimator:hover {\n",
              "  /* unfitted */\n",
              "  background-color: var(--sklearn-color-unfitted-level-2);\n",
              "}\n",
              "\n",
              "#sk-container-id-6 div.sk-estimator.fitted:hover {\n",
              "  /* fitted */\n",
              "  background-color: var(--sklearn-color-fitted-level-2);\n",
              "}\n",
              "\n",
              "/* Specification for estimator info (e.g. \"i\" and \"?\") */\n",
              "\n",
              "/* Common style for \"i\" and \"?\" */\n",
              "\n",
              ".sk-estimator-doc-link,\n",
              "a:link.sk-estimator-doc-link,\n",
              "a:visited.sk-estimator-doc-link {\n",
              "  float: right;\n",
              "  font-size: smaller;\n",
              "  line-height: 1em;\n",
              "  font-family: monospace;\n",
              "  background-color: var(--sklearn-color-background);\n",
              "  border-radius: 1em;\n",
              "  height: 1em;\n",
              "  width: 1em;\n",
              "  text-decoration: none !important;\n",
              "  margin-left: 0.5em;\n",
              "  text-align: center;\n",
              "  /* unfitted */\n",
              "  border: var(--sklearn-color-unfitted-level-1) 1pt solid;\n",
              "  color: var(--sklearn-color-unfitted-level-1);\n",
              "}\n",
              "\n",
              ".sk-estimator-doc-link.fitted,\n",
              "a:link.sk-estimator-doc-link.fitted,\n",
              "a:visited.sk-estimator-doc-link.fitted {\n",
              "  /* fitted */\n",
              "  border: var(--sklearn-color-fitted-level-1) 1pt solid;\n",
              "  color: var(--sklearn-color-fitted-level-1);\n",
              "}\n",
              "\n",
              "/* On hover */\n",
              "div.sk-estimator:hover .sk-estimator-doc-link:hover,\n",
              ".sk-estimator-doc-link:hover,\n",
              "div.sk-label-container:hover .sk-estimator-doc-link:hover,\n",
              ".sk-estimator-doc-link:hover {\n",
              "  /* unfitted */\n",
              "  background-color: var(--sklearn-color-unfitted-level-3);\n",
              "  color: var(--sklearn-color-background);\n",
              "  text-decoration: none;\n",
              "}\n",
              "\n",
              "div.sk-estimator.fitted:hover .sk-estimator-doc-link.fitted:hover,\n",
              ".sk-estimator-doc-link.fitted:hover,\n",
              "div.sk-label-container:hover .sk-estimator-doc-link.fitted:hover,\n",
              ".sk-estimator-doc-link.fitted:hover {\n",
              "  /* fitted */\n",
              "  background-color: var(--sklearn-color-fitted-level-3);\n",
              "  color: var(--sklearn-color-background);\n",
              "  text-decoration: none;\n",
              "}\n",
              "\n",
              "/* Span, style for the box shown on hovering the info icon */\n",
              ".sk-estimator-doc-link span {\n",
              "  display: none;\n",
              "  z-index: 9999;\n",
              "  position: relative;\n",
              "  font-weight: normal;\n",
              "  right: .2ex;\n",
              "  padding: .5ex;\n",
              "  margin: .5ex;\n",
              "  width: min-content;\n",
              "  min-width: 20ex;\n",
              "  max-width: 50ex;\n",
              "  color: var(--sklearn-color-text);\n",
              "  box-shadow: 2pt 2pt 4pt #999;\n",
              "  /* unfitted */\n",
              "  background: var(--sklearn-color-unfitted-level-0);\n",
              "  border: .5pt solid var(--sklearn-color-unfitted-level-3);\n",
              "}\n",
              "\n",
              ".sk-estimator-doc-link.fitted span {\n",
              "  /* fitted */\n",
              "  background: var(--sklearn-color-fitted-level-0);\n",
              "  border: var(--sklearn-color-fitted-level-3);\n",
              "}\n",
              "\n",
              ".sk-estimator-doc-link:hover span {\n",
              "  display: block;\n",
              "}\n",
              "\n",
              "/* \"?\"-specific style due to the `<a>` HTML tag */\n",
              "\n",
              "#sk-container-id-6 a.estimator_doc_link {\n",
              "  float: right;\n",
              "  font-size: 1rem;\n",
              "  line-height: 1em;\n",
              "  font-family: monospace;\n",
              "  background-color: var(--sklearn-color-background);\n",
              "  border-radius: 1rem;\n",
              "  height: 1rem;\n",
              "  width: 1rem;\n",
              "  text-decoration: none;\n",
              "  /* unfitted */\n",
              "  color: var(--sklearn-color-unfitted-level-1);\n",
              "  border: var(--sklearn-color-unfitted-level-1) 1pt solid;\n",
              "}\n",
              "\n",
              "#sk-container-id-6 a.estimator_doc_link.fitted {\n",
              "  /* fitted */\n",
              "  border: var(--sklearn-color-fitted-level-1) 1pt solid;\n",
              "  color: var(--sklearn-color-fitted-level-1);\n",
              "}\n",
              "\n",
              "/* On hover */\n",
              "#sk-container-id-6 a.estimator_doc_link:hover {\n",
              "  /* unfitted */\n",
              "  background-color: var(--sklearn-color-unfitted-level-3);\n",
              "  color: var(--sklearn-color-background);\n",
              "  text-decoration: none;\n",
              "}\n",
              "\n",
              "#sk-container-id-6 a.estimator_doc_link.fitted:hover {\n",
              "  /* fitted */\n",
              "  background-color: var(--sklearn-color-fitted-level-3);\n",
              "}\n",
              "</style><div id=\"sk-container-id-6\" class=\"sk-top-container\"><div class=\"sk-text-repr-fallback\"><pre>LogisticRegression()</pre><b>In a Jupyter environment, please rerun this cell to show the HTML representation or trust the notebook. <br />On GitHub, the HTML representation is unable to render, please try loading this page with nbviewer.org.</b></div><div class=\"sk-container\" hidden><div class=\"sk-item\"><div class=\"sk-estimator fitted sk-toggleable\"><input class=\"sk-toggleable__control sk-hidden--visually\" id=\"sk-estimator-id-6\" type=\"checkbox\" checked><label for=\"sk-estimator-id-6\" class=\"sk-toggleable__label fitted sk-toggleable__label-arrow\"><div><div>LogisticRegression</div></div><div><a class=\"sk-estimator-doc-link fitted\" rel=\"noreferrer\" target=\"_blank\" href=\"https://scikit-learn.org/1.6/modules/generated/sklearn.linear_model.LogisticRegression.html\">?<span>Documentation for LogisticRegression</span></a><span class=\"sk-estimator-doc-link fitted\">i<span>Fitted</span></span></div></label><div class=\"sk-toggleable__content fitted\"><pre>LogisticRegression()</pre></div> </div></div></div></div>"
            ]
          },
          "metadata": {},
          "execution_count": 532
        }
      ]
    },
    {
      "cell_type": "markdown",
      "source": [
        "Качество на train и на test:"
      ],
      "metadata": {
        "id": "TKJsiA-CbO5y"
      }
    },
    {
      "cell_type": "code",
      "source": [
        "y_pred = logistic_regression.predict(X_test)\n",
        "\n",
        "train_accuracy = accuracy_score(logistic_regression.predict(X_train), y_train)\n",
        "test_accuracy = accuracy_score(y_test, y_pred)\n",
        "print(f\"train accuracy = {train_accuracy:.4f}, test accuracy = {test_accuracy:.4f}\")"
      ],
      "metadata": {
        "colab": {
          "base_uri": "https://localhost:8080/"
        },
        "id": "q5aDi_XUZdHE",
        "outputId": "650386cb-6250-47e1-a32c-d53bd8903977"
      },
      "execution_count": 533,
      "outputs": [
        {
          "output_type": "stream",
          "name": "stdout",
          "text": [
            "train accuracy = 0.8064, test accuracy = 0.7885\n"
          ]
        }
      ]
    },
    {
      "cell_type": "markdown",
      "source": [
        "## Дерево решений"
      ],
      "metadata": {
        "id": "b_HgFsdIcMAU"
      }
    },
    {
      "cell_type": "markdown",
      "source": [
        "Подбор оптимальных параметров:"
      ],
      "metadata": {
        "id": "VBwyFIMQc-UX"
      }
    },
    {
      "cell_type": "code",
      "source": [
        "GDCV = GridSearchCV( DecisionTreeClassifier(),\n",
        "                     param_grid=[ { 'max_depth': [3, 4, 5, 6, 7, 8, 9, 10],\n",
        "                                    'min_samples_split': [3, 5, 8, 13, 21],\n",
        "                                    'min_samples_leaf': [3, 5, 8, 13, 21] } ],\n",
        "                     cv=5,\n",
        "                     scoring='accuracy' )\n",
        "GDCV.fit(X_train, y_train)\n",
        "GDCV.best_params_"
      ],
      "metadata": {
        "colab": {
          "base_uri": "https://localhost:8080/"
        },
        "id": "b9UazWqcdEPv",
        "outputId": "8482528a-4efa-4530-95d1-7a7f8fcd0a18"
      },
      "execution_count": 534,
      "outputs": [
        {
          "output_type": "execute_result",
          "data": {
            "text/plain": [
              "{'max_depth': 8, 'min_samples_leaf': 13, 'min_samples_split': 3}"
            ]
          },
          "metadata": {},
          "execution_count": 534
        }
      ]
    },
    {
      "cell_type": "markdown",
      "source": [
        "Обучение модели:"
      ],
      "metadata": {
        "id": "IEgwepr6d4uf"
      }
    },
    {
      "cell_type": "code",
      "source": [
        "dtc = DecisionTreeClassifier(max_depth=8, min_samples_leaf=13, min_samples_split=3)\n",
        "dtc.fit(X_train, y_train)"
      ],
      "metadata": {
        "colab": {
          "base_uri": "https://localhost:8080/",
          "height": 80
        },
        "id": "ssM4SyWgd6cp",
        "outputId": "ec566591-d10a-45c5-dcf3-2151ac0e11d1"
      },
      "execution_count": 535,
      "outputs": [
        {
          "output_type": "execute_result",
          "data": {
            "text/plain": [
              "DecisionTreeClassifier(max_depth=8, min_samples_leaf=13, min_samples_split=3)"
            ],
            "text/html": [
              "<style>#sk-container-id-7 {\n",
              "  /* Definition of color scheme common for light and dark mode */\n",
              "  --sklearn-color-text: #000;\n",
              "  --sklearn-color-text-muted: #666;\n",
              "  --sklearn-color-line: gray;\n",
              "  /* Definition of color scheme for unfitted estimators */\n",
              "  --sklearn-color-unfitted-level-0: #fff5e6;\n",
              "  --sklearn-color-unfitted-level-1: #f6e4d2;\n",
              "  --sklearn-color-unfitted-level-2: #ffe0b3;\n",
              "  --sklearn-color-unfitted-level-3: chocolate;\n",
              "  /* Definition of color scheme for fitted estimators */\n",
              "  --sklearn-color-fitted-level-0: #f0f8ff;\n",
              "  --sklearn-color-fitted-level-1: #d4ebff;\n",
              "  --sklearn-color-fitted-level-2: #b3dbfd;\n",
              "  --sklearn-color-fitted-level-3: cornflowerblue;\n",
              "\n",
              "  /* Specific color for light theme */\n",
              "  --sklearn-color-text-on-default-background: var(--sg-text-color, var(--theme-code-foreground, var(--jp-content-font-color1, black)));\n",
              "  --sklearn-color-background: var(--sg-background-color, var(--theme-background, var(--jp-layout-color0, white)));\n",
              "  --sklearn-color-border-box: var(--sg-text-color, var(--theme-code-foreground, var(--jp-content-font-color1, black)));\n",
              "  --sklearn-color-icon: #696969;\n",
              "\n",
              "  @media (prefers-color-scheme: dark) {\n",
              "    /* Redefinition of color scheme for dark theme */\n",
              "    --sklearn-color-text-on-default-background: var(--sg-text-color, var(--theme-code-foreground, var(--jp-content-font-color1, white)));\n",
              "    --sklearn-color-background: var(--sg-background-color, var(--theme-background, var(--jp-layout-color0, #111)));\n",
              "    --sklearn-color-border-box: var(--sg-text-color, var(--theme-code-foreground, var(--jp-content-font-color1, white)));\n",
              "    --sklearn-color-icon: #878787;\n",
              "  }\n",
              "}\n",
              "\n",
              "#sk-container-id-7 {\n",
              "  color: var(--sklearn-color-text);\n",
              "}\n",
              "\n",
              "#sk-container-id-7 pre {\n",
              "  padding: 0;\n",
              "}\n",
              "\n",
              "#sk-container-id-7 input.sk-hidden--visually {\n",
              "  border: 0;\n",
              "  clip: rect(1px 1px 1px 1px);\n",
              "  clip: rect(1px, 1px, 1px, 1px);\n",
              "  height: 1px;\n",
              "  margin: -1px;\n",
              "  overflow: hidden;\n",
              "  padding: 0;\n",
              "  position: absolute;\n",
              "  width: 1px;\n",
              "}\n",
              "\n",
              "#sk-container-id-7 div.sk-dashed-wrapped {\n",
              "  border: 1px dashed var(--sklearn-color-line);\n",
              "  margin: 0 0.4em 0.5em 0.4em;\n",
              "  box-sizing: border-box;\n",
              "  padding-bottom: 0.4em;\n",
              "  background-color: var(--sklearn-color-background);\n",
              "}\n",
              "\n",
              "#sk-container-id-7 div.sk-container {\n",
              "  /* jupyter's `normalize.less` sets `[hidden] { display: none; }`\n",
              "     but bootstrap.min.css set `[hidden] { display: none !important; }`\n",
              "     so we also need the `!important` here to be able to override the\n",
              "     default hidden behavior on the sphinx rendered scikit-learn.org.\n",
              "     See: https://github.com/scikit-learn/scikit-learn/issues/21755 */\n",
              "  display: inline-block !important;\n",
              "  position: relative;\n",
              "}\n",
              "\n",
              "#sk-container-id-7 div.sk-text-repr-fallback {\n",
              "  display: none;\n",
              "}\n",
              "\n",
              "div.sk-parallel-item,\n",
              "div.sk-serial,\n",
              "div.sk-item {\n",
              "  /* draw centered vertical line to link estimators */\n",
              "  background-image: linear-gradient(var(--sklearn-color-text-on-default-background), var(--sklearn-color-text-on-default-background));\n",
              "  background-size: 2px 100%;\n",
              "  background-repeat: no-repeat;\n",
              "  background-position: center center;\n",
              "}\n",
              "\n",
              "/* Parallel-specific style estimator block */\n",
              "\n",
              "#sk-container-id-7 div.sk-parallel-item::after {\n",
              "  content: \"\";\n",
              "  width: 100%;\n",
              "  border-bottom: 2px solid var(--sklearn-color-text-on-default-background);\n",
              "  flex-grow: 1;\n",
              "}\n",
              "\n",
              "#sk-container-id-7 div.sk-parallel {\n",
              "  display: flex;\n",
              "  align-items: stretch;\n",
              "  justify-content: center;\n",
              "  background-color: var(--sklearn-color-background);\n",
              "  position: relative;\n",
              "}\n",
              "\n",
              "#sk-container-id-7 div.sk-parallel-item {\n",
              "  display: flex;\n",
              "  flex-direction: column;\n",
              "}\n",
              "\n",
              "#sk-container-id-7 div.sk-parallel-item:first-child::after {\n",
              "  align-self: flex-end;\n",
              "  width: 50%;\n",
              "}\n",
              "\n",
              "#sk-container-id-7 div.sk-parallel-item:last-child::after {\n",
              "  align-self: flex-start;\n",
              "  width: 50%;\n",
              "}\n",
              "\n",
              "#sk-container-id-7 div.sk-parallel-item:only-child::after {\n",
              "  width: 0;\n",
              "}\n",
              "\n",
              "/* Serial-specific style estimator block */\n",
              "\n",
              "#sk-container-id-7 div.sk-serial {\n",
              "  display: flex;\n",
              "  flex-direction: column;\n",
              "  align-items: center;\n",
              "  background-color: var(--sklearn-color-background);\n",
              "  padding-right: 1em;\n",
              "  padding-left: 1em;\n",
              "}\n",
              "\n",
              "\n",
              "/* Toggleable style: style used for estimator/Pipeline/ColumnTransformer box that is\n",
              "clickable and can be expanded/collapsed.\n",
              "- Pipeline and ColumnTransformer use this feature and define the default style\n",
              "- Estimators will overwrite some part of the style using the `sk-estimator` class\n",
              "*/\n",
              "\n",
              "/* Pipeline and ColumnTransformer style (default) */\n",
              "\n",
              "#sk-container-id-7 div.sk-toggleable {\n",
              "  /* Default theme specific background. It is overwritten whether we have a\n",
              "  specific estimator or a Pipeline/ColumnTransformer */\n",
              "  background-color: var(--sklearn-color-background);\n",
              "}\n",
              "\n",
              "/* Toggleable label */\n",
              "#sk-container-id-7 label.sk-toggleable__label {\n",
              "  cursor: pointer;\n",
              "  display: flex;\n",
              "  width: 100%;\n",
              "  margin-bottom: 0;\n",
              "  padding: 0.5em;\n",
              "  box-sizing: border-box;\n",
              "  text-align: center;\n",
              "  align-items: start;\n",
              "  justify-content: space-between;\n",
              "  gap: 0.5em;\n",
              "}\n",
              "\n",
              "#sk-container-id-7 label.sk-toggleable__label .caption {\n",
              "  font-size: 0.6rem;\n",
              "  font-weight: lighter;\n",
              "  color: var(--sklearn-color-text-muted);\n",
              "}\n",
              "\n",
              "#sk-container-id-7 label.sk-toggleable__label-arrow:before {\n",
              "  /* Arrow on the left of the label */\n",
              "  content: \"▸\";\n",
              "  float: left;\n",
              "  margin-right: 0.25em;\n",
              "  color: var(--sklearn-color-icon);\n",
              "}\n",
              "\n",
              "#sk-container-id-7 label.sk-toggleable__label-arrow:hover:before {\n",
              "  color: var(--sklearn-color-text);\n",
              "}\n",
              "\n",
              "/* Toggleable content - dropdown */\n",
              "\n",
              "#sk-container-id-7 div.sk-toggleable__content {\n",
              "  max-height: 0;\n",
              "  max-width: 0;\n",
              "  overflow: hidden;\n",
              "  text-align: left;\n",
              "  /* unfitted */\n",
              "  background-color: var(--sklearn-color-unfitted-level-0);\n",
              "}\n",
              "\n",
              "#sk-container-id-7 div.sk-toggleable__content.fitted {\n",
              "  /* fitted */\n",
              "  background-color: var(--sklearn-color-fitted-level-0);\n",
              "}\n",
              "\n",
              "#sk-container-id-7 div.sk-toggleable__content pre {\n",
              "  margin: 0.2em;\n",
              "  border-radius: 0.25em;\n",
              "  color: var(--sklearn-color-text);\n",
              "  /* unfitted */\n",
              "  background-color: var(--sklearn-color-unfitted-level-0);\n",
              "}\n",
              "\n",
              "#sk-container-id-7 div.sk-toggleable__content.fitted pre {\n",
              "  /* unfitted */\n",
              "  background-color: var(--sklearn-color-fitted-level-0);\n",
              "}\n",
              "\n",
              "#sk-container-id-7 input.sk-toggleable__control:checked~div.sk-toggleable__content {\n",
              "  /* Expand drop-down */\n",
              "  max-height: 200px;\n",
              "  max-width: 100%;\n",
              "  overflow: auto;\n",
              "}\n",
              "\n",
              "#sk-container-id-7 input.sk-toggleable__control:checked~label.sk-toggleable__label-arrow:before {\n",
              "  content: \"▾\";\n",
              "}\n",
              "\n",
              "/* Pipeline/ColumnTransformer-specific style */\n",
              "\n",
              "#sk-container-id-7 div.sk-label input.sk-toggleable__control:checked~label.sk-toggleable__label {\n",
              "  color: var(--sklearn-color-text);\n",
              "  background-color: var(--sklearn-color-unfitted-level-2);\n",
              "}\n",
              "\n",
              "#sk-container-id-7 div.sk-label.fitted input.sk-toggleable__control:checked~label.sk-toggleable__label {\n",
              "  background-color: var(--sklearn-color-fitted-level-2);\n",
              "}\n",
              "\n",
              "/* Estimator-specific style */\n",
              "\n",
              "/* Colorize estimator box */\n",
              "#sk-container-id-7 div.sk-estimator input.sk-toggleable__control:checked~label.sk-toggleable__label {\n",
              "  /* unfitted */\n",
              "  background-color: var(--sklearn-color-unfitted-level-2);\n",
              "}\n",
              "\n",
              "#sk-container-id-7 div.sk-estimator.fitted input.sk-toggleable__control:checked~label.sk-toggleable__label {\n",
              "  /* fitted */\n",
              "  background-color: var(--sklearn-color-fitted-level-2);\n",
              "}\n",
              "\n",
              "#sk-container-id-7 div.sk-label label.sk-toggleable__label,\n",
              "#sk-container-id-7 div.sk-label label {\n",
              "  /* The background is the default theme color */\n",
              "  color: var(--sklearn-color-text-on-default-background);\n",
              "}\n",
              "\n",
              "/* On hover, darken the color of the background */\n",
              "#sk-container-id-7 div.sk-label:hover label.sk-toggleable__label {\n",
              "  color: var(--sklearn-color-text);\n",
              "  background-color: var(--sklearn-color-unfitted-level-2);\n",
              "}\n",
              "\n",
              "/* Label box, darken color on hover, fitted */\n",
              "#sk-container-id-7 div.sk-label.fitted:hover label.sk-toggleable__label.fitted {\n",
              "  color: var(--sklearn-color-text);\n",
              "  background-color: var(--sklearn-color-fitted-level-2);\n",
              "}\n",
              "\n",
              "/* Estimator label */\n",
              "\n",
              "#sk-container-id-7 div.sk-label label {\n",
              "  font-family: monospace;\n",
              "  font-weight: bold;\n",
              "  display: inline-block;\n",
              "  line-height: 1.2em;\n",
              "}\n",
              "\n",
              "#sk-container-id-7 div.sk-label-container {\n",
              "  text-align: center;\n",
              "}\n",
              "\n",
              "/* Estimator-specific */\n",
              "#sk-container-id-7 div.sk-estimator {\n",
              "  font-family: monospace;\n",
              "  border: 1px dotted var(--sklearn-color-border-box);\n",
              "  border-radius: 0.25em;\n",
              "  box-sizing: border-box;\n",
              "  margin-bottom: 0.5em;\n",
              "  /* unfitted */\n",
              "  background-color: var(--sklearn-color-unfitted-level-0);\n",
              "}\n",
              "\n",
              "#sk-container-id-7 div.sk-estimator.fitted {\n",
              "  /* fitted */\n",
              "  background-color: var(--sklearn-color-fitted-level-0);\n",
              "}\n",
              "\n",
              "/* on hover */\n",
              "#sk-container-id-7 div.sk-estimator:hover {\n",
              "  /* unfitted */\n",
              "  background-color: var(--sklearn-color-unfitted-level-2);\n",
              "}\n",
              "\n",
              "#sk-container-id-7 div.sk-estimator.fitted:hover {\n",
              "  /* fitted */\n",
              "  background-color: var(--sklearn-color-fitted-level-2);\n",
              "}\n",
              "\n",
              "/* Specification for estimator info (e.g. \"i\" and \"?\") */\n",
              "\n",
              "/* Common style for \"i\" and \"?\" */\n",
              "\n",
              ".sk-estimator-doc-link,\n",
              "a:link.sk-estimator-doc-link,\n",
              "a:visited.sk-estimator-doc-link {\n",
              "  float: right;\n",
              "  font-size: smaller;\n",
              "  line-height: 1em;\n",
              "  font-family: monospace;\n",
              "  background-color: var(--sklearn-color-background);\n",
              "  border-radius: 1em;\n",
              "  height: 1em;\n",
              "  width: 1em;\n",
              "  text-decoration: none !important;\n",
              "  margin-left: 0.5em;\n",
              "  text-align: center;\n",
              "  /* unfitted */\n",
              "  border: var(--sklearn-color-unfitted-level-1) 1pt solid;\n",
              "  color: var(--sklearn-color-unfitted-level-1);\n",
              "}\n",
              "\n",
              ".sk-estimator-doc-link.fitted,\n",
              "a:link.sk-estimator-doc-link.fitted,\n",
              "a:visited.sk-estimator-doc-link.fitted {\n",
              "  /* fitted */\n",
              "  border: var(--sklearn-color-fitted-level-1) 1pt solid;\n",
              "  color: var(--sklearn-color-fitted-level-1);\n",
              "}\n",
              "\n",
              "/* On hover */\n",
              "div.sk-estimator:hover .sk-estimator-doc-link:hover,\n",
              ".sk-estimator-doc-link:hover,\n",
              "div.sk-label-container:hover .sk-estimator-doc-link:hover,\n",
              ".sk-estimator-doc-link:hover {\n",
              "  /* unfitted */\n",
              "  background-color: var(--sklearn-color-unfitted-level-3);\n",
              "  color: var(--sklearn-color-background);\n",
              "  text-decoration: none;\n",
              "}\n",
              "\n",
              "div.sk-estimator.fitted:hover .sk-estimator-doc-link.fitted:hover,\n",
              ".sk-estimator-doc-link.fitted:hover,\n",
              "div.sk-label-container:hover .sk-estimator-doc-link.fitted:hover,\n",
              ".sk-estimator-doc-link.fitted:hover {\n",
              "  /* fitted */\n",
              "  background-color: var(--sklearn-color-fitted-level-3);\n",
              "  color: var(--sklearn-color-background);\n",
              "  text-decoration: none;\n",
              "}\n",
              "\n",
              "/* Span, style for the box shown on hovering the info icon */\n",
              ".sk-estimator-doc-link span {\n",
              "  display: none;\n",
              "  z-index: 9999;\n",
              "  position: relative;\n",
              "  font-weight: normal;\n",
              "  right: .2ex;\n",
              "  padding: .5ex;\n",
              "  margin: .5ex;\n",
              "  width: min-content;\n",
              "  min-width: 20ex;\n",
              "  max-width: 50ex;\n",
              "  color: var(--sklearn-color-text);\n",
              "  box-shadow: 2pt 2pt 4pt #999;\n",
              "  /* unfitted */\n",
              "  background: var(--sklearn-color-unfitted-level-0);\n",
              "  border: .5pt solid var(--sklearn-color-unfitted-level-3);\n",
              "}\n",
              "\n",
              ".sk-estimator-doc-link.fitted span {\n",
              "  /* fitted */\n",
              "  background: var(--sklearn-color-fitted-level-0);\n",
              "  border: var(--sklearn-color-fitted-level-3);\n",
              "}\n",
              "\n",
              ".sk-estimator-doc-link:hover span {\n",
              "  display: block;\n",
              "}\n",
              "\n",
              "/* \"?\"-specific style due to the `<a>` HTML tag */\n",
              "\n",
              "#sk-container-id-7 a.estimator_doc_link {\n",
              "  float: right;\n",
              "  font-size: 1rem;\n",
              "  line-height: 1em;\n",
              "  font-family: monospace;\n",
              "  background-color: var(--sklearn-color-background);\n",
              "  border-radius: 1rem;\n",
              "  height: 1rem;\n",
              "  width: 1rem;\n",
              "  text-decoration: none;\n",
              "  /* unfitted */\n",
              "  color: var(--sklearn-color-unfitted-level-1);\n",
              "  border: var(--sklearn-color-unfitted-level-1) 1pt solid;\n",
              "}\n",
              "\n",
              "#sk-container-id-7 a.estimator_doc_link.fitted {\n",
              "  /* fitted */\n",
              "  border: var(--sklearn-color-fitted-level-1) 1pt solid;\n",
              "  color: var(--sklearn-color-fitted-level-1);\n",
              "}\n",
              "\n",
              "/* On hover */\n",
              "#sk-container-id-7 a.estimator_doc_link:hover {\n",
              "  /* unfitted */\n",
              "  background-color: var(--sklearn-color-unfitted-level-3);\n",
              "  color: var(--sklearn-color-background);\n",
              "  text-decoration: none;\n",
              "}\n",
              "\n",
              "#sk-container-id-7 a.estimator_doc_link.fitted:hover {\n",
              "  /* fitted */\n",
              "  background-color: var(--sklearn-color-fitted-level-3);\n",
              "}\n",
              "</style><div id=\"sk-container-id-7\" class=\"sk-top-container\"><div class=\"sk-text-repr-fallback\"><pre>DecisionTreeClassifier(max_depth=8, min_samples_leaf=13, min_samples_split=3)</pre><b>In a Jupyter environment, please rerun this cell to show the HTML representation or trust the notebook. <br />On GitHub, the HTML representation is unable to render, please try loading this page with nbviewer.org.</b></div><div class=\"sk-container\" hidden><div class=\"sk-item\"><div class=\"sk-estimator fitted sk-toggleable\"><input class=\"sk-toggleable__control sk-hidden--visually\" id=\"sk-estimator-id-7\" type=\"checkbox\" checked><label for=\"sk-estimator-id-7\" class=\"sk-toggleable__label fitted sk-toggleable__label-arrow\"><div><div>DecisionTreeClassifier</div></div><div><a class=\"sk-estimator-doc-link fitted\" rel=\"noreferrer\" target=\"_blank\" href=\"https://scikit-learn.org/1.6/modules/generated/sklearn.tree.DecisionTreeClassifier.html\">?<span>Documentation for DecisionTreeClassifier</span></a><span class=\"sk-estimator-doc-link fitted\">i<span>Fitted</span></span></div></label><div class=\"sk-toggleable__content fitted\"><pre>DecisionTreeClassifier(max_depth=8, min_samples_leaf=13, min_samples_split=3)</pre></div> </div></div></div></div>"
            ]
          },
          "metadata": {},
          "execution_count": 535
        }
      ]
    },
    {
      "cell_type": "markdown",
      "source": [
        "Качество на train и на test:"
      ],
      "metadata": {
        "id": "tFucT94ReMEG"
      }
    },
    {
      "cell_type": "code",
      "source": [
        "y_pred = dtc.predict(X_test)\n",
        "\n",
        "train_accuracy = accuracy_score(dtc.predict(X_train), y_train)\n",
        "test_accuracy = accuracy_score(y_test, y_pred)\n",
        "print(f\"train accuracy = {train_accuracy:.4f}, test accuracy = {test_accuracy:.4f}\")"
      ],
      "metadata": {
        "colab": {
          "base_uri": "https://localhost:8080/"
        },
        "outputId": "da5c12b4-6987-464f-e446-b5a2ecdb3caa",
        "id": "Gaq6n0F4eMEH"
      },
      "execution_count": 536,
      "outputs": [
        {
          "output_type": "stream",
          "name": "stdout",
          "text": [
            "train accuracy = 0.8265, test accuracy = 0.7917\n"
          ]
        }
      ]
    },
    {
      "cell_type": "markdown",
      "source": [
        "## Случайный лес"
      ],
      "metadata": {
        "id": "2hOrnbckeXI4"
      }
    },
    {
      "cell_type": "markdown",
      "source": [
        "Подбор оптимальных параметров:"
      ],
      "metadata": {
        "id": "5A9HJPkleXI4"
      }
    },
    {
      "cell_type": "code",
      "source": [
        "GDCV = GridSearchCV( RandomForestClassifier(),\n",
        "                     param_grid=[ { 'max_depth': [3, 5, 8, 13, 21],\n",
        "                                    'min_samples_split': [3, 5, 8, 13],\n",
        "                                    'min_samples_leaf': [3, 5, 8, 13],\n",
        "                                    'max_features': [3, 5, 8, 13, 21, 55, 89],\n",
        "                                    'n_estimators': [1, 25, 100] } ],\n",
        "                     cv=2,\n",
        "                     scoring='accuracy' )\n",
        "GDCV.fit(X_train, y_train)\n",
        "GDCV.best_params_"
      ],
      "metadata": {
        "colab": {
          "base_uri": "https://localhost:8080/"
        },
        "outputId": "6afa11ee-22ab-41b1-cd2d-1744b6ec06cd",
        "id": "QoHdOfxoeXI5"
      },
      "execution_count": 537,
      "outputs": [
        {
          "output_type": "execute_result",
          "data": {
            "text/plain": [
              "{'max_depth': 13,\n",
              " 'max_features': 3,\n",
              " 'min_samples_leaf': 3,\n",
              " 'min_samples_split': 8,\n",
              " 'n_estimators': 25}"
            ]
          },
          "metadata": {},
          "execution_count": 537
        }
      ]
    },
    {
      "cell_type": "markdown",
      "source": [
        "Обучение модели:"
      ],
      "metadata": {
        "id": "-7ix4hFmeXI5"
      }
    },
    {
      "cell_type": "code",
      "source": [
        "rfc = RandomForestClassifier(max_depth=8, min_samples_leaf=3, min_samples_split=13, max_features=5, n_estimators=25)\n",
        "rfc.fit(X_train, y_train)"
      ],
      "metadata": {
        "colab": {
          "base_uri": "https://localhost:8080/",
          "height": 98
        },
        "outputId": "6e7e500b-7848-4063-eda0-465822c1f9ab",
        "id": "qrAl2RUneXI5"
      },
      "execution_count": 538,
      "outputs": [
        {
          "output_type": "execute_result",
          "data": {
            "text/plain": [
              "RandomForestClassifier(max_depth=8, max_features=5, min_samples_leaf=3,\n",
              "                       min_samples_split=13, n_estimators=25)"
            ],
            "text/html": [
              "<style>#sk-container-id-8 {\n",
              "  /* Definition of color scheme common for light and dark mode */\n",
              "  --sklearn-color-text: #000;\n",
              "  --sklearn-color-text-muted: #666;\n",
              "  --sklearn-color-line: gray;\n",
              "  /* Definition of color scheme for unfitted estimators */\n",
              "  --sklearn-color-unfitted-level-0: #fff5e6;\n",
              "  --sklearn-color-unfitted-level-1: #f6e4d2;\n",
              "  --sklearn-color-unfitted-level-2: #ffe0b3;\n",
              "  --sklearn-color-unfitted-level-3: chocolate;\n",
              "  /* Definition of color scheme for fitted estimators */\n",
              "  --sklearn-color-fitted-level-0: #f0f8ff;\n",
              "  --sklearn-color-fitted-level-1: #d4ebff;\n",
              "  --sklearn-color-fitted-level-2: #b3dbfd;\n",
              "  --sklearn-color-fitted-level-3: cornflowerblue;\n",
              "\n",
              "  /* Specific color for light theme */\n",
              "  --sklearn-color-text-on-default-background: var(--sg-text-color, var(--theme-code-foreground, var(--jp-content-font-color1, black)));\n",
              "  --sklearn-color-background: var(--sg-background-color, var(--theme-background, var(--jp-layout-color0, white)));\n",
              "  --sklearn-color-border-box: var(--sg-text-color, var(--theme-code-foreground, var(--jp-content-font-color1, black)));\n",
              "  --sklearn-color-icon: #696969;\n",
              "\n",
              "  @media (prefers-color-scheme: dark) {\n",
              "    /* Redefinition of color scheme for dark theme */\n",
              "    --sklearn-color-text-on-default-background: var(--sg-text-color, var(--theme-code-foreground, var(--jp-content-font-color1, white)));\n",
              "    --sklearn-color-background: var(--sg-background-color, var(--theme-background, var(--jp-layout-color0, #111)));\n",
              "    --sklearn-color-border-box: var(--sg-text-color, var(--theme-code-foreground, var(--jp-content-font-color1, white)));\n",
              "    --sklearn-color-icon: #878787;\n",
              "  }\n",
              "}\n",
              "\n",
              "#sk-container-id-8 {\n",
              "  color: var(--sklearn-color-text);\n",
              "}\n",
              "\n",
              "#sk-container-id-8 pre {\n",
              "  padding: 0;\n",
              "}\n",
              "\n",
              "#sk-container-id-8 input.sk-hidden--visually {\n",
              "  border: 0;\n",
              "  clip: rect(1px 1px 1px 1px);\n",
              "  clip: rect(1px, 1px, 1px, 1px);\n",
              "  height: 1px;\n",
              "  margin: -1px;\n",
              "  overflow: hidden;\n",
              "  padding: 0;\n",
              "  position: absolute;\n",
              "  width: 1px;\n",
              "}\n",
              "\n",
              "#sk-container-id-8 div.sk-dashed-wrapped {\n",
              "  border: 1px dashed var(--sklearn-color-line);\n",
              "  margin: 0 0.4em 0.5em 0.4em;\n",
              "  box-sizing: border-box;\n",
              "  padding-bottom: 0.4em;\n",
              "  background-color: var(--sklearn-color-background);\n",
              "}\n",
              "\n",
              "#sk-container-id-8 div.sk-container {\n",
              "  /* jupyter's `normalize.less` sets `[hidden] { display: none; }`\n",
              "     but bootstrap.min.css set `[hidden] { display: none !important; }`\n",
              "     so we also need the `!important` here to be able to override the\n",
              "     default hidden behavior on the sphinx rendered scikit-learn.org.\n",
              "     See: https://github.com/scikit-learn/scikit-learn/issues/21755 */\n",
              "  display: inline-block !important;\n",
              "  position: relative;\n",
              "}\n",
              "\n",
              "#sk-container-id-8 div.sk-text-repr-fallback {\n",
              "  display: none;\n",
              "}\n",
              "\n",
              "div.sk-parallel-item,\n",
              "div.sk-serial,\n",
              "div.sk-item {\n",
              "  /* draw centered vertical line to link estimators */\n",
              "  background-image: linear-gradient(var(--sklearn-color-text-on-default-background), var(--sklearn-color-text-on-default-background));\n",
              "  background-size: 2px 100%;\n",
              "  background-repeat: no-repeat;\n",
              "  background-position: center center;\n",
              "}\n",
              "\n",
              "/* Parallel-specific style estimator block */\n",
              "\n",
              "#sk-container-id-8 div.sk-parallel-item::after {\n",
              "  content: \"\";\n",
              "  width: 100%;\n",
              "  border-bottom: 2px solid var(--sklearn-color-text-on-default-background);\n",
              "  flex-grow: 1;\n",
              "}\n",
              "\n",
              "#sk-container-id-8 div.sk-parallel {\n",
              "  display: flex;\n",
              "  align-items: stretch;\n",
              "  justify-content: center;\n",
              "  background-color: var(--sklearn-color-background);\n",
              "  position: relative;\n",
              "}\n",
              "\n",
              "#sk-container-id-8 div.sk-parallel-item {\n",
              "  display: flex;\n",
              "  flex-direction: column;\n",
              "}\n",
              "\n",
              "#sk-container-id-8 div.sk-parallel-item:first-child::after {\n",
              "  align-self: flex-end;\n",
              "  width: 50%;\n",
              "}\n",
              "\n",
              "#sk-container-id-8 div.sk-parallel-item:last-child::after {\n",
              "  align-self: flex-start;\n",
              "  width: 50%;\n",
              "}\n",
              "\n",
              "#sk-container-id-8 div.sk-parallel-item:only-child::after {\n",
              "  width: 0;\n",
              "}\n",
              "\n",
              "/* Serial-specific style estimator block */\n",
              "\n",
              "#sk-container-id-8 div.sk-serial {\n",
              "  display: flex;\n",
              "  flex-direction: column;\n",
              "  align-items: center;\n",
              "  background-color: var(--sklearn-color-background);\n",
              "  padding-right: 1em;\n",
              "  padding-left: 1em;\n",
              "}\n",
              "\n",
              "\n",
              "/* Toggleable style: style used for estimator/Pipeline/ColumnTransformer box that is\n",
              "clickable and can be expanded/collapsed.\n",
              "- Pipeline and ColumnTransformer use this feature and define the default style\n",
              "- Estimators will overwrite some part of the style using the `sk-estimator` class\n",
              "*/\n",
              "\n",
              "/* Pipeline and ColumnTransformer style (default) */\n",
              "\n",
              "#sk-container-id-8 div.sk-toggleable {\n",
              "  /* Default theme specific background. It is overwritten whether we have a\n",
              "  specific estimator or a Pipeline/ColumnTransformer */\n",
              "  background-color: var(--sklearn-color-background);\n",
              "}\n",
              "\n",
              "/* Toggleable label */\n",
              "#sk-container-id-8 label.sk-toggleable__label {\n",
              "  cursor: pointer;\n",
              "  display: flex;\n",
              "  width: 100%;\n",
              "  margin-bottom: 0;\n",
              "  padding: 0.5em;\n",
              "  box-sizing: border-box;\n",
              "  text-align: center;\n",
              "  align-items: start;\n",
              "  justify-content: space-between;\n",
              "  gap: 0.5em;\n",
              "}\n",
              "\n",
              "#sk-container-id-8 label.sk-toggleable__label .caption {\n",
              "  font-size: 0.6rem;\n",
              "  font-weight: lighter;\n",
              "  color: var(--sklearn-color-text-muted);\n",
              "}\n",
              "\n",
              "#sk-container-id-8 label.sk-toggleable__label-arrow:before {\n",
              "  /* Arrow on the left of the label */\n",
              "  content: \"▸\";\n",
              "  float: left;\n",
              "  margin-right: 0.25em;\n",
              "  color: var(--sklearn-color-icon);\n",
              "}\n",
              "\n",
              "#sk-container-id-8 label.sk-toggleable__label-arrow:hover:before {\n",
              "  color: var(--sklearn-color-text);\n",
              "}\n",
              "\n",
              "/* Toggleable content - dropdown */\n",
              "\n",
              "#sk-container-id-8 div.sk-toggleable__content {\n",
              "  max-height: 0;\n",
              "  max-width: 0;\n",
              "  overflow: hidden;\n",
              "  text-align: left;\n",
              "  /* unfitted */\n",
              "  background-color: var(--sklearn-color-unfitted-level-0);\n",
              "}\n",
              "\n",
              "#sk-container-id-8 div.sk-toggleable__content.fitted {\n",
              "  /* fitted */\n",
              "  background-color: var(--sklearn-color-fitted-level-0);\n",
              "}\n",
              "\n",
              "#sk-container-id-8 div.sk-toggleable__content pre {\n",
              "  margin: 0.2em;\n",
              "  border-radius: 0.25em;\n",
              "  color: var(--sklearn-color-text);\n",
              "  /* unfitted */\n",
              "  background-color: var(--sklearn-color-unfitted-level-0);\n",
              "}\n",
              "\n",
              "#sk-container-id-8 div.sk-toggleable__content.fitted pre {\n",
              "  /* unfitted */\n",
              "  background-color: var(--sklearn-color-fitted-level-0);\n",
              "}\n",
              "\n",
              "#sk-container-id-8 input.sk-toggleable__control:checked~div.sk-toggleable__content {\n",
              "  /* Expand drop-down */\n",
              "  max-height: 200px;\n",
              "  max-width: 100%;\n",
              "  overflow: auto;\n",
              "}\n",
              "\n",
              "#sk-container-id-8 input.sk-toggleable__control:checked~label.sk-toggleable__label-arrow:before {\n",
              "  content: \"▾\";\n",
              "}\n",
              "\n",
              "/* Pipeline/ColumnTransformer-specific style */\n",
              "\n",
              "#sk-container-id-8 div.sk-label input.sk-toggleable__control:checked~label.sk-toggleable__label {\n",
              "  color: var(--sklearn-color-text);\n",
              "  background-color: var(--sklearn-color-unfitted-level-2);\n",
              "}\n",
              "\n",
              "#sk-container-id-8 div.sk-label.fitted input.sk-toggleable__control:checked~label.sk-toggleable__label {\n",
              "  background-color: var(--sklearn-color-fitted-level-2);\n",
              "}\n",
              "\n",
              "/* Estimator-specific style */\n",
              "\n",
              "/* Colorize estimator box */\n",
              "#sk-container-id-8 div.sk-estimator input.sk-toggleable__control:checked~label.sk-toggleable__label {\n",
              "  /* unfitted */\n",
              "  background-color: var(--sklearn-color-unfitted-level-2);\n",
              "}\n",
              "\n",
              "#sk-container-id-8 div.sk-estimator.fitted input.sk-toggleable__control:checked~label.sk-toggleable__label {\n",
              "  /* fitted */\n",
              "  background-color: var(--sklearn-color-fitted-level-2);\n",
              "}\n",
              "\n",
              "#sk-container-id-8 div.sk-label label.sk-toggleable__label,\n",
              "#sk-container-id-8 div.sk-label label {\n",
              "  /* The background is the default theme color */\n",
              "  color: var(--sklearn-color-text-on-default-background);\n",
              "}\n",
              "\n",
              "/* On hover, darken the color of the background */\n",
              "#sk-container-id-8 div.sk-label:hover label.sk-toggleable__label {\n",
              "  color: var(--sklearn-color-text);\n",
              "  background-color: var(--sklearn-color-unfitted-level-2);\n",
              "}\n",
              "\n",
              "/* Label box, darken color on hover, fitted */\n",
              "#sk-container-id-8 div.sk-label.fitted:hover label.sk-toggleable__label.fitted {\n",
              "  color: var(--sklearn-color-text);\n",
              "  background-color: var(--sklearn-color-fitted-level-2);\n",
              "}\n",
              "\n",
              "/* Estimator label */\n",
              "\n",
              "#sk-container-id-8 div.sk-label label {\n",
              "  font-family: monospace;\n",
              "  font-weight: bold;\n",
              "  display: inline-block;\n",
              "  line-height: 1.2em;\n",
              "}\n",
              "\n",
              "#sk-container-id-8 div.sk-label-container {\n",
              "  text-align: center;\n",
              "}\n",
              "\n",
              "/* Estimator-specific */\n",
              "#sk-container-id-8 div.sk-estimator {\n",
              "  font-family: monospace;\n",
              "  border: 1px dotted var(--sklearn-color-border-box);\n",
              "  border-radius: 0.25em;\n",
              "  box-sizing: border-box;\n",
              "  margin-bottom: 0.5em;\n",
              "  /* unfitted */\n",
              "  background-color: var(--sklearn-color-unfitted-level-0);\n",
              "}\n",
              "\n",
              "#sk-container-id-8 div.sk-estimator.fitted {\n",
              "  /* fitted */\n",
              "  background-color: var(--sklearn-color-fitted-level-0);\n",
              "}\n",
              "\n",
              "/* on hover */\n",
              "#sk-container-id-8 div.sk-estimator:hover {\n",
              "  /* unfitted */\n",
              "  background-color: var(--sklearn-color-unfitted-level-2);\n",
              "}\n",
              "\n",
              "#sk-container-id-8 div.sk-estimator.fitted:hover {\n",
              "  /* fitted */\n",
              "  background-color: var(--sklearn-color-fitted-level-2);\n",
              "}\n",
              "\n",
              "/* Specification for estimator info (e.g. \"i\" and \"?\") */\n",
              "\n",
              "/* Common style for \"i\" and \"?\" */\n",
              "\n",
              ".sk-estimator-doc-link,\n",
              "a:link.sk-estimator-doc-link,\n",
              "a:visited.sk-estimator-doc-link {\n",
              "  float: right;\n",
              "  font-size: smaller;\n",
              "  line-height: 1em;\n",
              "  font-family: monospace;\n",
              "  background-color: var(--sklearn-color-background);\n",
              "  border-radius: 1em;\n",
              "  height: 1em;\n",
              "  width: 1em;\n",
              "  text-decoration: none !important;\n",
              "  margin-left: 0.5em;\n",
              "  text-align: center;\n",
              "  /* unfitted */\n",
              "  border: var(--sklearn-color-unfitted-level-1) 1pt solid;\n",
              "  color: var(--sklearn-color-unfitted-level-1);\n",
              "}\n",
              "\n",
              ".sk-estimator-doc-link.fitted,\n",
              "a:link.sk-estimator-doc-link.fitted,\n",
              "a:visited.sk-estimator-doc-link.fitted {\n",
              "  /* fitted */\n",
              "  border: var(--sklearn-color-fitted-level-1) 1pt solid;\n",
              "  color: var(--sklearn-color-fitted-level-1);\n",
              "}\n",
              "\n",
              "/* On hover */\n",
              "div.sk-estimator:hover .sk-estimator-doc-link:hover,\n",
              ".sk-estimator-doc-link:hover,\n",
              "div.sk-label-container:hover .sk-estimator-doc-link:hover,\n",
              ".sk-estimator-doc-link:hover {\n",
              "  /* unfitted */\n",
              "  background-color: var(--sklearn-color-unfitted-level-3);\n",
              "  color: var(--sklearn-color-background);\n",
              "  text-decoration: none;\n",
              "}\n",
              "\n",
              "div.sk-estimator.fitted:hover .sk-estimator-doc-link.fitted:hover,\n",
              ".sk-estimator-doc-link.fitted:hover,\n",
              "div.sk-label-container:hover .sk-estimator-doc-link.fitted:hover,\n",
              ".sk-estimator-doc-link.fitted:hover {\n",
              "  /* fitted */\n",
              "  background-color: var(--sklearn-color-fitted-level-3);\n",
              "  color: var(--sklearn-color-background);\n",
              "  text-decoration: none;\n",
              "}\n",
              "\n",
              "/* Span, style for the box shown on hovering the info icon */\n",
              ".sk-estimator-doc-link span {\n",
              "  display: none;\n",
              "  z-index: 9999;\n",
              "  position: relative;\n",
              "  font-weight: normal;\n",
              "  right: .2ex;\n",
              "  padding: .5ex;\n",
              "  margin: .5ex;\n",
              "  width: min-content;\n",
              "  min-width: 20ex;\n",
              "  max-width: 50ex;\n",
              "  color: var(--sklearn-color-text);\n",
              "  box-shadow: 2pt 2pt 4pt #999;\n",
              "  /* unfitted */\n",
              "  background: var(--sklearn-color-unfitted-level-0);\n",
              "  border: .5pt solid var(--sklearn-color-unfitted-level-3);\n",
              "}\n",
              "\n",
              ".sk-estimator-doc-link.fitted span {\n",
              "  /* fitted */\n",
              "  background: var(--sklearn-color-fitted-level-0);\n",
              "  border: var(--sklearn-color-fitted-level-3);\n",
              "}\n",
              "\n",
              ".sk-estimator-doc-link:hover span {\n",
              "  display: block;\n",
              "}\n",
              "\n",
              "/* \"?\"-specific style due to the `<a>` HTML tag */\n",
              "\n",
              "#sk-container-id-8 a.estimator_doc_link {\n",
              "  float: right;\n",
              "  font-size: 1rem;\n",
              "  line-height: 1em;\n",
              "  font-family: monospace;\n",
              "  background-color: var(--sklearn-color-background);\n",
              "  border-radius: 1rem;\n",
              "  height: 1rem;\n",
              "  width: 1rem;\n",
              "  text-decoration: none;\n",
              "  /* unfitted */\n",
              "  color: var(--sklearn-color-unfitted-level-1);\n",
              "  border: var(--sklearn-color-unfitted-level-1) 1pt solid;\n",
              "}\n",
              "\n",
              "#sk-container-id-8 a.estimator_doc_link.fitted {\n",
              "  /* fitted */\n",
              "  border: var(--sklearn-color-fitted-level-1) 1pt solid;\n",
              "  color: var(--sklearn-color-fitted-level-1);\n",
              "}\n",
              "\n",
              "/* On hover */\n",
              "#sk-container-id-8 a.estimator_doc_link:hover {\n",
              "  /* unfitted */\n",
              "  background-color: var(--sklearn-color-unfitted-level-3);\n",
              "  color: var(--sklearn-color-background);\n",
              "  text-decoration: none;\n",
              "}\n",
              "\n",
              "#sk-container-id-8 a.estimator_doc_link.fitted:hover {\n",
              "  /* fitted */\n",
              "  background-color: var(--sklearn-color-fitted-level-3);\n",
              "}\n",
              "</style><div id=\"sk-container-id-8\" class=\"sk-top-container\"><div class=\"sk-text-repr-fallback\"><pre>RandomForestClassifier(max_depth=8, max_features=5, min_samples_leaf=3,\n",
              "                       min_samples_split=13, n_estimators=25)</pre><b>In a Jupyter environment, please rerun this cell to show the HTML representation or trust the notebook. <br />On GitHub, the HTML representation is unable to render, please try loading this page with nbviewer.org.</b></div><div class=\"sk-container\" hidden><div class=\"sk-item\"><div class=\"sk-estimator fitted sk-toggleable\"><input class=\"sk-toggleable__control sk-hidden--visually\" id=\"sk-estimator-id-8\" type=\"checkbox\" checked><label for=\"sk-estimator-id-8\" class=\"sk-toggleable__label fitted sk-toggleable__label-arrow\"><div><div>RandomForestClassifier</div></div><div><a class=\"sk-estimator-doc-link fitted\" rel=\"noreferrer\" target=\"_blank\" href=\"https://scikit-learn.org/1.6/modules/generated/sklearn.ensemble.RandomForestClassifier.html\">?<span>Documentation for RandomForestClassifier</span></a><span class=\"sk-estimator-doc-link fitted\">i<span>Fitted</span></span></div></label><div class=\"sk-toggleable__content fitted\"><pre>RandomForestClassifier(max_depth=8, max_features=5, min_samples_leaf=3,\n",
              "                       min_samples_split=13, n_estimators=25)</pre></div> </div></div></div></div>"
            ]
          },
          "metadata": {},
          "execution_count": 538
        }
      ]
    },
    {
      "cell_type": "markdown",
      "source": [
        "Качество на train и на test:"
      ],
      "metadata": {
        "id": "AVl5iX-TeXI5"
      }
    },
    {
      "cell_type": "code",
      "source": [
        "y_pred = rfc.predict(X_test)\n",
        "\n",
        "train_accuracy = accuracy_score(rfc.predict(X_train), y_train)\n",
        "test_accuracy = accuracy_score(y_test, y_pred)\n",
        "print(f\"train accuracy = {train_accuracy:.4f}, test accuracy = {test_accuracy:.4f}\")"
      ],
      "metadata": {
        "colab": {
          "base_uri": "https://localhost:8080/"
        },
        "outputId": "5e346cf5-945d-43f8-b339-ecd44cb5135c",
        "id": "9coQv9jSeXI5"
      },
      "execution_count": 539,
      "outputs": [
        {
          "output_type": "stream",
          "name": "stdout",
          "text": [
            "train accuracy = 0.8321, test accuracy = 0.7788\n"
          ]
        }
      ]
    },
    {
      "cell_type": "markdown",
      "source": [
        "## CatBoost"
      ],
      "metadata": {
        "id": "8OHfyn9dtTp1"
      }
    },
    {
      "cell_type": "markdown",
      "source": [
        "Обучение модели:"
      ],
      "metadata": {
        "id": "xr-DCl8NtY7L"
      }
    },
    {
      "cell_type": "code",
      "source": [
        "ctc = CatBoostClassifier()\n",
        "ctc.fit(X_train, y_train)"
      ],
      "metadata": {
        "colab": {
          "base_uri": "https://localhost:8080/"
        },
        "outputId": "b0fb0b00-ffce-4c88-f360-48745e09c05e",
        "collapsed": true,
        "id": "9Tn0mKMwtY7L"
      },
      "execution_count": 540,
      "outputs": [
        {
          "output_type": "stream",
          "name": "stdout",
          "text": [
            "Learning rate set to 0.011313\n",
            "0:\tlearn: 0.6863646\ttotal: 1.31ms\tremaining: 1.31s\n",
            "1:\tlearn: 0.6792120\ttotal: 2.31ms\tremaining: 1.15s\n",
            "2:\tlearn: 0.6733999\ttotal: 3.06ms\tremaining: 1.01s\n",
            "3:\tlearn: 0.6675435\ttotal: 3.84ms\tremaining: 956ms\n",
            "4:\tlearn: 0.6617709\ttotal: 4.8ms\tremaining: 955ms\n",
            "5:\tlearn: 0.6559769\ttotal: 5.7ms\tremaining: 945ms\n",
            "6:\tlearn: 0.6514393\ttotal: 6.62ms\tremaining: 939ms\n",
            "7:\tlearn: 0.6460288\ttotal: 7.52ms\tremaining: 932ms\n",
            "8:\tlearn: 0.6405085\ttotal: 8.43ms\tremaining: 929ms\n",
            "9:\tlearn: 0.6358894\ttotal: 9.36ms\tremaining: 927ms\n",
            "10:\tlearn: 0.6299190\ttotal: 10.3ms\tremaining: 923ms\n",
            "11:\tlearn: 0.6253833\ttotal: 10.9ms\tremaining: 899ms\n",
            "12:\tlearn: 0.6216089\ttotal: 12ms\tremaining: 908ms\n",
            "13:\tlearn: 0.6176242\ttotal: 12.9ms\tremaining: 906ms\n",
            "14:\tlearn: 0.6136706\ttotal: 13.8ms\tremaining: 905ms\n",
            "15:\tlearn: 0.6088156\ttotal: 14.7ms\tremaining: 904ms\n",
            "16:\tlearn: 0.6061158\ttotal: 15.2ms\tremaining: 879ms\n",
            "17:\tlearn: 0.6019192\ttotal: 16.1ms\tremaining: 879ms\n",
            "18:\tlearn: 0.5973710\ttotal: 17ms\tremaining: 880ms\n",
            "19:\tlearn: 0.5932980\ttotal: 17.9ms\tremaining: 878ms\n",
            "20:\tlearn: 0.5902568\ttotal: 18.6ms\tremaining: 865ms\n",
            "21:\tlearn: 0.5862758\ttotal: 19.4ms\tremaining: 864ms\n",
            "22:\tlearn: 0.5828908\ttotal: 20.3ms\tremaining: 864ms\n",
            "23:\tlearn: 0.5791019\ttotal: 21.3ms\tremaining: 864ms\n",
            "24:\tlearn: 0.5748874\ttotal: 22.2ms\tremaining: 864ms\n",
            "25:\tlearn: 0.5714147\ttotal: 23.1ms\tremaining: 865ms\n",
            "26:\tlearn: 0.5686406\ttotal: 23.9ms\tremaining: 860ms\n",
            "27:\tlearn: 0.5654847\ttotal: 24.5ms\tremaining: 852ms\n",
            "28:\tlearn: 0.5628409\ttotal: 25.4ms\tremaining: 852ms\n",
            "29:\tlearn: 0.5595468\ttotal: 26.5ms\tremaining: 856ms\n",
            "30:\tlearn: 0.5566506\ttotal: 27.4ms\tremaining: 857ms\n",
            "31:\tlearn: 0.5536455\ttotal: 28.3ms\tremaining: 857ms\n",
            "32:\tlearn: 0.5503155\ttotal: 29.3ms\tremaining: 857ms\n",
            "33:\tlearn: 0.5468813\ttotal: 30.2ms\tremaining: 857ms\n",
            "34:\tlearn: 0.5440613\ttotal: 30.8ms\tremaining: 850ms\n",
            "35:\tlearn: 0.5411152\ttotal: 31.7ms\tremaining: 850ms\n",
            "36:\tlearn: 0.5390059\ttotal: 32.6ms\tremaining: 849ms\n",
            "37:\tlearn: 0.5365591\ttotal: 33.4ms\tremaining: 845ms\n",
            "38:\tlearn: 0.5337938\ttotal: 34.3ms\tremaining: 845ms\n",
            "39:\tlearn: 0.5309029\ttotal: 35.2ms\tremaining: 845ms\n",
            "40:\tlearn: 0.5291049\ttotal: 35.9ms\tremaining: 839ms\n",
            "41:\tlearn: 0.5271993\ttotal: 36.5ms\tremaining: 833ms\n",
            "42:\tlearn: 0.5245844\ttotal: 37.4ms\tremaining: 833ms\n",
            "43:\tlearn: 0.5222359\ttotal: 38.3ms\tremaining: 833ms\n",
            "44:\tlearn: 0.5199915\ttotal: 39.2ms\tremaining: 833ms\n",
            "45:\tlearn: 0.5176058\ttotal: 40.1ms\tremaining: 832ms\n",
            "46:\tlearn: 0.5152403\ttotal: 41ms\tremaining: 832ms\n",
            "47:\tlearn: 0.5128863\ttotal: 42ms\tremaining: 832ms\n",
            "48:\tlearn: 0.5105274\ttotal: 42.9ms\tremaining: 832ms\n",
            "49:\tlearn: 0.5085114\ttotal: 43.8ms\tremaining: 832ms\n",
            "50:\tlearn: 0.5059728\ttotal: 44.7ms\tremaining: 832ms\n",
            "51:\tlearn: 0.5040718\ttotal: 45.6ms\tremaining: 831ms\n",
            "52:\tlearn: 0.5019201\ttotal: 46.5ms\tremaining: 831ms\n",
            "53:\tlearn: 0.5005115\ttotal: 47.3ms\tremaining: 828ms\n",
            "54:\tlearn: 0.4990215\ttotal: 48.2ms\tremaining: 828ms\n",
            "55:\tlearn: 0.4972912\ttotal: 49.1ms\tremaining: 828ms\n",
            "56:\tlearn: 0.4958437\ttotal: 50ms\tremaining: 828ms\n",
            "57:\tlearn: 0.4947512\ttotal: 50.6ms\tremaining: 823ms\n",
            "58:\tlearn: 0.4932737\ttotal: 51.5ms\tremaining: 822ms\n",
            "59:\tlearn: 0.4914879\ttotal: 52.5ms\tremaining: 822ms\n",
            "60:\tlearn: 0.4898532\ttotal: 53.4ms\tremaining: 821ms\n",
            "61:\tlearn: 0.4884465\ttotal: 54.1ms\tremaining: 819ms\n",
            "62:\tlearn: 0.4869911\ttotal: 55ms\tremaining: 818ms\n",
            "63:\tlearn: 0.4853348\ttotal: 55.9ms\tremaining: 817ms\n",
            "64:\tlearn: 0.4840272\ttotal: 56.8ms\tremaining: 817ms\n",
            "65:\tlearn: 0.4829354\ttotal: 57.7ms\tremaining: 817ms\n",
            "66:\tlearn: 0.4816395\ttotal: 58.7ms\tremaining: 817ms\n",
            "67:\tlearn: 0.4802501\ttotal: 59.6ms\tremaining: 817ms\n",
            "68:\tlearn: 0.4793785\ttotal: 60.4ms\tremaining: 814ms\n",
            "69:\tlearn: 0.4777419\ttotal: 61.3ms\tremaining: 814ms\n",
            "70:\tlearn: 0.4768332\ttotal: 62.2ms\tremaining: 814ms\n",
            "71:\tlearn: 0.4755429\ttotal: 63.1ms\tremaining: 813ms\n",
            "72:\tlearn: 0.4741879\ttotal: 64ms\tremaining: 813ms\n",
            "73:\tlearn: 0.4733724\ttotal: 64.9ms\tremaining: 813ms\n",
            "74:\tlearn: 0.4720143\ttotal: 65.9ms\tremaining: 812ms\n",
            "75:\tlearn: 0.4704931\ttotal: 66.8ms\tremaining: 812ms\n",
            "76:\tlearn: 0.4691508\ttotal: 67.7ms\tremaining: 811ms\n",
            "77:\tlearn: 0.4676777\ttotal: 68.6ms\tremaining: 811ms\n",
            "78:\tlearn: 0.4663738\ttotal: 69.5ms\tremaining: 810ms\n",
            "79:\tlearn: 0.4654858\ttotal: 70.4ms\tremaining: 810ms\n",
            "80:\tlearn: 0.4649274\ttotal: 70.9ms\tremaining: 805ms\n",
            "81:\tlearn: 0.4641253\ttotal: 71.9ms\tremaining: 804ms\n",
            "82:\tlearn: 0.4629675\ttotal: 72.8ms\tremaining: 804ms\n",
            "83:\tlearn: 0.4622070\ttotal: 73.7ms\tremaining: 804ms\n",
            "84:\tlearn: 0.4613232\ttotal: 74.7ms\tremaining: 804ms\n",
            "85:\tlearn: 0.4601627\ttotal: 75.6ms\tremaining: 803ms\n",
            "86:\tlearn: 0.4589748\ttotal: 76.5ms\tremaining: 803ms\n",
            "87:\tlearn: 0.4583063\ttotal: 77.3ms\tremaining: 801ms\n",
            "88:\tlearn: 0.4576402\ttotal: 77.9ms\tremaining: 798ms\n",
            "89:\tlearn: 0.4567290\ttotal: 78.8ms\tremaining: 797ms\n",
            "90:\tlearn: 0.4560540\ttotal: 79.6ms\tremaining: 795ms\n",
            "91:\tlearn: 0.4550617\ttotal: 80.5ms\tremaining: 795ms\n",
            "92:\tlearn: 0.4540093\ttotal: 81.4ms\tremaining: 794ms\n",
            "93:\tlearn: 0.4529526\ttotal: 82.4ms\tremaining: 794ms\n",
            "94:\tlearn: 0.4522199\ttotal: 83.3ms\tremaining: 793ms\n",
            "95:\tlearn: 0.4514874\ttotal: 84.2ms\tremaining: 793ms\n",
            "96:\tlearn: 0.4510908\ttotal: 84.8ms\tremaining: 789ms\n",
            "97:\tlearn: 0.4504943\ttotal: 85.7ms\tremaining: 789ms\n",
            "98:\tlearn: 0.4496199\ttotal: 86.6ms\tremaining: 788ms\n",
            "99:\tlearn: 0.4489965\ttotal: 87.3ms\tremaining: 786ms\n",
            "100:\tlearn: 0.4484232\ttotal: 88.2ms\tremaining: 785ms\n",
            "101:\tlearn: 0.4478776\ttotal: 89.2ms\tremaining: 785ms\n",
            "102:\tlearn: 0.4474038\ttotal: 89.9ms\tremaining: 783ms\n",
            "103:\tlearn: 0.4464977\ttotal: 90.9ms\tremaining: 783ms\n",
            "104:\tlearn: 0.4457605\ttotal: 91.9ms\tremaining: 784ms\n",
            "105:\tlearn: 0.4453143\ttotal: 92.8ms\tremaining: 783ms\n",
            "106:\tlearn: 0.4447591\ttotal: 93.9ms\tremaining: 783ms\n",
            "107:\tlearn: 0.4436697\ttotal: 94.8ms\tremaining: 783ms\n",
            "108:\tlearn: 0.4432067\ttotal: 95.7ms\tremaining: 782ms\n",
            "109:\tlearn: 0.4423631\ttotal: 96.6ms\tremaining: 782ms\n",
            "110:\tlearn: 0.4417715\ttotal: 97.5ms\tremaining: 781ms\n",
            "111:\tlearn: 0.4410830\ttotal: 98.4ms\tremaining: 781ms\n",
            "112:\tlearn: 0.4405778\ttotal: 99.3ms\tremaining: 780ms\n",
            "113:\tlearn: 0.4399689\ttotal: 100ms\tremaining: 779ms\n",
            "114:\tlearn: 0.4392180\ttotal: 101ms\tremaining: 779ms\n",
            "115:\tlearn: 0.4388480\ttotal: 102ms\tremaining: 778ms\n",
            "116:\tlearn: 0.4384187\ttotal: 103ms\tremaining: 776ms\n",
            "117:\tlearn: 0.4381176\ttotal: 104ms\tremaining: 775ms\n",
            "118:\tlearn: 0.4376713\ttotal: 104ms\tremaining: 773ms\n",
            "119:\tlearn: 0.4374858\ttotal: 105ms\tremaining: 770ms\n",
            "120:\tlearn: 0.4370446\ttotal: 106ms\tremaining: 770ms\n",
            "121:\tlearn: 0.4361141\ttotal: 107ms\tremaining: 769ms\n",
            "122:\tlearn: 0.4355026\ttotal: 108ms\tremaining: 769ms\n",
            "123:\tlearn: 0.4351056\ttotal: 109ms\tremaining: 768ms\n",
            "124:\tlearn: 0.4347108\ttotal: 110ms\tremaining: 768ms\n",
            "125:\tlearn: 0.4344275\ttotal: 110ms\tremaining: 765ms\n",
            "126:\tlearn: 0.4336739\ttotal: 111ms\tremaining: 764ms\n",
            "127:\tlearn: 0.4333438\ttotal: 112ms\tremaining: 764ms\n",
            "128:\tlearn: 0.4329357\ttotal: 113ms\tremaining: 763ms\n",
            "129:\tlearn: 0.4322694\ttotal: 114ms\tremaining: 762ms\n",
            "130:\tlearn: 0.4319704\ttotal: 115ms\tremaining: 761ms\n",
            "131:\tlearn: 0.4315648\ttotal: 116ms\tremaining: 761ms\n",
            "132:\tlearn: 0.4311635\ttotal: 117ms\tremaining: 760ms\n",
            "133:\tlearn: 0.4308140\ttotal: 117ms\tremaining: 758ms\n",
            "134:\tlearn: 0.4305795\ttotal: 118ms\tremaining: 757ms\n",
            "135:\tlearn: 0.4301502\ttotal: 119ms\tremaining: 756ms\n",
            "136:\tlearn: 0.4295144\ttotal: 120ms\tremaining: 756ms\n",
            "137:\tlearn: 0.4289979\ttotal: 121ms\tremaining: 755ms\n",
            "138:\tlearn: 0.4286506\ttotal: 122ms\tremaining: 755ms\n",
            "139:\tlearn: 0.4284486\ttotal: 123ms\tremaining: 753ms\n",
            "140:\tlearn: 0.4280992\ttotal: 124ms\tremaining: 752ms\n",
            "141:\tlearn: 0.4279679\ttotal: 124ms\tremaining: 749ms\n",
            "142:\tlearn: 0.4276345\ttotal: 125ms\tremaining: 749ms\n",
            "143:\tlearn: 0.4273729\ttotal: 126ms\tremaining: 748ms\n",
            "144:\tlearn: 0.4268797\ttotal: 127ms\tremaining: 747ms\n",
            "145:\tlearn: 0.4267322\ttotal: 127ms\tremaining: 745ms\n",
            "146:\tlearn: 0.4264850\ttotal: 128ms\tremaining: 745ms\n",
            "147:\tlearn: 0.4261304\ttotal: 129ms\tremaining: 744ms\n",
            "148:\tlearn: 0.4258342\ttotal: 130ms\tremaining: 743ms\n",
            "149:\tlearn: 0.4256497\ttotal: 131ms\tremaining: 741ms\n",
            "150:\tlearn: 0.4253336\ttotal: 132ms\tremaining: 741ms\n",
            "151:\tlearn: 0.4251330\ttotal: 133ms\tremaining: 739ms\n",
            "152:\tlearn: 0.4249897\ttotal: 133ms\tremaining: 737ms\n",
            "153:\tlearn: 0.4246591\ttotal: 134ms\tremaining: 737ms\n",
            "154:\tlearn: 0.4242622\ttotal: 135ms\tremaining: 736ms\n",
            "155:\tlearn: 0.4238057\ttotal: 136ms\tremaining: 735ms\n",
            "156:\tlearn: 0.4234700\ttotal: 137ms\tremaining: 735ms\n",
            "157:\tlearn: 0.4232010\ttotal: 138ms\tremaining: 734ms\n",
            "158:\tlearn: 0.4228635\ttotal: 139ms\tremaining: 734ms\n",
            "159:\tlearn: 0.4226792\ttotal: 140ms\tremaining: 733ms\n",
            "160:\tlearn: 0.4222142\ttotal: 141ms\tremaining: 733ms\n",
            "161:\tlearn: 0.4219305\ttotal: 142ms\tremaining: 732ms\n",
            "162:\tlearn: 0.4217736\ttotal: 142ms\tremaining: 731ms\n",
            "163:\tlearn: 0.4213970\ttotal: 143ms\tremaining: 731ms\n",
            "164:\tlearn: 0.4212614\ttotal: 144ms\tremaining: 729ms\n",
            "165:\tlearn: 0.4207204\ttotal: 145ms\tremaining: 728ms\n",
            "166:\tlearn: 0.4204059\ttotal: 146ms\tremaining: 727ms\n",
            "167:\tlearn: 0.4201491\ttotal: 147ms\tremaining: 727ms\n",
            "168:\tlearn: 0.4196626\ttotal: 148ms\tremaining: 726ms\n",
            "169:\tlearn: 0.4193695\ttotal: 149ms\tremaining: 725ms\n",
            "170:\tlearn: 0.4191683\ttotal: 149ms\tremaining: 723ms\n",
            "171:\tlearn: 0.4187898\ttotal: 150ms\tremaining: 723ms\n",
            "172:\tlearn: 0.4184148\ttotal: 151ms\tremaining: 722ms\n",
            "173:\tlearn: 0.4182892\ttotal: 152ms\tremaining: 720ms\n",
            "174:\tlearn: 0.4179146\ttotal: 153ms\tremaining: 720ms\n",
            "175:\tlearn: 0.4177241\ttotal: 154ms\tremaining: 719ms\n",
            "176:\tlearn: 0.4173381\ttotal: 154ms\tremaining: 718ms\n",
            "177:\tlearn: 0.4170185\ttotal: 155ms\tremaining: 718ms\n",
            "178:\tlearn: 0.4168171\ttotal: 156ms\tremaining: 717ms\n",
            "179:\tlearn: 0.4166664\ttotal: 157ms\tremaining: 716ms\n",
            "180:\tlearn: 0.4164125\ttotal: 158ms\tremaining: 716ms\n",
            "181:\tlearn: 0.4161689\ttotal: 159ms\tremaining: 715ms\n",
            "182:\tlearn: 0.4159980\ttotal: 160ms\tremaining: 714ms\n",
            "183:\tlearn: 0.4158288\ttotal: 161ms\tremaining: 713ms\n",
            "184:\tlearn: 0.4155972\ttotal: 162ms\tremaining: 713ms\n",
            "185:\tlearn: 0.4154650\ttotal: 163ms\tremaining: 713ms\n",
            "186:\tlearn: 0.4150518\ttotal: 164ms\tremaining: 712ms\n",
            "187:\tlearn: 0.4146618\ttotal: 166ms\tremaining: 715ms\n",
            "188:\tlearn: 0.4143961\ttotal: 167ms\tremaining: 715ms\n",
            "189:\tlearn: 0.4141320\ttotal: 168ms\tremaining: 715ms\n",
            "190:\tlearn: 0.4138873\ttotal: 171ms\tremaining: 725ms\n",
            "191:\tlearn: 0.4136273\ttotal: 172ms\tremaining: 725ms\n",
            "192:\tlearn: 0.4134879\ttotal: 174ms\tremaining: 728ms\n",
            "193:\tlearn: 0.4134094\ttotal: 175ms\tremaining: 725ms\n",
            "194:\tlearn: 0.4132332\ttotal: 175ms\tremaining: 724ms\n",
            "195:\tlearn: 0.4130113\ttotal: 176ms\tremaining: 724ms\n",
            "196:\tlearn: 0.4128621\ttotal: 177ms\tremaining: 723ms\n",
            "197:\tlearn: 0.4126531\ttotal: 178ms\tremaining: 722ms\n",
            "198:\tlearn: 0.4125069\ttotal: 179ms\tremaining: 722ms\n",
            "199:\tlearn: 0.4123038\ttotal: 180ms\tremaining: 721ms\n",
            "200:\tlearn: 0.4121277\ttotal: 181ms\tremaining: 720ms\n",
            "201:\tlearn: 0.4118916\ttotal: 182ms\tremaining: 720ms\n",
            "202:\tlearn: 0.4114921\ttotal: 183ms\tremaining: 719ms\n",
            "203:\tlearn: 0.4112533\ttotal: 184ms\tremaining: 719ms\n",
            "204:\tlearn: 0.4109720\ttotal: 185ms\tremaining: 719ms\n",
            "205:\tlearn: 0.4107426\ttotal: 187ms\tremaining: 721ms\n",
            "206:\tlearn: 0.4105612\ttotal: 188ms\tremaining: 721ms\n",
            "207:\tlearn: 0.4103898\ttotal: 189ms\tremaining: 720ms\n",
            "208:\tlearn: 0.4101291\ttotal: 190ms\tremaining: 719ms\n",
            "209:\tlearn: 0.4099227\ttotal: 191ms\tremaining: 718ms\n",
            "210:\tlearn: 0.4097698\ttotal: 192ms\tremaining: 717ms\n",
            "211:\tlearn: 0.4094989\ttotal: 193ms\tremaining: 716ms\n",
            "212:\tlearn: 0.4092706\ttotal: 194ms\tremaining: 715ms\n",
            "213:\tlearn: 0.4089963\ttotal: 195ms\tremaining: 714ms\n",
            "214:\tlearn: 0.4088558\ttotal: 195ms\tremaining: 714ms\n",
            "215:\tlearn: 0.4087186\ttotal: 196ms\tremaining: 713ms\n",
            "216:\tlearn: 0.4086415\ttotal: 197ms\tremaining: 711ms\n",
            "217:\tlearn: 0.4085752\ttotal: 198ms\tremaining: 709ms\n",
            "218:\tlearn: 0.4085341\ttotal: 198ms\tremaining: 708ms\n",
            "219:\tlearn: 0.4084625\ttotal: 199ms\tremaining: 707ms\n",
            "220:\tlearn: 0.4083611\ttotal: 200ms\tremaining: 705ms\n",
            "221:\tlearn: 0.4081861\ttotal: 201ms\tremaining: 705ms\n",
            "222:\tlearn: 0.4080964\ttotal: 202ms\tremaining: 704ms\n",
            "223:\tlearn: 0.4079959\ttotal: 203ms\tremaining: 703ms\n",
            "224:\tlearn: 0.4077785\ttotal: 204ms\tremaining: 702ms\n",
            "225:\tlearn: 0.4076323\ttotal: 205ms\tremaining: 701ms\n",
            "226:\tlearn: 0.4073715\ttotal: 206ms\tremaining: 700ms\n",
            "227:\tlearn: 0.4071786\ttotal: 207ms\tremaining: 699ms\n",
            "228:\tlearn: 0.4070660\ttotal: 208ms\tremaining: 699ms\n",
            "229:\tlearn: 0.4069290\ttotal: 208ms\tremaining: 698ms\n",
            "230:\tlearn: 0.4067950\ttotal: 209ms\tremaining: 697ms\n",
            "231:\tlearn: 0.4065735\ttotal: 210ms\tremaining: 696ms\n",
            "232:\tlearn: 0.4063456\ttotal: 211ms\tremaining: 695ms\n",
            "233:\tlearn: 0.4063118\ttotal: 212ms\tremaining: 693ms\n",
            "234:\tlearn: 0.4061004\ttotal: 213ms\tremaining: 692ms\n",
            "235:\tlearn: 0.4059086\ttotal: 214ms\tremaining: 691ms\n",
            "236:\tlearn: 0.4057650\ttotal: 214ms\tremaining: 691ms\n",
            "237:\tlearn: 0.4057024\ttotal: 215ms\tremaining: 689ms\n",
            "238:\tlearn: 0.4056355\ttotal: 216ms\tremaining: 688ms\n",
            "239:\tlearn: 0.4056158\ttotal: 217ms\tremaining: 686ms\n",
            "240:\tlearn: 0.4055256\ttotal: 218ms\tremaining: 685ms\n",
            "241:\tlearn: 0.4054481\ttotal: 218ms\tremaining: 683ms\n",
            "242:\tlearn: 0.4053640\ttotal: 219ms\tremaining: 683ms\n",
            "243:\tlearn: 0.4051990\ttotal: 220ms\tremaining: 682ms\n",
            "244:\tlearn: 0.4048356\ttotal: 221ms\tremaining: 681ms\n",
            "245:\tlearn: 0.4047222\ttotal: 222ms\tremaining: 680ms\n",
            "246:\tlearn: 0.4045377\ttotal: 223ms\tremaining: 679ms\n",
            "247:\tlearn: 0.4044599\ttotal: 224ms\tremaining: 679ms\n",
            "248:\tlearn: 0.4043755\ttotal: 225ms\tremaining: 678ms\n",
            "249:\tlearn: 0.4042879\ttotal: 226ms\tremaining: 678ms\n",
            "250:\tlearn: 0.4040410\ttotal: 227ms\tremaining: 677ms\n",
            "251:\tlearn: 0.4039319\ttotal: 228ms\tremaining: 676ms\n",
            "252:\tlearn: 0.4037756\ttotal: 229ms\tremaining: 675ms\n",
            "253:\tlearn: 0.4036343\ttotal: 230ms\tremaining: 674ms\n",
            "254:\tlearn: 0.4034604\ttotal: 231ms\tremaining: 674ms\n",
            "255:\tlearn: 0.4031516\ttotal: 231ms\tremaining: 673ms\n",
            "256:\tlearn: 0.4030946\ttotal: 232ms\tremaining: 671ms\n",
            "257:\tlearn: 0.4030123\ttotal: 233ms\tremaining: 671ms\n",
            "258:\tlearn: 0.4029534\ttotal: 234ms\tremaining: 670ms\n",
            "259:\tlearn: 0.4028767\ttotal: 235ms\tremaining: 668ms\n",
            "260:\tlearn: 0.4028082\ttotal: 236ms\tremaining: 668ms\n",
            "261:\tlearn: 0.4027582\ttotal: 237ms\tremaining: 667ms\n",
            "262:\tlearn: 0.4025475\ttotal: 238ms\tremaining: 666ms\n",
            "263:\tlearn: 0.4022590\ttotal: 238ms\tremaining: 665ms\n",
            "264:\tlearn: 0.4021646\ttotal: 239ms\tremaining: 664ms\n",
            "265:\tlearn: 0.4020765\ttotal: 240ms\tremaining: 663ms\n",
            "266:\tlearn: 0.4019031\ttotal: 241ms\tremaining: 662ms\n",
            "267:\tlearn: 0.4017933\ttotal: 242ms\tremaining: 661ms\n",
            "268:\tlearn: 0.4015110\ttotal: 243ms\tremaining: 661ms\n",
            "269:\tlearn: 0.4013881\ttotal: 244ms\tremaining: 660ms\n",
            "270:\tlearn: 0.4013165\ttotal: 245ms\tremaining: 658ms\n",
            "271:\tlearn: 0.4013045\ttotal: 245ms\tremaining: 656ms\n",
            "272:\tlearn: 0.4012409\ttotal: 246ms\tremaining: 655ms\n",
            "273:\tlearn: 0.4011050\ttotal: 247ms\tremaining: 654ms\n",
            "274:\tlearn: 0.4010088\ttotal: 248ms\tremaining: 654ms\n",
            "275:\tlearn: 0.4009716\ttotal: 249ms\tremaining: 653ms\n",
            "276:\tlearn: 0.4009087\ttotal: 250ms\tremaining: 651ms\n",
            "277:\tlearn: 0.4008482\ttotal: 250ms\tremaining: 651ms\n",
            "278:\tlearn: 0.4006299\ttotal: 251ms\tremaining: 650ms\n",
            "279:\tlearn: 0.4005460\ttotal: 252ms\tremaining: 649ms\n",
            "280:\tlearn: 0.4004173\ttotal: 253ms\tremaining: 648ms\n",
            "281:\tlearn: 0.4003762\ttotal: 254ms\tremaining: 647ms\n",
            "282:\tlearn: 0.4002598\ttotal: 255ms\tremaining: 645ms\n",
            "283:\tlearn: 0.4001865\ttotal: 256ms\tremaining: 645ms\n",
            "284:\tlearn: 0.4000086\ttotal: 257ms\tremaining: 644ms\n",
            "285:\tlearn: 0.3999645\ttotal: 258ms\tremaining: 643ms\n",
            "286:\tlearn: 0.3999002\ttotal: 258ms\tremaining: 642ms\n",
            "287:\tlearn: 0.3998596\ttotal: 259ms\tremaining: 641ms\n",
            "288:\tlearn: 0.3998396\ttotal: 260ms\tremaining: 640ms\n",
            "289:\tlearn: 0.3997623\ttotal: 261ms\tremaining: 639ms\n",
            "290:\tlearn: 0.3996600\ttotal: 262ms\tremaining: 638ms\n",
            "291:\tlearn: 0.3995753\ttotal: 263ms\tremaining: 637ms\n",
            "292:\tlearn: 0.3994395\ttotal: 264ms\tremaining: 636ms\n",
            "293:\tlearn: 0.3993862\ttotal: 265ms\tremaining: 635ms\n",
            "294:\tlearn: 0.3992518\ttotal: 265ms\tremaining: 634ms\n",
            "295:\tlearn: 0.3992050\ttotal: 266ms\tremaining: 633ms\n",
            "296:\tlearn: 0.3991927\ttotal: 267ms\tremaining: 632ms\n",
            "297:\tlearn: 0.3991643\ttotal: 268ms\tremaining: 631ms\n",
            "298:\tlearn: 0.3990890\ttotal: 269ms\tremaining: 631ms\n",
            "299:\tlearn: 0.3989409\ttotal: 270ms\tremaining: 630ms\n",
            "300:\tlearn: 0.3988598\ttotal: 271ms\tremaining: 629ms\n",
            "301:\tlearn: 0.3987218\ttotal: 272ms\tremaining: 628ms\n",
            "302:\tlearn: 0.3986350\ttotal: 273ms\tremaining: 627ms\n",
            "303:\tlearn: 0.3985354\ttotal: 274ms\tremaining: 626ms\n",
            "304:\tlearn: 0.3983351\ttotal: 275ms\tremaining: 626ms\n",
            "305:\tlearn: 0.3982491\ttotal: 275ms\tremaining: 625ms\n",
            "306:\tlearn: 0.3979899\ttotal: 276ms\tremaining: 624ms\n",
            "307:\tlearn: 0.3979558\ttotal: 277ms\tremaining: 623ms\n",
            "308:\tlearn: 0.3979154\ttotal: 278ms\tremaining: 622ms\n",
            "309:\tlearn: 0.3978004\ttotal: 279ms\tremaining: 621ms\n",
            "310:\tlearn: 0.3977687\ttotal: 280ms\tremaining: 621ms\n",
            "311:\tlearn: 0.3977428\ttotal: 281ms\tremaining: 620ms\n",
            "312:\tlearn: 0.3976696\ttotal: 282ms\tremaining: 620ms\n",
            "313:\tlearn: 0.3975787\ttotal: 283ms\tremaining: 619ms\n",
            "314:\tlearn: 0.3974245\ttotal: 284ms\tremaining: 618ms\n",
            "315:\tlearn: 0.3973720\ttotal: 285ms\tremaining: 617ms\n",
            "316:\tlearn: 0.3973307\ttotal: 286ms\tremaining: 616ms\n",
            "317:\tlearn: 0.3972867\ttotal: 287ms\tremaining: 616ms\n",
            "318:\tlearn: 0.3970986\ttotal: 288ms\tremaining: 615ms\n",
            "319:\tlearn: 0.3970246\ttotal: 289ms\tremaining: 614ms\n",
            "320:\tlearn: 0.3969070\ttotal: 290ms\tremaining: 613ms\n",
            "321:\tlearn: 0.3968039\ttotal: 291ms\tremaining: 612ms\n",
            "322:\tlearn: 0.3967522\ttotal: 292ms\tremaining: 612ms\n",
            "323:\tlearn: 0.3965149\ttotal: 293ms\tremaining: 611ms\n",
            "324:\tlearn: 0.3964529\ttotal: 294ms\tremaining: 610ms\n",
            "325:\tlearn: 0.3964037\ttotal: 295ms\tremaining: 609ms\n",
            "326:\tlearn: 0.3963294\ttotal: 296ms\tremaining: 608ms\n",
            "327:\tlearn: 0.3961743\ttotal: 296ms\tremaining: 607ms\n",
            "328:\tlearn: 0.3961473\ttotal: 297ms\tremaining: 606ms\n",
            "329:\tlearn: 0.3960943\ttotal: 298ms\tremaining: 606ms\n",
            "330:\tlearn: 0.3960512\ttotal: 299ms\tremaining: 605ms\n",
            "331:\tlearn: 0.3958825\ttotal: 300ms\tremaining: 604ms\n",
            "332:\tlearn: 0.3958276\ttotal: 301ms\tremaining: 603ms\n",
            "333:\tlearn: 0.3957966\ttotal: 302ms\tremaining: 602ms\n",
            "334:\tlearn: 0.3957343\ttotal: 303ms\tremaining: 601ms\n",
            "335:\tlearn: 0.3957174\ttotal: 304ms\tremaining: 600ms\n",
            "336:\tlearn: 0.3955270\ttotal: 305ms\tremaining: 600ms\n",
            "337:\tlearn: 0.3954354\ttotal: 306ms\tremaining: 599ms\n",
            "338:\tlearn: 0.3953876\ttotal: 307ms\tremaining: 598ms\n",
            "339:\tlearn: 0.3953296\ttotal: 308ms\tremaining: 597ms\n",
            "340:\tlearn: 0.3952743\ttotal: 309ms\tremaining: 597ms\n",
            "341:\tlearn: 0.3952155\ttotal: 310ms\tremaining: 596ms\n",
            "342:\tlearn: 0.3951796\ttotal: 311ms\tremaining: 595ms\n",
            "343:\tlearn: 0.3951255\ttotal: 312ms\tremaining: 594ms\n",
            "344:\tlearn: 0.3950294\ttotal: 312ms\tremaining: 593ms\n",
            "345:\tlearn: 0.3950060\ttotal: 313ms\tremaining: 592ms\n",
            "346:\tlearn: 0.3949321\ttotal: 314ms\tremaining: 591ms\n",
            "347:\tlearn: 0.3948225\ttotal: 315ms\tremaining: 590ms\n",
            "348:\tlearn: 0.3946645\ttotal: 316ms\tremaining: 590ms\n",
            "349:\tlearn: 0.3946298\ttotal: 317ms\tremaining: 589ms\n",
            "350:\tlearn: 0.3945222\ttotal: 318ms\tremaining: 588ms\n",
            "351:\tlearn: 0.3944440\ttotal: 319ms\tremaining: 587ms\n",
            "352:\tlearn: 0.3943228\ttotal: 320ms\tremaining: 586ms\n",
            "353:\tlearn: 0.3942036\ttotal: 321ms\tremaining: 585ms\n",
            "354:\tlearn: 0.3940452\ttotal: 322ms\tremaining: 584ms\n",
            "355:\tlearn: 0.3939703\ttotal: 323ms\tremaining: 583ms\n",
            "356:\tlearn: 0.3938291\ttotal: 324ms\tremaining: 583ms\n",
            "357:\tlearn: 0.3937852\ttotal: 324ms\tremaining: 581ms\n",
            "358:\tlearn: 0.3937792\ttotal: 325ms\tremaining: 580ms\n",
            "359:\tlearn: 0.3937615\ttotal: 325ms\tremaining: 579ms\n",
            "360:\tlearn: 0.3937278\ttotal: 326ms\tremaining: 578ms\n",
            "361:\tlearn: 0.3936617\ttotal: 327ms\tremaining: 577ms\n",
            "362:\tlearn: 0.3936258\ttotal: 328ms\tremaining: 576ms\n",
            "363:\tlearn: 0.3936193\ttotal: 329ms\tremaining: 574ms\n",
            "364:\tlearn: 0.3936018\ttotal: 329ms\tremaining: 573ms\n",
            "365:\tlearn: 0.3935028\ttotal: 330ms\tremaining: 572ms\n",
            "366:\tlearn: 0.3934583\ttotal: 331ms\tremaining: 571ms\n",
            "367:\tlearn: 0.3934053\ttotal: 332ms\tremaining: 570ms\n",
            "368:\tlearn: 0.3933389\ttotal: 333ms\tremaining: 570ms\n",
            "369:\tlearn: 0.3933088\ttotal: 334ms\tremaining: 568ms\n",
            "370:\tlearn: 0.3932170\ttotal: 335ms\tremaining: 567ms\n",
            "371:\tlearn: 0.3932033\ttotal: 335ms\tremaining: 566ms\n",
            "372:\tlearn: 0.3931974\ttotal: 336ms\tremaining: 565ms\n",
            "373:\tlearn: 0.3931128\ttotal: 337ms\tremaining: 564ms\n",
            "374:\tlearn: 0.3929740\ttotal: 338ms\tremaining: 563ms\n",
            "375:\tlearn: 0.3929508\ttotal: 338ms\tremaining: 562ms\n",
            "376:\tlearn: 0.3929506\ttotal: 339ms\tremaining: 560ms\n",
            "377:\tlearn: 0.3928908\ttotal: 340ms\tremaining: 559ms\n",
            "378:\tlearn: 0.3928130\ttotal: 341ms\tremaining: 559ms\n",
            "379:\tlearn: 0.3927601\ttotal: 342ms\tremaining: 558ms\n",
            "380:\tlearn: 0.3927307\ttotal: 343ms\tremaining: 557ms\n",
            "381:\tlearn: 0.3925566\ttotal: 344ms\tremaining: 556ms\n",
            "382:\tlearn: 0.3924367\ttotal: 345ms\tremaining: 555ms\n",
            "383:\tlearn: 0.3923533\ttotal: 345ms\tremaining: 554ms\n",
            "384:\tlearn: 0.3922960\ttotal: 346ms\tremaining: 553ms\n",
            "385:\tlearn: 0.3922753\ttotal: 347ms\tremaining: 552ms\n",
            "386:\tlearn: 0.3922547\ttotal: 348ms\tremaining: 551ms\n",
            "387:\tlearn: 0.3921972\ttotal: 349ms\tremaining: 550ms\n",
            "388:\tlearn: 0.3921016\ttotal: 350ms\tremaining: 549ms\n",
            "389:\tlearn: 0.3920806\ttotal: 351ms\tremaining: 548ms\n",
            "390:\tlearn: 0.3920650\ttotal: 351ms\tremaining: 547ms\n",
            "391:\tlearn: 0.3920383\ttotal: 352ms\tremaining: 546ms\n",
            "392:\tlearn: 0.3919289\ttotal: 353ms\tremaining: 545ms\n",
            "393:\tlearn: 0.3918838\ttotal: 354ms\tremaining: 544ms\n",
            "394:\tlearn: 0.3917935\ttotal: 355ms\tremaining: 543ms\n",
            "395:\tlearn: 0.3917379\ttotal: 356ms\tremaining: 542ms\n",
            "396:\tlearn: 0.3916903\ttotal: 356ms\tremaining: 541ms\n",
            "397:\tlearn: 0.3916783\ttotal: 358ms\tremaining: 541ms\n",
            "398:\tlearn: 0.3916587\ttotal: 359ms\tremaining: 540ms\n",
            "399:\tlearn: 0.3916287\ttotal: 360ms\tremaining: 540ms\n",
            "400:\tlearn: 0.3915412\ttotal: 364ms\tremaining: 544ms\n",
            "401:\tlearn: 0.3915076\ttotal: 366ms\tremaining: 544ms\n",
            "402:\tlearn: 0.3914148\ttotal: 367ms\tremaining: 543ms\n",
            "403:\tlearn: 0.3913541\ttotal: 368ms\tremaining: 542ms\n",
            "404:\tlearn: 0.3913190\ttotal: 369ms\tremaining: 542ms\n",
            "405:\tlearn: 0.3912208\ttotal: 370ms\tremaining: 541ms\n",
            "406:\tlearn: 0.3911081\ttotal: 370ms\tremaining: 540ms\n",
            "407:\tlearn: 0.3910360\ttotal: 371ms\tremaining: 539ms\n",
            "408:\tlearn: 0.3910051\ttotal: 372ms\tremaining: 538ms\n",
            "409:\tlearn: 0.3909419\ttotal: 373ms\tremaining: 537ms\n",
            "410:\tlearn: 0.3909059\ttotal: 375ms\tremaining: 537ms\n",
            "411:\tlearn: 0.3908615\ttotal: 376ms\tremaining: 537ms\n",
            "412:\tlearn: 0.3908022\ttotal: 378ms\tremaining: 537ms\n",
            "413:\tlearn: 0.3907667\ttotal: 379ms\tremaining: 536ms\n",
            "414:\tlearn: 0.3907275\ttotal: 380ms\tremaining: 535ms\n",
            "415:\tlearn: 0.3906798\ttotal: 380ms\tremaining: 534ms\n",
            "416:\tlearn: 0.3906192\ttotal: 381ms\tremaining: 533ms\n",
            "417:\tlearn: 0.3905149\ttotal: 382ms\tremaining: 532ms\n",
            "418:\tlearn: 0.3904540\ttotal: 383ms\tremaining: 531ms\n",
            "419:\tlearn: 0.3903957\ttotal: 384ms\tremaining: 530ms\n",
            "420:\tlearn: 0.3903467\ttotal: 385ms\tremaining: 530ms\n",
            "421:\tlearn: 0.3903457\ttotal: 386ms\tremaining: 528ms\n",
            "422:\tlearn: 0.3903321\ttotal: 386ms\tremaining: 527ms\n",
            "423:\tlearn: 0.3903301\ttotal: 387ms\tremaining: 525ms\n",
            "424:\tlearn: 0.3903022\ttotal: 388ms\tremaining: 524ms\n",
            "425:\tlearn: 0.3902499\ttotal: 389ms\tremaining: 524ms\n",
            "426:\tlearn: 0.3902105\ttotal: 389ms\tremaining: 523ms\n",
            "427:\tlearn: 0.3901358\ttotal: 390ms\tremaining: 522ms\n",
            "428:\tlearn: 0.3900479\ttotal: 391ms\tremaining: 521ms\n",
            "429:\tlearn: 0.3899775\ttotal: 392ms\tremaining: 520ms\n",
            "430:\tlearn: 0.3899687\ttotal: 393ms\tremaining: 518ms\n",
            "431:\tlearn: 0.3898877\ttotal: 394ms\tremaining: 518ms\n",
            "432:\tlearn: 0.3898429\ttotal: 395ms\tremaining: 517ms\n",
            "433:\tlearn: 0.3898311\ttotal: 395ms\tremaining: 515ms\n",
            "434:\tlearn: 0.3897859\ttotal: 396ms\tremaining: 514ms\n",
            "435:\tlearn: 0.3897046\ttotal: 397ms\tremaining: 513ms\n",
            "436:\tlearn: 0.3896777\ttotal: 398ms\tremaining: 512ms\n",
            "437:\tlearn: 0.3896386\ttotal: 399ms\tremaining: 512ms\n",
            "438:\tlearn: 0.3895918\ttotal: 400ms\tremaining: 511ms\n",
            "439:\tlearn: 0.3895608\ttotal: 400ms\tremaining: 509ms\n",
            "440:\tlearn: 0.3895009\ttotal: 401ms\tremaining: 509ms\n",
            "441:\tlearn: 0.3894893\ttotal: 402ms\tremaining: 507ms\n",
            "442:\tlearn: 0.3894007\ttotal: 403ms\tremaining: 507ms\n",
            "443:\tlearn: 0.3893791\ttotal: 404ms\tremaining: 506ms\n",
            "444:\tlearn: 0.3893422\ttotal: 405ms\tremaining: 505ms\n",
            "445:\tlearn: 0.3892779\ttotal: 406ms\tremaining: 504ms\n",
            "446:\tlearn: 0.3892655\ttotal: 406ms\tremaining: 503ms\n",
            "447:\tlearn: 0.3892169\ttotal: 407ms\tremaining: 502ms\n",
            "448:\tlearn: 0.3891920\ttotal: 408ms\tremaining: 501ms\n",
            "449:\tlearn: 0.3891210\ttotal: 409ms\tremaining: 500ms\n",
            "450:\tlearn: 0.3890613\ttotal: 410ms\tremaining: 499ms\n",
            "451:\tlearn: 0.3889772\ttotal: 411ms\tremaining: 498ms\n",
            "452:\tlearn: 0.3889100\ttotal: 412ms\tremaining: 497ms\n",
            "453:\tlearn: 0.3888558\ttotal: 413ms\tremaining: 497ms\n",
            "454:\tlearn: 0.3888055\ttotal: 414ms\tremaining: 496ms\n",
            "455:\tlearn: 0.3887371\ttotal: 415ms\tremaining: 495ms\n",
            "456:\tlearn: 0.3887324\ttotal: 415ms\tremaining: 494ms\n",
            "457:\tlearn: 0.3886652\ttotal: 416ms\tremaining: 493ms\n",
            "458:\tlearn: 0.3885997\ttotal: 417ms\tremaining: 492ms\n",
            "459:\tlearn: 0.3885970\ttotal: 418ms\tremaining: 490ms\n",
            "460:\tlearn: 0.3885591\ttotal: 419ms\tremaining: 489ms\n",
            "461:\tlearn: 0.3885176\ttotal: 420ms\tremaining: 489ms\n",
            "462:\tlearn: 0.3885003\ttotal: 420ms\tremaining: 487ms\n",
            "463:\tlearn: 0.3884649\ttotal: 421ms\tremaining: 487ms\n",
            "464:\tlearn: 0.3883683\ttotal: 422ms\tremaining: 486ms\n",
            "465:\tlearn: 0.3883411\ttotal: 423ms\tremaining: 485ms\n",
            "466:\tlearn: 0.3882213\ttotal: 424ms\tremaining: 484ms\n",
            "467:\tlearn: 0.3880813\ttotal: 425ms\tremaining: 483ms\n",
            "468:\tlearn: 0.3880576\ttotal: 426ms\tremaining: 482ms\n",
            "469:\tlearn: 0.3880553\ttotal: 426ms\tremaining: 481ms\n",
            "470:\tlearn: 0.3880180\ttotal: 427ms\tremaining: 480ms\n",
            "471:\tlearn: 0.3879553\ttotal: 428ms\tremaining: 479ms\n",
            "472:\tlearn: 0.3879367\ttotal: 429ms\tremaining: 478ms\n",
            "473:\tlearn: 0.3878506\ttotal: 430ms\tremaining: 477ms\n",
            "474:\tlearn: 0.3878052\ttotal: 431ms\tremaining: 476ms\n",
            "475:\tlearn: 0.3877834\ttotal: 432ms\tremaining: 475ms\n",
            "476:\tlearn: 0.3877358\ttotal: 433ms\tremaining: 475ms\n",
            "477:\tlearn: 0.3876806\ttotal: 434ms\tremaining: 474ms\n",
            "478:\tlearn: 0.3876031\ttotal: 435ms\tremaining: 473ms\n",
            "479:\tlearn: 0.3875937\ttotal: 435ms\tremaining: 472ms\n",
            "480:\tlearn: 0.3875584\ttotal: 436ms\tremaining: 471ms\n",
            "481:\tlearn: 0.3875218\ttotal: 437ms\tremaining: 470ms\n",
            "482:\tlearn: 0.3874052\ttotal: 438ms\tremaining: 469ms\n",
            "483:\tlearn: 0.3873567\ttotal: 439ms\tremaining: 468ms\n",
            "484:\tlearn: 0.3873282\ttotal: 440ms\tremaining: 467ms\n",
            "485:\tlearn: 0.3873235\ttotal: 441ms\tremaining: 466ms\n",
            "486:\tlearn: 0.3872969\ttotal: 442ms\tremaining: 465ms\n",
            "487:\tlearn: 0.3872546\ttotal: 443ms\tremaining: 464ms\n",
            "488:\tlearn: 0.3871846\ttotal: 443ms\tremaining: 463ms\n",
            "489:\tlearn: 0.3871601\ttotal: 444ms\tremaining: 462ms\n",
            "490:\tlearn: 0.3871421\ttotal: 445ms\tremaining: 462ms\n",
            "491:\tlearn: 0.3870997\ttotal: 446ms\tremaining: 461ms\n",
            "492:\tlearn: 0.3870720\ttotal: 447ms\tremaining: 460ms\n",
            "493:\tlearn: 0.3870229\ttotal: 448ms\tremaining: 459ms\n",
            "494:\tlearn: 0.3869896\ttotal: 449ms\tremaining: 458ms\n",
            "495:\tlearn: 0.3869575\ttotal: 450ms\tremaining: 457ms\n",
            "496:\tlearn: 0.3869295\ttotal: 451ms\tremaining: 456ms\n",
            "497:\tlearn: 0.3868924\ttotal: 452ms\tremaining: 455ms\n",
            "498:\tlearn: 0.3868627\ttotal: 453ms\tremaining: 455ms\n",
            "499:\tlearn: 0.3868334\ttotal: 454ms\tremaining: 454ms\n",
            "500:\tlearn: 0.3868151\ttotal: 454ms\tremaining: 452ms\n",
            "501:\tlearn: 0.3867894\ttotal: 455ms\tremaining: 451ms\n",
            "502:\tlearn: 0.3867554\ttotal: 456ms\tremaining: 451ms\n",
            "503:\tlearn: 0.3866714\ttotal: 457ms\tremaining: 450ms\n",
            "504:\tlearn: 0.3866503\ttotal: 458ms\tremaining: 448ms\n",
            "505:\tlearn: 0.3866218\ttotal: 458ms\tremaining: 448ms\n",
            "506:\tlearn: 0.3865974\ttotal: 459ms\tremaining: 447ms\n",
            "507:\tlearn: 0.3864839\ttotal: 460ms\tremaining: 446ms\n",
            "508:\tlearn: 0.3864669\ttotal: 461ms\tremaining: 445ms\n",
            "509:\tlearn: 0.3864641\ttotal: 462ms\tremaining: 444ms\n",
            "510:\tlearn: 0.3863813\ttotal: 463ms\tremaining: 443ms\n",
            "511:\tlearn: 0.3863628\ttotal: 463ms\tremaining: 442ms\n",
            "512:\tlearn: 0.3863401\ttotal: 464ms\tremaining: 441ms\n",
            "513:\tlearn: 0.3863353\ttotal: 465ms\tremaining: 440ms\n",
            "514:\tlearn: 0.3862607\ttotal: 466ms\tremaining: 439ms\n",
            "515:\tlearn: 0.3862561\ttotal: 467ms\tremaining: 438ms\n",
            "516:\tlearn: 0.3862211\ttotal: 468ms\tremaining: 437ms\n",
            "517:\tlearn: 0.3861465\ttotal: 468ms\tremaining: 436ms\n",
            "518:\tlearn: 0.3861125\ttotal: 469ms\tremaining: 435ms\n",
            "519:\tlearn: 0.3860704\ttotal: 470ms\tremaining: 434ms\n",
            "520:\tlearn: 0.3860433\ttotal: 471ms\tremaining: 433ms\n",
            "521:\tlearn: 0.3860336\ttotal: 472ms\tremaining: 432ms\n",
            "522:\tlearn: 0.3860181\ttotal: 473ms\tremaining: 431ms\n",
            "523:\tlearn: 0.3859809\ttotal: 474ms\tremaining: 430ms\n",
            "524:\tlearn: 0.3859728\ttotal: 474ms\tremaining: 429ms\n",
            "525:\tlearn: 0.3859582\ttotal: 475ms\tremaining: 428ms\n",
            "526:\tlearn: 0.3858935\ttotal: 476ms\tremaining: 427ms\n",
            "527:\tlearn: 0.3858667\ttotal: 477ms\tremaining: 426ms\n",
            "528:\tlearn: 0.3858207\ttotal: 478ms\tremaining: 426ms\n",
            "529:\tlearn: 0.3857928\ttotal: 479ms\tremaining: 425ms\n",
            "530:\tlearn: 0.3857746\ttotal: 480ms\tremaining: 424ms\n",
            "531:\tlearn: 0.3857087\ttotal: 481ms\tremaining: 423ms\n",
            "532:\tlearn: 0.3856739\ttotal: 482ms\tremaining: 422ms\n",
            "533:\tlearn: 0.3856483\ttotal: 483ms\tremaining: 421ms\n",
            "534:\tlearn: 0.3856220\ttotal: 484ms\tremaining: 420ms\n",
            "535:\tlearn: 0.3855734\ttotal: 485ms\tremaining: 420ms\n",
            "536:\tlearn: 0.3855511\ttotal: 486ms\tremaining: 419ms\n",
            "537:\tlearn: 0.3855155\ttotal: 487ms\tremaining: 418ms\n",
            "538:\tlearn: 0.3854570\ttotal: 487ms\tremaining: 417ms\n",
            "539:\tlearn: 0.3854255\ttotal: 488ms\tremaining: 416ms\n",
            "540:\tlearn: 0.3853898\ttotal: 489ms\tremaining: 415ms\n",
            "541:\tlearn: 0.3853670\ttotal: 490ms\tremaining: 414ms\n",
            "542:\tlearn: 0.3853657\ttotal: 491ms\tremaining: 413ms\n",
            "543:\tlearn: 0.3853607\ttotal: 491ms\tremaining: 412ms\n",
            "544:\tlearn: 0.3853302\ttotal: 492ms\tremaining: 411ms\n",
            "545:\tlearn: 0.3852256\ttotal: 493ms\tremaining: 410ms\n",
            "546:\tlearn: 0.3851758\ttotal: 494ms\tremaining: 409ms\n",
            "547:\tlearn: 0.3851733\ttotal: 495ms\tremaining: 408ms\n",
            "548:\tlearn: 0.3851064\ttotal: 496ms\tremaining: 407ms\n",
            "549:\tlearn: 0.3851071\ttotal: 496ms\tremaining: 406ms\n",
            "550:\tlearn: 0.3850832\ttotal: 497ms\tremaining: 405ms\n",
            "551:\tlearn: 0.3850541\ttotal: 498ms\tremaining: 404ms\n",
            "552:\tlearn: 0.3850165\ttotal: 499ms\tremaining: 404ms\n",
            "553:\tlearn: 0.3849569\ttotal: 500ms\tremaining: 403ms\n",
            "554:\tlearn: 0.3849271\ttotal: 501ms\tremaining: 402ms\n",
            "555:\tlearn: 0.3849070\ttotal: 502ms\tremaining: 401ms\n",
            "556:\tlearn: 0.3848363\ttotal: 503ms\tremaining: 400ms\n",
            "557:\tlearn: 0.3847925\ttotal: 504ms\tremaining: 399ms\n",
            "558:\tlearn: 0.3847632\ttotal: 505ms\tremaining: 398ms\n",
            "559:\tlearn: 0.3847339\ttotal: 506ms\tremaining: 397ms\n",
            "560:\tlearn: 0.3847053\ttotal: 507ms\tremaining: 396ms\n",
            "561:\tlearn: 0.3846618\ttotal: 508ms\tremaining: 396ms\n",
            "562:\tlearn: 0.3846365\ttotal: 508ms\tremaining: 395ms\n",
            "563:\tlearn: 0.3846089\ttotal: 509ms\tremaining: 394ms\n",
            "564:\tlearn: 0.3845986\ttotal: 510ms\tremaining: 393ms\n",
            "565:\tlearn: 0.3844988\ttotal: 511ms\tremaining: 392ms\n",
            "566:\tlearn: 0.3844605\ttotal: 512ms\tremaining: 391ms\n",
            "567:\tlearn: 0.3844532\ttotal: 513ms\tremaining: 390ms\n",
            "568:\tlearn: 0.3844453\ttotal: 513ms\tremaining: 389ms\n",
            "569:\tlearn: 0.3843835\ttotal: 514ms\tremaining: 388ms\n",
            "570:\tlearn: 0.3842526\ttotal: 515ms\tremaining: 387ms\n",
            "571:\tlearn: 0.3841792\ttotal: 516ms\tremaining: 386ms\n",
            "572:\tlearn: 0.3841536\ttotal: 517ms\tremaining: 385ms\n",
            "573:\tlearn: 0.3841076\ttotal: 518ms\tremaining: 384ms\n",
            "574:\tlearn: 0.3840184\ttotal: 519ms\tremaining: 383ms\n",
            "575:\tlearn: 0.3839919\ttotal: 520ms\tremaining: 383ms\n",
            "576:\tlearn: 0.3839714\ttotal: 521ms\tremaining: 382ms\n",
            "577:\tlearn: 0.3839637\ttotal: 522ms\tremaining: 381ms\n",
            "578:\tlearn: 0.3839512\ttotal: 522ms\tremaining: 380ms\n",
            "579:\tlearn: 0.3839302\ttotal: 523ms\tremaining: 379ms\n",
            "580:\tlearn: 0.3837734\ttotal: 524ms\tremaining: 378ms\n",
            "581:\tlearn: 0.3837486\ttotal: 525ms\tremaining: 377ms\n",
            "582:\tlearn: 0.3837037\ttotal: 526ms\tremaining: 376ms\n",
            "583:\tlearn: 0.3836402\ttotal: 527ms\tremaining: 375ms\n",
            "584:\tlearn: 0.3836061\ttotal: 527ms\tremaining: 374ms\n",
            "585:\tlearn: 0.3835431\ttotal: 528ms\tremaining: 373ms\n",
            "586:\tlearn: 0.3835032\ttotal: 529ms\tremaining: 372ms\n",
            "587:\tlearn: 0.3834736\ttotal: 530ms\tremaining: 371ms\n",
            "588:\tlearn: 0.3833745\ttotal: 531ms\tremaining: 371ms\n",
            "589:\tlearn: 0.3833380\ttotal: 532ms\tremaining: 370ms\n",
            "590:\tlearn: 0.3833045\ttotal: 533ms\tremaining: 369ms\n",
            "591:\tlearn: 0.3832475\ttotal: 534ms\tremaining: 368ms\n",
            "592:\tlearn: 0.3831628\ttotal: 535ms\tremaining: 367ms\n",
            "593:\tlearn: 0.3831602\ttotal: 535ms\tremaining: 366ms\n",
            "594:\tlearn: 0.3831423\ttotal: 536ms\tremaining: 365ms\n",
            "595:\tlearn: 0.3831105\ttotal: 537ms\tremaining: 364ms\n",
            "596:\tlearn: 0.3830973\ttotal: 538ms\tremaining: 363ms\n",
            "597:\tlearn: 0.3830758\ttotal: 539ms\tremaining: 362ms\n",
            "598:\tlearn: 0.3830428\ttotal: 540ms\tremaining: 361ms\n",
            "599:\tlearn: 0.3830175\ttotal: 541ms\tremaining: 360ms\n",
            "600:\tlearn: 0.3829666\ttotal: 542ms\tremaining: 360ms\n",
            "601:\tlearn: 0.3829400\ttotal: 542ms\tremaining: 359ms\n",
            "602:\tlearn: 0.3828973\ttotal: 543ms\tremaining: 358ms\n",
            "603:\tlearn: 0.3828012\ttotal: 544ms\tremaining: 357ms\n",
            "604:\tlearn: 0.3827844\ttotal: 545ms\tremaining: 356ms\n",
            "605:\tlearn: 0.3827801\ttotal: 546ms\tremaining: 355ms\n",
            "606:\tlearn: 0.3827132\ttotal: 547ms\tremaining: 354ms\n",
            "607:\tlearn: 0.3827062\ttotal: 550ms\tremaining: 355ms\n",
            "608:\tlearn: 0.3826712\ttotal: 551ms\tremaining: 354ms\n",
            "609:\tlearn: 0.3825888\ttotal: 553ms\tremaining: 354ms\n",
            "610:\tlearn: 0.3825444\ttotal: 555ms\tremaining: 353ms\n",
            "611:\tlearn: 0.3824977\ttotal: 557ms\tremaining: 353ms\n",
            "612:\tlearn: 0.3824210\ttotal: 558ms\tremaining: 352ms\n",
            "613:\tlearn: 0.3824060\ttotal: 559ms\tremaining: 351ms\n",
            "614:\tlearn: 0.3823991\ttotal: 559ms\tremaining: 350ms\n",
            "615:\tlearn: 0.3823539\ttotal: 560ms\tremaining: 349ms\n",
            "616:\tlearn: 0.3823158\ttotal: 562ms\tremaining: 349ms\n",
            "617:\tlearn: 0.3822510\ttotal: 565ms\tremaining: 349ms\n",
            "618:\tlearn: 0.3822226\ttotal: 566ms\tremaining: 348ms\n",
            "619:\tlearn: 0.3821917\ttotal: 567ms\tremaining: 348ms\n",
            "620:\tlearn: 0.3821602\ttotal: 569ms\tremaining: 347ms\n",
            "621:\tlearn: 0.3821364\ttotal: 570ms\tremaining: 346ms\n",
            "622:\tlearn: 0.3821249\ttotal: 571ms\tremaining: 345ms\n",
            "623:\tlearn: 0.3821183\ttotal: 571ms\tremaining: 344ms\n",
            "624:\tlearn: 0.3820425\ttotal: 572ms\tremaining: 343ms\n",
            "625:\tlearn: 0.3819985\ttotal: 573ms\tremaining: 342ms\n",
            "626:\tlearn: 0.3819162\ttotal: 574ms\tremaining: 342ms\n",
            "627:\tlearn: 0.3818838\ttotal: 575ms\tremaining: 341ms\n",
            "628:\tlearn: 0.3818179\ttotal: 576ms\tremaining: 340ms\n",
            "629:\tlearn: 0.3817957\ttotal: 577ms\tremaining: 339ms\n",
            "630:\tlearn: 0.3817872\ttotal: 579ms\tremaining: 339ms\n",
            "631:\tlearn: 0.3817162\ttotal: 580ms\tremaining: 338ms\n",
            "632:\tlearn: 0.3816749\ttotal: 581ms\tremaining: 337ms\n",
            "633:\tlearn: 0.3816447\ttotal: 582ms\tremaining: 336ms\n",
            "634:\tlearn: 0.3816253\ttotal: 583ms\tremaining: 335ms\n",
            "635:\tlearn: 0.3815686\ttotal: 585ms\tremaining: 335ms\n",
            "636:\tlearn: 0.3815565\ttotal: 586ms\tremaining: 334ms\n",
            "637:\tlearn: 0.3814818\ttotal: 587ms\tremaining: 333ms\n",
            "638:\tlearn: 0.3813951\ttotal: 588ms\tremaining: 332ms\n",
            "639:\tlearn: 0.3813463\ttotal: 589ms\tremaining: 331ms\n",
            "640:\tlearn: 0.3813339\ttotal: 590ms\tremaining: 330ms\n",
            "641:\tlearn: 0.3812694\ttotal: 591ms\tremaining: 330ms\n",
            "642:\tlearn: 0.3811751\ttotal: 592ms\tremaining: 329ms\n",
            "643:\tlearn: 0.3811497\ttotal: 593ms\tremaining: 328ms\n",
            "644:\tlearn: 0.3811329\ttotal: 594ms\tremaining: 327ms\n",
            "645:\tlearn: 0.3810983\ttotal: 595ms\tremaining: 326ms\n",
            "646:\tlearn: 0.3810658\ttotal: 596ms\tremaining: 325ms\n",
            "647:\tlearn: 0.3810158\ttotal: 597ms\tremaining: 324ms\n",
            "648:\tlearn: 0.3809809\ttotal: 598ms\tremaining: 323ms\n",
            "649:\tlearn: 0.3809505\ttotal: 599ms\tremaining: 322ms\n",
            "650:\tlearn: 0.3809221\ttotal: 599ms\tremaining: 321ms\n",
            "651:\tlearn: 0.3809120\ttotal: 600ms\tremaining: 320ms\n",
            "652:\tlearn: 0.3808891\ttotal: 601ms\tremaining: 319ms\n",
            "653:\tlearn: 0.3808430\ttotal: 602ms\tremaining: 319ms\n",
            "654:\tlearn: 0.3808434\ttotal: 603ms\tremaining: 317ms\n",
            "655:\tlearn: 0.3808199\ttotal: 604ms\tremaining: 317ms\n",
            "656:\tlearn: 0.3807075\ttotal: 605ms\tremaining: 316ms\n",
            "657:\tlearn: 0.3805996\ttotal: 606ms\tremaining: 315ms\n",
            "658:\tlearn: 0.3805878\ttotal: 606ms\tremaining: 314ms\n",
            "659:\tlearn: 0.3804798\ttotal: 607ms\tremaining: 313ms\n",
            "660:\tlearn: 0.3804684\ttotal: 608ms\tremaining: 312ms\n",
            "661:\tlearn: 0.3804419\ttotal: 609ms\tremaining: 311ms\n",
            "662:\tlearn: 0.3803838\ttotal: 610ms\tremaining: 310ms\n",
            "663:\tlearn: 0.3803586\ttotal: 611ms\tremaining: 309ms\n",
            "664:\tlearn: 0.3803106\ttotal: 612ms\tremaining: 308ms\n",
            "665:\tlearn: 0.3802543\ttotal: 613ms\tremaining: 307ms\n",
            "666:\tlearn: 0.3802013\ttotal: 614ms\tremaining: 306ms\n",
            "667:\tlearn: 0.3801505\ttotal: 615ms\tremaining: 306ms\n",
            "668:\tlearn: 0.3801184\ttotal: 616ms\tremaining: 305ms\n",
            "669:\tlearn: 0.3801009\ttotal: 617ms\tremaining: 304ms\n",
            "670:\tlearn: 0.3800363\ttotal: 617ms\tremaining: 303ms\n",
            "671:\tlearn: 0.3799677\ttotal: 618ms\tremaining: 302ms\n",
            "672:\tlearn: 0.3799329\ttotal: 619ms\tremaining: 301ms\n",
            "673:\tlearn: 0.3798751\ttotal: 620ms\tremaining: 300ms\n",
            "674:\tlearn: 0.3797991\ttotal: 621ms\tremaining: 299ms\n",
            "675:\tlearn: 0.3797654\ttotal: 622ms\tremaining: 298ms\n",
            "676:\tlearn: 0.3797469\ttotal: 623ms\tremaining: 297ms\n",
            "677:\tlearn: 0.3797059\ttotal: 624ms\tremaining: 296ms\n",
            "678:\tlearn: 0.3796745\ttotal: 625ms\tremaining: 295ms\n",
            "679:\tlearn: 0.3796419\ttotal: 626ms\tremaining: 294ms\n",
            "680:\tlearn: 0.3796017\ttotal: 627ms\tremaining: 293ms\n",
            "681:\tlearn: 0.3795874\ttotal: 627ms\tremaining: 293ms\n",
            "682:\tlearn: 0.3795700\ttotal: 628ms\tremaining: 292ms\n",
            "683:\tlearn: 0.3795486\ttotal: 629ms\tremaining: 291ms\n",
            "684:\tlearn: 0.3795246\ttotal: 630ms\tremaining: 290ms\n",
            "685:\tlearn: 0.3794935\ttotal: 631ms\tremaining: 289ms\n",
            "686:\tlearn: 0.3794812\ttotal: 632ms\tremaining: 288ms\n",
            "687:\tlearn: 0.3794647\ttotal: 633ms\tremaining: 287ms\n",
            "688:\tlearn: 0.3794629\ttotal: 633ms\tremaining: 286ms\n",
            "689:\tlearn: 0.3793793\ttotal: 634ms\tremaining: 285ms\n",
            "690:\tlearn: 0.3793680\ttotal: 635ms\tremaining: 284ms\n",
            "691:\tlearn: 0.3793422\ttotal: 636ms\tremaining: 283ms\n",
            "692:\tlearn: 0.3792684\ttotal: 637ms\tremaining: 282ms\n",
            "693:\tlearn: 0.3792350\ttotal: 638ms\tremaining: 281ms\n",
            "694:\tlearn: 0.3792090\ttotal: 639ms\tremaining: 280ms\n",
            "695:\tlearn: 0.3791826\ttotal: 640ms\tremaining: 279ms\n",
            "696:\tlearn: 0.3791671\ttotal: 641ms\tremaining: 278ms\n",
            "697:\tlearn: 0.3791554\ttotal: 641ms\tremaining: 277ms\n",
            "698:\tlearn: 0.3791441\ttotal: 642ms\tremaining: 277ms\n",
            "699:\tlearn: 0.3790588\ttotal: 643ms\tremaining: 276ms\n",
            "700:\tlearn: 0.3789938\ttotal: 644ms\tremaining: 275ms\n",
            "701:\tlearn: 0.3789201\ttotal: 645ms\tremaining: 274ms\n",
            "702:\tlearn: 0.3788804\ttotal: 646ms\tremaining: 273ms\n",
            "703:\tlearn: 0.3788093\ttotal: 647ms\tremaining: 272ms\n",
            "704:\tlearn: 0.3787589\ttotal: 648ms\tremaining: 271ms\n",
            "705:\tlearn: 0.3786978\ttotal: 649ms\tremaining: 270ms\n",
            "706:\tlearn: 0.3786808\ttotal: 650ms\tremaining: 269ms\n",
            "707:\tlearn: 0.3786446\ttotal: 650ms\tremaining: 268ms\n",
            "708:\tlearn: 0.3786214\ttotal: 651ms\tremaining: 267ms\n",
            "709:\tlearn: 0.3785865\ttotal: 652ms\tremaining: 266ms\n",
            "710:\tlearn: 0.3784987\ttotal: 653ms\tremaining: 265ms\n",
            "711:\tlearn: 0.3784740\ttotal: 654ms\tremaining: 265ms\n",
            "712:\tlearn: 0.3784144\ttotal: 655ms\tremaining: 264ms\n",
            "713:\tlearn: 0.3784068\ttotal: 656ms\tremaining: 263ms\n",
            "714:\tlearn: 0.3783825\ttotal: 657ms\tremaining: 262ms\n",
            "715:\tlearn: 0.3783108\ttotal: 658ms\tremaining: 261ms\n",
            "716:\tlearn: 0.3782964\ttotal: 658ms\tremaining: 260ms\n",
            "717:\tlearn: 0.3782501\ttotal: 659ms\tremaining: 259ms\n",
            "718:\tlearn: 0.3781511\ttotal: 660ms\tremaining: 258ms\n",
            "719:\tlearn: 0.3781027\ttotal: 661ms\tremaining: 257ms\n",
            "720:\tlearn: 0.3780803\ttotal: 662ms\tremaining: 256ms\n",
            "721:\tlearn: 0.3779848\ttotal: 663ms\tremaining: 255ms\n",
            "722:\tlearn: 0.3779649\ttotal: 664ms\tremaining: 254ms\n",
            "723:\tlearn: 0.3778879\ttotal: 665ms\tremaining: 253ms\n",
            "724:\tlearn: 0.3778599\ttotal: 666ms\tremaining: 253ms\n",
            "725:\tlearn: 0.3777929\ttotal: 667ms\tremaining: 252ms\n",
            "726:\tlearn: 0.3777654\ttotal: 668ms\tremaining: 251ms\n",
            "727:\tlearn: 0.3777448\ttotal: 668ms\tremaining: 250ms\n",
            "728:\tlearn: 0.3776826\ttotal: 669ms\tremaining: 249ms\n",
            "729:\tlearn: 0.3776601\ttotal: 670ms\tremaining: 248ms\n",
            "730:\tlearn: 0.3776370\ttotal: 671ms\tremaining: 247ms\n",
            "731:\tlearn: 0.3776086\ttotal: 672ms\tremaining: 246ms\n",
            "732:\tlearn: 0.3775821\ttotal: 673ms\tremaining: 245ms\n",
            "733:\tlearn: 0.3775678\ttotal: 674ms\tremaining: 244ms\n",
            "734:\tlearn: 0.3775103\ttotal: 675ms\tremaining: 243ms\n",
            "735:\tlearn: 0.3774476\ttotal: 676ms\tremaining: 242ms\n",
            "736:\tlearn: 0.3774230\ttotal: 677ms\tremaining: 241ms\n",
            "737:\tlearn: 0.3774072\ttotal: 678ms\tremaining: 241ms\n",
            "738:\tlearn: 0.3773873\ttotal: 678ms\tremaining: 240ms\n",
            "739:\tlearn: 0.3773091\ttotal: 679ms\tremaining: 239ms\n",
            "740:\tlearn: 0.3772505\ttotal: 680ms\tremaining: 238ms\n",
            "741:\tlearn: 0.3771951\ttotal: 681ms\tremaining: 237ms\n",
            "742:\tlearn: 0.3771797\ttotal: 682ms\tremaining: 236ms\n",
            "743:\tlearn: 0.3771469\ttotal: 683ms\tremaining: 235ms\n",
            "744:\tlearn: 0.3770928\ttotal: 684ms\tremaining: 234ms\n",
            "745:\tlearn: 0.3770239\ttotal: 685ms\tremaining: 233ms\n",
            "746:\tlearn: 0.3769939\ttotal: 686ms\tremaining: 232ms\n",
            "747:\tlearn: 0.3769274\ttotal: 687ms\tremaining: 231ms\n",
            "748:\tlearn: 0.3768992\ttotal: 688ms\tremaining: 230ms\n",
            "749:\tlearn: 0.3768478\ttotal: 689ms\tremaining: 230ms\n",
            "750:\tlearn: 0.3768063\ttotal: 690ms\tremaining: 229ms\n",
            "751:\tlearn: 0.3767420\ttotal: 690ms\tremaining: 228ms\n",
            "752:\tlearn: 0.3767086\ttotal: 691ms\tremaining: 227ms\n",
            "753:\tlearn: 0.3766642\ttotal: 692ms\tremaining: 226ms\n",
            "754:\tlearn: 0.3766217\ttotal: 693ms\tremaining: 225ms\n",
            "755:\tlearn: 0.3765991\ttotal: 694ms\tremaining: 224ms\n",
            "756:\tlearn: 0.3765812\ttotal: 695ms\tremaining: 223ms\n",
            "757:\tlearn: 0.3765652\ttotal: 696ms\tremaining: 222ms\n",
            "758:\tlearn: 0.3765338\ttotal: 697ms\tremaining: 221ms\n",
            "759:\tlearn: 0.3764934\ttotal: 698ms\tremaining: 220ms\n",
            "760:\tlearn: 0.3764651\ttotal: 699ms\tremaining: 219ms\n",
            "761:\tlearn: 0.3764550\ttotal: 699ms\tremaining: 218ms\n",
            "762:\tlearn: 0.3763846\ttotal: 700ms\tremaining: 218ms\n",
            "763:\tlearn: 0.3763416\ttotal: 701ms\tremaining: 217ms\n",
            "764:\tlearn: 0.3762534\ttotal: 702ms\tremaining: 216ms\n",
            "765:\tlearn: 0.3762442\ttotal: 703ms\tremaining: 215ms\n",
            "766:\tlearn: 0.3761984\ttotal: 704ms\tremaining: 214ms\n",
            "767:\tlearn: 0.3761787\ttotal: 705ms\tremaining: 213ms\n",
            "768:\tlearn: 0.3761490\ttotal: 705ms\tremaining: 212ms\n",
            "769:\tlearn: 0.3761286\ttotal: 706ms\tremaining: 211ms\n",
            "770:\tlearn: 0.3761074\ttotal: 707ms\tremaining: 210ms\n",
            "771:\tlearn: 0.3760800\ttotal: 708ms\tremaining: 209ms\n",
            "772:\tlearn: 0.3760467\ttotal: 709ms\tremaining: 208ms\n",
            "773:\tlearn: 0.3760238\ttotal: 710ms\tremaining: 207ms\n",
            "774:\tlearn: 0.3759942\ttotal: 711ms\tremaining: 206ms\n",
            "775:\tlearn: 0.3759745\ttotal: 712ms\tremaining: 205ms\n",
            "776:\tlearn: 0.3759543\ttotal: 713ms\tremaining: 204ms\n",
            "777:\tlearn: 0.3759005\ttotal: 713ms\tremaining: 204ms\n",
            "778:\tlearn: 0.3758539\ttotal: 714ms\tremaining: 203ms\n",
            "779:\tlearn: 0.3758275\ttotal: 715ms\tremaining: 202ms\n",
            "780:\tlearn: 0.3758042\ttotal: 716ms\tremaining: 201ms\n",
            "781:\tlearn: 0.3757875\ttotal: 717ms\tremaining: 200ms\n",
            "782:\tlearn: 0.3757004\ttotal: 718ms\tremaining: 199ms\n",
            "783:\tlearn: 0.3756834\ttotal: 719ms\tremaining: 198ms\n",
            "784:\tlearn: 0.3756384\ttotal: 720ms\tremaining: 197ms\n",
            "785:\tlearn: 0.3755915\ttotal: 721ms\tremaining: 196ms\n",
            "786:\tlearn: 0.3755564\ttotal: 722ms\tremaining: 195ms\n",
            "787:\tlearn: 0.3755491\ttotal: 723ms\tremaining: 194ms\n",
            "788:\tlearn: 0.3755222\ttotal: 723ms\tremaining: 193ms\n",
            "789:\tlearn: 0.3754367\ttotal: 724ms\tremaining: 193ms\n",
            "790:\tlearn: 0.3754104\ttotal: 725ms\tremaining: 192ms\n",
            "791:\tlearn: 0.3753709\ttotal: 726ms\tremaining: 191ms\n",
            "792:\tlearn: 0.3753194\ttotal: 727ms\tremaining: 190ms\n",
            "793:\tlearn: 0.3753037\ttotal: 728ms\tremaining: 189ms\n",
            "794:\tlearn: 0.3752786\ttotal: 729ms\tremaining: 188ms\n",
            "795:\tlearn: 0.3752711\ttotal: 730ms\tremaining: 187ms\n",
            "796:\tlearn: 0.3752534\ttotal: 731ms\tremaining: 186ms\n",
            "797:\tlearn: 0.3752380\ttotal: 732ms\tremaining: 185ms\n",
            "798:\tlearn: 0.3751713\ttotal: 733ms\tremaining: 184ms\n",
            "799:\tlearn: 0.3751241\ttotal: 733ms\tremaining: 183ms\n",
            "800:\tlearn: 0.3750172\ttotal: 735ms\tremaining: 182ms\n",
            "801:\tlearn: 0.3749790\ttotal: 735ms\tremaining: 182ms\n",
            "802:\tlearn: 0.3749052\ttotal: 737ms\tremaining: 181ms\n",
            "803:\tlearn: 0.3747785\ttotal: 739ms\tremaining: 180ms\n",
            "804:\tlearn: 0.3747393\ttotal: 740ms\tremaining: 179ms\n",
            "805:\tlearn: 0.3746920\ttotal: 742ms\tremaining: 179ms\n",
            "806:\tlearn: 0.3746600\ttotal: 744ms\tremaining: 178ms\n",
            "807:\tlearn: 0.3746300\ttotal: 745ms\tremaining: 177ms\n",
            "808:\tlearn: 0.3746144\ttotal: 746ms\tremaining: 176ms\n",
            "809:\tlearn: 0.3745898\ttotal: 747ms\tremaining: 175ms\n",
            "810:\tlearn: 0.3745148\ttotal: 748ms\tremaining: 174ms\n",
            "811:\tlearn: 0.3744891\ttotal: 749ms\tremaining: 173ms\n",
            "812:\tlearn: 0.3744664\ttotal: 750ms\tremaining: 172ms\n",
            "813:\tlearn: 0.3744324\ttotal: 751ms\tremaining: 172ms\n",
            "814:\tlearn: 0.3744075\ttotal: 751ms\tremaining: 171ms\n",
            "815:\tlearn: 0.3743972\ttotal: 752ms\tremaining: 170ms\n",
            "816:\tlearn: 0.3743556\ttotal: 753ms\tremaining: 169ms\n",
            "817:\tlearn: 0.3743418\ttotal: 754ms\tremaining: 168ms\n",
            "818:\tlearn: 0.3742722\ttotal: 757ms\tremaining: 167ms\n",
            "819:\tlearn: 0.3742118\ttotal: 759ms\tremaining: 167ms\n",
            "820:\tlearn: 0.3742022\ttotal: 760ms\tremaining: 166ms\n",
            "821:\tlearn: 0.3741694\ttotal: 761ms\tremaining: 165ms\n",
            "822:\tlearn: 0.3740560\ttotal: 762ms\tremaining: 164ms\n",
            "823:\tlearn: 0.3740149\ttotal: 763ms\tremaining: 163ms\n",
            "824:\tlearn: 0.3739820\ttotal: 764ms\tremaining: 162ms\n",
            "825:\tlearn: 0.3739704\ttotal: 764ms\tremaining: 161ms\n",
            "826:\tlearn: 0.3739135\ttotal: 765ms\tremaining: 160ms\n",
            "827:\tlearn: 0.3738739\ttotal: 766ms\tremaining: 159ms\n",
            "828:\tlearn: 0.3738605\ttotal: 767ms\tremaining: 158ms\n",
            "829:\tlearn: 0.3738310\ttotal: 768ms\tremaining: 157ms\n",
            "830:\tlearn: 0.3737892\ttotal: 769ms\tremaining: 156ms\n",
            "831:\tlearn: 0.3737437\ttotal: 770ms\tremaining: 155ms\n",
            "832:\tlearn: 0.3737240\ttotal: 771ms\tremaining: 155ms\n",
            "833:\tlearn: 0.3737112\ttotal: 772ms\tremaining: 154ms\n",
            "834:\tlearn: 0.3736972\ttotal: 773ms\tremaining: 153ms\n",
            "835:\tlearn: 0.3736764\ttotal: 774ms\tremaining: 152ms\n",
            "836:\tlearn: 0.3736737\ttotal: 774ms\tremaining: 151ms\n",
            "837:\tlearn: 0.3736561\ttotal: 775ms\tremaining: 150ms\n",
            "838:\tlearn: 0.3736312\ttotal: 776ms\tremaining: 149ms\n",
            "839:\tlearn: 0.3735985\ttotal: 777ms\tremaining: 148ms\n",
            "840:\tlearn: 0.3735724\ttotal: 778ms\tremaining: 147ms\n",
            "841:\tlearn: 0.3734638\ttotal: 779ms\tremaining: 146ms\n",
            "842:\tlearn: 0.3734513\ttotal: 780ms\tremaining: 145ms\n",
            "843:\tlearn: 0.3734166\ttotal: 781ms\tremaining: 144ms\n",
            "844:\tlearn: 0.3734000\ttotal: 782ms\tremaining: 143ms\n",
            "845:\tlearn: 0.3733866\ttotal: 783ms\tremaining: 142ms\n",
            "846:\tlearn: 0.3733000\ttotal: 784ms\tremaining: 142ms\n",
            "847:\tlearn: 0.3732849\ttotal: 784ms\tremaining: 141ms\n",
            "848:\tlearn: 0.3732400\ttotal: 785ms\tremaining: 140ms\n",
            "849:\tlearn: 0.3731889\ttotal: 786ms\tremaining: 139ms\n",
            "850:\tlearn: 0.3731769\ttotal: 787ms\tremaining: 138ms\n",
            "851:\tlearn: 0.3731153\ttotal: 788ms\tremaining: 137ms\n",
            "852:\tlearn: 0.3730706\ttotal: 789ms\tremaining: 136ms\n",
            "853:\tlearn: 0.3730511\ttotal: 793ms\tremaining: 136ms\n",
            "854:\tlearn: 0.3730371\ttotal: 794ms\tremaining: 135ms\n",
            "855:\tlearn: 0.3729989\ttotal: 795ms\tremaining: 134ms\n",
            "856:\tlearn: 0.3729851\ttotal: 796ms\tremaining: 133ms\n",
            "857:\tlearn: 0.3729158\ttotal: 797ms\tremaining: 132ms\n",
            "858:\tlearn: 0.3728566\ttotal: 798ms\tremaining: 131ms\n",
            "859:\tlearn: 0.3728220\ttotal: 799ms\tremaining: 130ms\n",
            "860:\tlearn: 0.3727990\ttotal: 800ms\tremaining: 129ms\n",
            "861:\tlearn: 0.3727331\ttotal: 801ms\tremaining: 128ms\n",
            "862:\tlearn: 0.3726941\ttotal: 802ms\tremaining: 127ms\n",
            "863:\tlearn: 0.3726410\ttotal: 803ms\tremaining: 126ms\n",
            "864:\tlearn: 0.3726296\ttotal: 807ms\tremaining: 126ms\n",
            "865:\tlearn: 0.3726194\ttotal: 811ms\tremaining: 125ms\n",
            "866:\tlearn: 0.3725838\ttotal: 812ms\tremaining: 125ms\n",
            "867:\tlearn: 0.3725724\ttotal: 813ms\tremaining: 124ms\n",
            "868:\tlearn: 0.3725616\ttotal: 815ms\tremaining: 123ms\n",
            "869:\tlearn: 0.3725303\ttotal: 816ms\tremaining: 122ms\n",
            "870:\tlearn: 0.3725176\ttotal: 817ms\tremaining: 121ms\n",
            "871:\tlearn: 0.3724983\ttotal: 818ms\tremaining: 120ms\n",
            "872:\tlearn: 0.3724856\ttotal: 819ms\tremaining: 119ms\n",
            "873:\tlearn: 0.3724638\ttotal: 820ms\tremaining: 118ms\n",
            "874:\tlearn: 0.3724524\ttotal: 821ms\tremaining: 117ms\n",
            "875:\tlearn: 0.3724270\ttotal: 822ms\tremaining: 116ms\n",
            "876:\tlearn: 0.3724149\ttotal: 823ms\tremaining: 115ms\n",
            "877:\tlearn: 0.3724032\ttotal: 823ms\tremaining: 114ms\n",
            "878:\tlearn: 0.3723766\ttotal: 824ms\tremaining: 113ms\n",
            "879:\tlearn: 0.3723530\ttotal: 825ms\tremaining: 113ms\n",
            "880:\tlearn: 0.3723303\ttotal: 826ms\tremaining: 112ms\n",
            "881:\tlearn: 0.3723005\ttotal: 827ms\tremaining: 111ms\n",
            "882:\tlearn: 0.3722873\ttotal: 828ms\tremaining: 110ms\n",
            "883:\tlearn: 0.3722536\ttotal: 829ms\tremaining: 109ms\n",
            "884:\tlearn: 0.3722419\ttotal: 830ms\tremaining: 108ms\n",
            "885:\tlearn: 0.3722202\ttotal: 831ms\tremaining: 107ms\n",
            "886:\tlearn: 0.3721560\ttotal: 832ms\tremaining: 106ms\n",
            "887:\tlearn: 0.3721190\ttotal: 833ms\tremaining: 105ms\n",
            "888:\tlearn: 0.3720773\ttotal: 834ms\tremaining: 104ms\n",
            "889:\tlearn: 0.3720338\ttotal: 835ms\tremaining: 103ms\n",
            "890:\tlearn: 0.3719947\ttotal: 835ms\tremaining: 102ms\n",
            "891:\tlearn: 0.3719296\ttotal: 837ms\tremaining: 101ms\n",
            "892:\tlearn: 0.3718981\ttotal: 838ms\tremaining: 100ms\n",
            "893:\tlearn: 0.3718879\ttotal: 838ms\tremaining: 99.4ms\n",
            "894:\tlearn: 0.3718261\ttotal: 839ms\tremaining: 98.5ms\n",
            "895:\tlearn: 0.3718142\ttotal: 840ms\tremaining: 97.5ms\n",
            "896:\tlearn: 0.3718036\ttotal: 841ms\tremaining: 96.6ms\n",
            "897:\tlearn: 0.3717420\ttotal: 842ms\tremaining: 95.7ms\n",
            "898:\tlearn: 0.3717101\ttotal: 843ms\tremaining: 94.7ms\n",
            "899:\tlearn: 0.3716622\ttotal: 844ms\tremaining: 93.8ms\n",
            "900:\tlearn: 0.3716501\ttotal: 845ms\tremaining: 92.8ms\n",
            "901:\tlearn: 0.3716403\ttotal: 846ms\tremaining: 91.9ms\n",
            "902:\tlearn: 0.3716290\ttotal: 847ms\tremaining: 91ms\n",
            "903:\tlearn: 0.3715762\ttotal: 848ms\tremaining: 90ms\n",
            "904:\tlearn: 0.3715661\ttotal: 849ms\tremaining: 89.1ms\n",
            "905:\tlearn: 0.3715313\ttotal: 850ms\tremaining: 88.1ms\n",
            "906:\tlearn: 0.3714814\ttotal: 851ms\tremaining: 87.2ms\n",
            "907:\tlearn: 0.3714710\ttotal: 851ms\tremaining: 86.3ms\n",
            "908:\tlearn: 0.3714266\ttotal: 852ms\tremaining: 85.3ms\n",
            "909:\tlearn: 0.3713786\ttotal: 853ms\tremaining: 84.4ms\n",
            "910:\tlearn: 0.3713308\ttotal: 854ms\tremaining: 83.5ms\n",
            "911:\tlearn: 0.3713199\ttotal: 855ms\tremaining: 82.5ms\n",
            "912:\tlearn: 0.3712828\ttotal: 856ms\tremaining: 81.6ms\n",
            "913:\tlearn: 0.3712528\ttotal: 857ms\tremaining: 80.7ms\n",
            "914:\tlearn: 0.3711819\ttotal: 858ms\tremaining: 79.7ms\n",
            "915:\tlearn: 0.3711446\ttotal: 859ms\tremaining: 78.8ms\n",
            "916:\tlearn: 0.3711245\ttotal: 860ms\tremaining: 77.8ms\n",
            "917:\tlearn: 0.3710637\ttotal: 861ms\tremaining: 76.9ms\n",
            "918:\tlearn: 0.3710368\ttotal: 862ms\tremaining: 76ms\n",
            "919:\tlearn: 0.3710257\ttotal: 863ms\tremaining: 75ms\n",
            "920:\tlearn: 0.3709949\ttotal: 864ms\tremaining: 74.1ms\n",
            "921:\tlearn: 0.3709853\ttotal: 864ms\tremaining: 73.1ms\n",
            "922:\tlearn: 0.3709258\ttotal: 865ms\tremaining: 72.2ms\n",
            "923:\tlearn: 0.3708870\ttotal: 866ms\tremaining: 71.2ms\n",
            "924:\tlearn: 0.3708758\ttotal: 867ms\tremaining: 70.3ms\n",
            "925:\tlearn: 0.3708535\ttotal: 868ms\tremaining: 69.4ms\n",
            "926:\tlearn: 0.3708455\ttotal: 869ms\tremaining: 68.4ms\n",
            "927:\tlearn: 0.3708283\ttotal: 870ms\tremaining: 67.5ms\n",
            "928:\tlearn: 0.3707785\ttotal: 871ms\tremaining: 66.6ms\n",
            "929:\tlearn: 0.3707678\ttotal: 872ms\tremaining: 65.6ms\n",
            "930:\tlearn: 0.3707450\ttotal: 873ms\tremaining: 64.7ms\n",
            "931:\tlearn: 0.3707181\ttotal: 874ms\tremaining: 63.7ms\n",
            "932:\tlearn: 0.3706998\ttotal: 875ms\tremaining: 62.8ms\n",
            "933:\tlearn: 0.3706886\ttotal: 875ms\tremaining: 61.9ms\n",
            "934:\tlearn: 0.3706803\ttotal: 876ms\tremaining: 60.9ms\n",
            "935:\tlearn: 0.3706397\ttotal: 877ms\tremaining: 60ms\n",
            "936:\tlearn: 0.3705742\ttotal: 878ms\tremaining: 59ms\n",
            "937:\tlearn: 0.3705251\ttotal: 879ms\tremaining: 58.1ms\n",
            "938:\tlearn: 0.3705047\ttotal: 880ms\tremaining: 57.2ms\n",
            "939:\tlearn: 0.3704684\ttotal: 881ms\tremaining: 56.2ms\n",
            "940:\tlearn: 0.3704542\ttotal: 882ms\tremaining: 55.3ms\n",
            "941:\tlearn: 0.3703832\ttotal: 883ms\tremaining: 54.3ms\n",
            "942:\tlearn: 0.3703340\ttotal: 884ms\tremaining: 53.4ms\n",
            "943:\tlearn: 0.3703057\ttotal: 884ms\tremaining: 52.5ms\n",
            "944:\tlearn: 0.3702705\ttotal: 885ms\tremaining: 51.5ms\n",
            "945:\tlearn: 0.3702240\ttotal: 886ms\tremaining: 50.6ms\n",
            "946:\tlearn: 0.3701884\ttotal: 887ms\tremaining: 49.7ms\n",
            "947:\tlearn: 0.3701694\ttotal: 888ms\tremaining: 48.7ms\n",
            "948:\tlearn: 0.3701599\ttotal: 889ms\tremaining: 47.8ms\n",
            "949:\tlearn: 0.3701498\ttotal: 890ms\tremaining: 46.8ms\n",
            "950:\tlearn: 0.3701414\ttotal: 891ms\tremaining: 45.9ms\n",
            "951:\tlearn: 0.3701014\ttotal: 892ms\tremaining: 45ms\n",
            "952:\tlearn: 0.3700924\ttotal: 893ms\tremaining: 44ms\n",
            "953:\tlearn: 0.3700708\ttotal: 894ms\tremaining: 43.1ms\n",
            "954:\tlearn: 0.3700379\ttotal: 895ms\tremaining: 42.2ms\n",
            "955:\tlearn: 0.3700287\ttotal: 896ms\tremaining: 41.2ms\n",
            "956:\tlearn: 0.3699948\ttotal: 896ms\tremaining: 40.3ms\n",
            "957:\tlearn: 0.3699837\ttotal: 897ms\tremaining: 39.3ms\n",
            "958:\tlearn: 0.3699684\ttotal: 898ms\tremaining: 38.4ms\n",
            "959:\tlearn: 0.3699456\ttotal: 899ms\tremaining: 37.5ms\n",
            "960:\tlearn: 0.3699001\ttotal: 900ms\tremaining: 36.5ms\n",
            "961:\tlearn: 0.3698753\ttotal: 901ms\tremaining: 35.6ms\n",
            "962:\tlearn: 0.3698172\ttotal: 902ms\tremaining: 34.7ms\n",
            "963:\tlearn: 0.3697842\ttotal: 903ms\tremaining: 33.7ms\n",
            "964:\tlearn: 0.3697222\ttotal: 904ms\tremaining: 32.8ms\n",
            "965:\tlearn: 0.3696792\ttotal: 905ms\tremaining: 31.8ms\n",
            "966:\tlearn: 0.3696702\ttotal: 906ms\tremaining: 30.9ms\n",
            "967:\tlearn: 0.3696556\ttotal: 907ms\tremaining: 30ms\n",
            "968:\tlearn: 0.3696285\ttotal: 908ms\tremaining: 29ms\n",
            "969:\tlearn: 0.3696208\ttotal: 908ms\tremaining: 28.1ms\n",
            "970:\tlearn: 0.3695999\ttotal: 909ms\tremaining: 27.2ms\n",
            "971:\tlearn: 0.3695889\ttotal: 910ms\tremaining: 26.2ms\n",
            "972:\tlearn: 0.3695578\ttotal: 911ms\tremaining: 25.3ms\n",
            "973:\tlearn: 0.3695202\ttotal: 912ms\tremaining: 24.3ms\n",
            "974:\tlearn: 0.3695130\ttotal: 913ms\tremaining: 23.4ms\n",
            "975:\tlearn: 0.3694928\ttotal: 914ms\tremaining: 22.5ms\n",
            "976:\tlearn: 0.3694482\ttotal: 915ms\tremaining: 21.5ms\n",
            "977:\tlearn: 0.3693951\ttotal: 916ms\tremaining: 20.6ms\n",
            "978:\tlearn: 0.3693859\ttotal: 917ms\tremaining: 19.7ms\n",
            "979:\tlearn: 0.3693768\ttotal: 918ms\tremaining: 18.7ms\n",
            "980:\tlearn: 0.3693668\ttotal: 919ms\tremaining: 17.8ms\n",
            "981:\tlearn: 0.3693500\ttotal: 919ms\tremaining: 16.9ms\n",
            "982:\tlearn: 0.3693102\ttotal: 920ms\tremaining: 15.9ms\n",
            "983:\tlearn: 0.3692918\ttotal: 921ms\tremaining: 15ms\n",
            "984:\tlearn: 0.3692599\ttotal: 922ms\tremaining: 14ms\n",
            "985:\tlearn: 0.3692520\ttotal: 923ms\tremaining: 13.1ms\n",
            "986:\tlearn: 0.3692421\ttotal: 925ms\tremaining: 12.2ms\n",
            "987:\tlearn: 0.3691901\ttotal: 926ms\tremaining: 11.2ms\n",
            "988:\tlearn: 0.3691709\ttotal: 927ms\tremaining: 10.3ms\n",
            "989:\tlearn: 0.3691493\ttotal: 928ms\tremaining: 9.38ms\n",
            "990:\tlearn: 0.3690587\ttotal: 929ms\tremaining: 8.44ms\n",
            "991:\tlearn: 0.3690410\ttotal: 930ms\tremaining: 7.5ms\n",
            "992:\tlearn: 0.3689974\ttotal: 931ms\tremaining: 6.56ms\n",
            "993:\tlearn: 0.3689641\ttotal: 932ms\tremaining: 5.62ms\n",
            "994:\tlearn: 0.3689373\ttotal: 933ms\tremaining: 4.69ms\n",
            "995:\tlearn: 0.3688867\ttotal: 934ms\tremaining: 3.75ms\n",
            "996:\tlearn: 0.3688768\ttotal: 935ms\tremaining: 2.81ms\n",
            "997:\tlearn: 0.3688594\ttotal: 936ms\tremaining: 1.87ms\n",
            "998:\tlearn: 0.3688194\ttotal: 936ms\tremaining: 937us\n",
            "999:\tlearn: 0.3687880\ttotal: 937ms\tremaining: 0us\n"
          ]
        },
        {
          "output_type": "execute_result",
          "data": {
            "text/plain": [
              "<catboost.core.CatBoostClassifier at 0x78767e88f4d0>"
            ]
          },
          "metadata": {},
          "execution_count": 540
        }
      ]
    },
    {
      "cell_type": "markdown",
      "source": [
        "Качество на train и на test:"
      ],
      "metadata": {
        "id": "NHIQ-PcotY7M"
      }
    },
    {
      "cell_type": "code",
      "source": [
        "y_pred = ctc.predict(X_test)\n",
        "\n",
        "train_accuracy = accuracy_score(ctc.predict(X_train), y_train)\n",
        "test_accuracy = accuracy_score(y_test, y_pred)\n",
        "print(f\"train accuracy = {train_accuracy:.4f}, test accuracy = {test_accuracy:.4f}\")"
      ],
      "metadata": {
        "colab": {
          "base_uri": "https://localhost:8080/"
        },
        "outputId": "e172779e-9f30-4a0f-fc3c-b80217ec2f17",
        "id": "U6qPq88ctuMJ"
      },
      "execution_count": 541,
      "outputs": [
        {
          "output_type": "stream",
          "name": "stdout",
          "text": [
            "train accuracy = 0.8498, test accuracy = 0.7917\n"
          ]
        }
      ]
    },
    {
      "cell_type": "markdown",
      "source": [
        "# Подготовка тестовых данных и формирование ответов"
      ],
      "metadata": {
        "id": "9NNBjXGxuL0X"
      }
    },
    {
      "cell_type": "markdown",
      "source": [
        "## Подготовка тестовых данных"
      ],
      "metadata": {
        "id": "Vi3kuwGmuS-v"
      }
    },
    {
      "cell_type": "markdown",
      "source": [
        "Далее повторим все те же действия, что и при подготовке тренировочных данных."
      ],
      "metadata": {
        "id": "H3Iek0nwuWhs"
      }
    },
    {
      "cell_type": "markdown",
      "source": [
        "Загрузка тестовых данных"
      ],
      "metadata": {
        "id": "ns7nJxERusFW"
      }
    },
    {
      "cell_type": "code",
      "source": [
        "test_data = pd.read_csv(\"./game_of_thrones_test.csv\", index_col=\"S.No\")"
      ],
      "metadata": {
        "id": "MKUPrZ7HurgE"
      },
      "execution_count": 585,
      "outputs": []
    },
    {
      "cell_type": "markdown",
      "source": [
        "Удаление ненужных столбцов:"
      ],
      "metadata": {
        "id": "BBgLd2Vuuhba"
      }
    },
    {
      "cell_type": "code",
      "source": [
        "test_data.drop(columns=[\"name\", \"dateOfBirth\", \"isAliveSpouse\", \"isAliveFather\", \"isAliveMother\", \"isAliveHeir\", \"isAliveFather\", \"title\"], inplace=True)\n",
        "test_data.drop(columns=[\"culture\", \"spouse\", \"book2\", \"book3\", \"book5\", \"isMarried\", \"isNoble\"], inplace=True)"
      ],
      "metadata": {
        "id": "8-1PBTJaugpr"
      },
      "execution_count": 586,
      "outputs": []
    },
    {
      "cell_type": "markdown",
      "source": [
        "Обработка столбцов:"
      ],
      "metadata": {
        "id": "RqMKx38bvMUF"
      }
    },
    {
      "cell_type": "code",
      "source": [
        "test_data[\"mother\"] = test_data[\"mother\"].apply(lambda x: 1 if type(x) == str else 0)\n",
        "\n",
        "test_data[\"father\"] = test_data[\"father\"].apply(lambda x: 1 if type(x) == str else 0)\n",
        "\n",
        "test_data[\"heir\"] = test_data[\"heir\"].apply(lambda x: 1 if type(x) == str else 0)\n",
        "\n",
        "test_data[\"house\"].fillna(\"does not belong\", inplace=True)\n",
        "test_data[\"house\"] = test_data[\"house\"].apply(lambda x: x if x in [\"does not belong\", \"Night's Watch\", \"House Stark\", \"House Targaryen\", \"House Lannister\", \"House Greyjoy\"] else \"others houses\")\n",
        "test_data[\"house\"] = label_encoding.fit_transform(test_data[\"house\"])\n",
        "\n",
        "test_data[\"age\"] = test_data[\"age\"].apply(lambda x: x // 10 * 10 if not(pd.isna(x)) else -1)\n",
        "\n",
        "test_data[\"numDeadRelations\"] = test_data[\"numDeadRelations\"].apply(lambda x: 1 if x > 0 else 0)\n",
        "test_data.rename(columns={\"numDeadRelations\": \"boolDeadRelations\"}, inplace=True)\n",
        "\n",
        "test_data[\"popularity\"] = test_data[\"popularity\"].apply(lambda x: 1 if x > 0.5 else 0)\n",
        "test_data.rename(columns={\"popularity\": \"isPopular\"}, inplace=True)"
      ],
      "metadata": {
        "id": "f-bC9-5Aud_W"
      },
      "execution_count": 587,
      "outputs": []
    },
    {
      "cell_type": "markdown",
      "source": [
        "Нормализация данных:"
      ],
      "metadata": {
        "id": "edKxnwcfxpuc"
      }
    },
    {
      "cell_type": "code",
      "source": [
        "min_max_scl = MinMaxScaler()\n",
        "\n",
        "X = min_max_scl.fit_transform(test_data)"
      ],
      "metadata": {
        "id": "XRLmdeiVxtDV"
      },
      "execution_count": 588,
      "outputs": []
    },
    {
      "cell_type": "markdown",
      "source": [
        "## Вычисление ответов и их сохранение"
      ],
      "metadata": {
        "id": "C3TCWgLFyD97"
      }
    },
    {
      "cell_type": "markdown",
      "source": [
        "В ответ будем отправлять предсказания дерева решений."
      ],
      "metadata": {
        "id": "N19vdkTuyHwz"
      }
    },
    {
      "cell_type": "markdown",
      "source": [
        "Вычисление ответов:"
      ],
      "metadata": {
        "id": "4BpNETh_yRno"
      }
    },
    {
      "cell_type": "code",
      "source": [
        "y_pred = pd.Series(dtc.predict(X), name=\"isAlive\")"
      ],
      "metadata": {
        "id": "fFn9KPEYyUL0"
      },
      "execution_count": 604,
      "outputs": []
    },
    {
      "cell_type": "markdown",
      "source": [
        "Сохранение ответов:"
      ],
      "metadata": {
        "id": "iK3fn_0oybJy"
      }
    },
    {
      "cell_type": "code",
      "source": [
        "pd.Series(y_pred).to_csv(\"./submission.csv\", index=False)"
      ],
      "metadata": {
        "id": "OtkBFYR7yeJY"
      },
      "execution_count": 605,
      "outputs": []
    }
  ]
}